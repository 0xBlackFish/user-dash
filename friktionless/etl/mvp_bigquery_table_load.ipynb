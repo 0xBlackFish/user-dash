{
 "cells": [
  {
   "cell_type": "code",
   "execution_count": 1,
   "id": "2ca059f5-e417-42f6-b6cd-eabb5adcf8d4",
   "metadata": {},
   "outputs": [],
   "source": [
    "import pandas as pd\n",
    "from google.cloud import bigquery\n",
    "from datetime import date\n"
   ]
  },
  {
   "cell_type": "code",
   "execution_count": 16,
   "id": "197367a2-0e3b-4103-a87d-c8635eacfc71",
   "metadata": {},
   "outputs": [
    {
     "name": "stdout",
     "output_type": "stream",
     "text": [
      "loading to bigquery\n",
      "Loaded 825190 rows.\n"
     ]
    }
   ],
   "source": [
    "    # load it bigquery\n",
    "print('loading to bigquery')\n",
    "# Construct a BigQuery client object.\n",
    "client = bigquery.Client()\n",
    "\n",
    "# Set table_id to the ID of the table to create.\n",
    "table_id = \"lyrical-amulet-337502.users.friktion_users\"\n",
    "\n",
    "user_table_schema = [\n",
    "    bigquery.SchemaField(\"user_address\", \"STRING\", mode=\"REQUIRED\"),\n",
    "    bigquery.SchemaField(\"as_of_date\", \"DATE\", mode=\"REQUIRED\"),\n",
    "    # bigquery.SchemaField(\"sol_balance\", \"FLOAT64\", mode=\"REQUIRED\"),\n",
    "    # bigquery.SchemaField(\"ever_lightning_og_holder\", \"BOOL\"),\n",
    "    # bigquery.SchemaField(\"is_lightning_og_holder\", \"BOOL\"),\n",
    "    # bigquery.SchemaField(\"nummber_lightning_ogs_held\", \"INT64\"),\n",
    "    bigquery.SchemaField(\"total_value_locked_USD\", \"FLOAT64\"),\n",
    "    bigquery.SchemaField(\"total_deposits_usd\", \"FLOAT64\"),\n",
    "    bigquery.SchemaField(\"total_withdrawals_usd\", \"FLOAT64\"),\n",
    "    bigquery.SchemaField(\"tvl_delta_30_day\", \"FLOAT64\"),\n",
    "    bigquery.SchemaField(\"tvl_delta_60_day\", \"FLOAT64\"),\n",
    "    bigquery.SchemaField(\"tvl_delta_90_day\", \"FLOAT64\"),\n",
    "    bigquery.SchemaField(\"first_deposit_date\", \"DATE\"),\n",
    "    bigquery.SchemaField(\"first_deposit_epoch\", \"INT64\", mode=\"REPEATED\"),\n",
    "    bigquery.SchemaField(\"first_deposit_amount\", \"FLOAT64\"),\n",
    "    bigquery.SchemaField(\"first_deposit_token\", \"STRING\", mode=\"REPEATED\"),\n",
    "    bigquery.SchemaField(\"last_deposit_date\", \"DATE\"),\n",
    "    bigquery.SchemaField(\"last_deposit_epoch\", \"INT64\", mode='REPEATED'),\n",
    "    bigquery.SchemaField(\"last_deposit_amt\", \"FLOAT64\"),\n",
    "    bigquery.SchemaField(\"last_deposit_token\", \"STRING\", mode='REPEATED'),\n",
    "    bigquery.SchemaField(\"days_since_last_deposit\", \"INT64\"),\n",
    "    bigquery.SchemaField(\"first_withdrawal_date\", \"DATE\"),\n",
    "    bigquery.SchemaField(\"first_withdrawal_epoch\", \"INT64\", mode='REPEATED'),\n",
    "    bigquery.SchemaField(\"first_withdrawal_amount\", \"FLOAT64\"),\n",
    "    bigquery.SchemaField(\"first_withdrawal_token\", \"STRING\", mode='REPEATED'),\n",
    "    bigquery.SchemaField(\"last_withdrawal_date\", \"DATE\"),\n",
    "    bigquery.SchemaField(\"last_withdrawal_epoch\", \"INT64\", mode='REPEATED'),\n",
    "    bigquery.SchemaField(\"last_withdrawal_amt\", \"FLOAT64\"),\n",
    "    bigquery.SchemaField(\"last_withdrawal_token\", \"STRING\", mode='REPEATED'),\n",
    "    bigquery.SchemaField(\"has_churned\", \"BOOL\"),\n",
    "    bigquery.SchemaField(\"churn_date\", \"DATE\"),\n",
    "]\n",
    "\n",
    "#configure the job - schema and source format\n",
    "job_config = bigquery.LoadJobConfig(\n",
    "    schema=user_table_schema,\n",
    "    source_format=bigquery.SourceFormat.NEWLINE_DELIMITED_JSON,\n",
    "    write_disposition=bigquery.WriteDisposition.WRITE_TRUNCATE,\n",
    ")\n",
    "uri = \"gs://friktion-users-prod/user-*.json\"\n",
    "\n",
    "load_job = client.load_table_from_uri(\n",
    "    uri,\n",
    "    table_id,\n",
    "    location=\"US\",  # Must match the destination dataset location.\n",
    "    job_config=job_config,\n",
    ")  # Make an API request.\n",
    "\n",
    "load_job.result()  # Waits for the job to complete.\n",
    "\n",
    "destination_table = client.get_table(table_id)\n",
    "print(\"Loaded {} rows.\".format(destination_table.num_rows))"
   ]
  },
  {
   "cell_type": "code",
   "execution_count": 17,
   "id": "7d75a7da-3d3b-4cf6-b1d5-90e795eab17a",
   "metadata": {},
   "outputs": [],
   "source": [
    "load_job.errors"
   ]
  }
 ],
 "metadata": {
  "environment": {
   "kernel": "python3",
   "name": "common-cpu.m91",
   "type": "gcloud",
   "uri": "gcr.io/deeplearning-platform-release/base-cpu:m91"
  },
  "kernelspec": {
   "display_name": "Python 3",
   "language": "python",
   "name": "python3"
  },
  "language_info": {
   "codemirror_mode": {
    "name": "ipython",
    "version": 3
   },
   "file_extension": ".py",
   "mimetype": "text/x-python",
   "name": "python",
   "nbconvert_exporter": "python",
   "pygments_lexer": "ipython3",
   "version": "3.7.12"
  }
 },
 "nbformat": 4,
 "nbformat_minor": 5
}
