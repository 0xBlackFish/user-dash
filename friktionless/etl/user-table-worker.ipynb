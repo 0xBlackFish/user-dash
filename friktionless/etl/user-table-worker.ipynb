{
 "cells": [
  {
   "cell_type": "code",
   "execution_count": 1,
   "id": "6d927280-2b39-4a9f-8e03-3db1a10fec78",
   "metadata": {},
   "outputs": [
    {
     "name": "stderr",
     "output_type": "stream",
     "text": [
      "/opt/conda/lib/python3.7/site-packages/ipykernel_launcher.py:4: FutureWarning: Using .astype to convert from timezone-aware dtype to timezone-naive dtype is deprecated and will raise in a future version.  Use obj.tz_localize(None) or obj.tz_convert('UTC').tz_localize(None) instead\n",
      "  after removing the cwd from sys.path.\n"
     ]
    },
    {
     "data": {
      "application/vnd.jupyter.widget-view+json": {
       "model_id": "6a3bcf1dc82b4a35ba5fe9cec642d137",
       "version_major": 2,
       "version_minor": 0
      },
      "text/plain": [
       "0it [00:00, ?it/s]"
      ]
     },
     "metadata": {},
     "output_type": "display_data"
    }
   ],
   "source": [
    "import pandas as pd\n",
    "from tqdm.notebook import tqdm, tnrange\n",
    "\n",
    "user_first_deposits_df = pd.read_json('user_first_deposits_part_14.json', orient='records', lines=True, dtype={'first_deposit_date': 'datetime64[ns]'}, convert_dates=['first_deposit_date'])\n",
    "\n",
    "max_date_df = pd.read_gbq(query='(select max(date(deposit_initiated_ts)) from `transactions.fact_deposits`)')\n",
    "max_date = max_date_df.iloc[0,0]\n",
    "\n",
    "_user_table_script_query = None\n",
    "\n",
    "with open('user_table_sript.sql', 'r') as f:\n",
    "    _user_table_script_query = f.read()\n",
    "    \n",
    "def collect_and_write_user_table(user_address, first_deposit_date, max_date):\n",
    "    from google.cloud import bigquery\n",
    "\n",
    "    # Construct a BigQuery client object.\n",
    "    client = bigquery.Client()\n",
    "\n",
    "    # Run a SQL script.\n",
    "    sql_script = _user_table_script_query\n",
    "    \n",
    "    job_config = bigquery.QueryJobConfig(\n",
    "        query_parameters=[\n",
    "            bigquery.ScalarQueryParameter(\"user_address\", \"STRING\", user_address),\n",
    "            bigquery.ScalarQueryParameter(\"first_deposit_dt\", \"DATE\", first_deposit_date),\n",
    "            bigquery.ScalarQueryParameter(\"max_date\", \"DATE\", max_date)\n",
    "        ]\n",
    "    )\n",
    "\n",
    "    parent_job = client.query(sql_script, job_config=job_config)\n",
    "\n",
    "    # Wait for the whole script to finish.\n",
    "    rows_iterable = parent_job.result()\n",
    "    # print(\"Script created {} child jobs.\".format(parent_job.num_child_jobs))\n",
    "\n",
    "    # Fetch result rows for the final sub-job in the script.\n",
    "    rows = list(rows_iterable)\n",
    "    \n",
    "    print_true = (len(rows) > abs((user_first_deposits_df.first_deposit_date.min().date() - max_date).days)+1)\n",
    "    \n",
    "    if print_true:\n",
    "        print(\n",
    "            f'{len(rows)} rows of user data were collected for user {user_address}'\n",
    "            )\n",
    "\n",
    "\n",
    "    # Fetch jobs created by the SQL script.\n",
    "    child_jobs_iterable = client.list_jobs(parent_job=parent_job)\n",
    "    for child_job in child_jobs_iterable:\n",
    "        child_rows = list(child_job.result())\n",
    "        # print(\n",
    "        #     \"Child job with ID {} produced {} row(s).\".format(\n",
    "        #         child_job.job_id, len(child_rows)\n",
    "        #     )\n",
    "        # )\n",
    "        \n",
    "    user_df = None\n",
    "    for job in client.list_jobs(parent_job=parent_job):\n",
    "        user_df = client.get_job(job.job_id).to_dataframe().sort_values('as_of_date')\n",
    "        break\n",
    "    \n",
    "    user_df.to_json(f'gcs://friktion-users-prod/user-{user_address}.json', orient='records', date_format='iso', lines=True, date_unit='s')\n",
    "    if print_true:\n",
    "        print(f'Written to gcs://friktion-users-prod/user-{user_address}.json')\n",
    "        \n",
    "for row in tqdm(user_first_deposits_df.itertuples()):\n",
    "    collect_and_write_user_table(row.user_address, row.first_deposit_date.date(), max_date)"
   ]
  }
 ],
 "metadata": {
  "environment": {
   "kernel": "python3",
   "name": "common-cpu.m91",
   "type": "gcloud",
   "uri": "gcr.io/deeplearning-platform-release/base-cpu:m91"
  },
  "kernelspec": {
   "display_name": "Python 3",
   "language": "python",
   "name": "python3"
  },
  "language_info": {
   "codemirror_mode": {
    "name": "ipython",
    "version": 3
   },
   "file_extension": ".py",
   "mimetype": "text/x-python",
   "name": "python",
   "nbconvert_exporter": "python",
   "pygments_lexer": "ipython3",
   "version": "3.7.12"
  }
 },
 "nbformat": 4,
 "nbformat_minor": 5
}
