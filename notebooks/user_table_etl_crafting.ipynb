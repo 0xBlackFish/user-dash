{
 "cells": [
  {
   "cell_type": "code",
   "execution_count": 257,
   "id": "1a6c677c-d582-4fbd-af6a-e45ea19415b4",
   "metadata": {},
   "outputs": [],
   "source": [
    "import pandas as pd"
   ]
  },
  {
   "cell_type": "code",
   "execution_count": 160,
   "id": "131039fb-b6ca-4cff-8749-01049c3a71ea",
   "metadata": {},
   "outputs": [],
   "source": [
    "dates = pd.read_gbq(\n",
    "    query='select distinct date(deposit_initiated_ts) as date from transactions.fact_deposits',\n",
    "    project_id='friktion-dev'\n",
    "    )"
   ]
  },
  {
   "cell_type": "code",
   "execution_count": 161,
   "id": "c549be69-5b87-4f3a-aea0-50beba1bfbc5",
   "metadata": {},
   "outputs": [
    {
     "data": {
      "text/html": [
       "<div>\n",
       "<style scoped>\n",
       "    .dataframe tbody tr th:only-of-type {\n",
       "        vertical-align: middle;\n",
       "    }\n",
       "\n",
       "    .dataframe tbody tr th {\n",
       "        vertical-align: top;\n",
       "    }\n",
       "\n",
       "    .dataframe thead th {\n",
       "        text-align: right;\n",
       "    }\n",
       "</style>\n",
       "<table border=\"1\" class=\"dataframe\">\n",
       "  <thead>\n",
       "    <tr style=\"text-align: right;\">\n",
       "      <th></th>\n",
       "      <th>date</th>\n",
       "    </tr>\n",
       "  </thead>\n",
       "  <tbody>\n",
       "    <tr>\n",
       "      <th>count</th>\n",
       "      <td>99</td>\n",
       "    </tr>\n",
       "    <tr>\n",
       "      <th>unique</th>\n",
       "      <td>99</td>\n",
       "    </tr>\n",
       "    <tr>\n",
       "      <th>top</th>\n",
       "      <td>2021-12-26</td>\n",
       "    </tr>\n",
       "    <tr>\n",
       "      <th>freq</th>\n",
       "      <td>1</td>\n",
       "    </tr>\n",
       "  </tbody>\n",
       "</table>\n",
       "</div>"
      ],
      "text/plain": [
       "              date\n",
       "count           99\n",
       "unique          99\n",
       "top     2021-12-26\n",
       "freq             1"
      ]
     },
     "execution_count": 161,
     "metadata": {},
     "output_type": "execute_result"
    }
   ],
   "source": [
    "dates.describe()"
   ]
  },
  {
   "cell_type": "code",
   "execution_count": 162,
   "id": "e7d17fbb-e54a-425e-a0ee-01741ba3efe5",
   "metadata": {},
   "outputs": [],
   "source": [
    "users = pd.read_gbq(\n",
    "    query='select distinct(user_address) as user_address from transactions.fact_deposits')"
   ]
  },
  {
   "cell_type": "code",
   "execution_count": 163,
   "id": "a4eb3e37-3f2e-4ec2-a0d3-5bcfd8bdcc9a",
   "metadata": {},
   "outputs": [
    {
     "data": {
      "text/html": [
       "<div>\n",
       "<style scoped>\n",
       "    .dataframe tbody tr th:only-of-type {\n",
       "        vertical-align: middle;\n",
       "    }\n",
       "\n",
       "    .dataframe tbody tr th {\n",
       "        vertical-align: top;\n",
       "    }\n",
       "\n",
       "    .dataframe thead th {\n",
       "        text-align: right;\n",
       "    }\n",
       "</style>\n",
       "<table border=\"1\" class=\"dataframe\">\n",
       "  <thead>\n",
       "    <tr style=\"text-align: right;\">\n",
       "      <th></th>\n",
       "      <th>user_address</th>\n",
       "    </tr>\n",
       "  </thead>\n",
       "  <tbody>\n",
       "    <tr>\n",
       "      <th>count</th>\n",
       "      <td>12426</td>\n",
       "    </tr>\n",
       "    <tr>\n",
       "      <th>unique</th>\n",
       "      <td>12426</td>\n",
       "    </tr>\n",
       "    <tr>\n",
       "      <th>top</th>\n",
       "      <td>FrrrZWDn7pCMiGoh35PVZbP8uV2n5nFFJx3uFuyKty2R</td>\n",
       "    </tr>\n",
       "    <tr>\n",
       "      <th>freq</th>\n",
       "      <td>1</td>\n",
       "    </tr>\n",
       "  </tbody>\n",
       "</table>\n",
       "</div>"
      ],
      "text/plain": [
       "                                        user_address\n",
       "count                                          12426\n",
       "unique                                         12426\n",
       "top     FrrrZWDn7pCMiGoh35PVZbP8uV2n5nFFJx3uFuyKty2R\n",
       "freq                                               1"
      ]
     },
     "execution_count": 163,
     "metadata": {},
     "output_type": "execute_result"
    }
   ],
   "source": [
    "users.describe()"
   ]
  },
  {
   "cell_type": "code",
   "execution_count": 164,
   "id": "dd1fc45e-472e-441a-a78c-ac1dac019dbb",
   "metadata": {},
   "outputs": [],
   "source": [
    "user_first_deposits_dates = pd.read_gbq(\n",
    "    query='select user_address, min(date(deposit_initiated_ts)) as first_deposit_dt from transactions.fact_deposits group by user_address')"
   ]
  },
  {
   "cell_type": "code",
   "execution_count": 165,
   "id": "ed631615-073f-49dc-9db4-b47096548dce",
   "metadata": {},
   "outputs": [
    {
     "data": {
      "text/html": [
       "<div>\n",
       "<style scoped>\n",
       "    .dataframe tbody tr th:only-of-type {\n",
       "        vertical-align: middle;\n",
       "    }\n",
       "\n",
       "    .dataframe tbody tr th {\n",
       "        vertical-align: top;\n",
       "    }\n",
       "\n",
       "    .dataframe thead th {\n",
       "        text-align: right;\n",
       "    }\n",
       "</style>\n",
       "<table border=\"1\" class=\"dataframe\">\n",
       "  <thead>\n",
       "    <tr style=\"text-align: right;\">\n",
       "      <th></th>\n",
       "      <th>user_address</th>\n",
       "      <th>first_deposit_dt</th>\n",
       "    </tr>\n",
       "  </thead>\n",
       "  <tbody>\n",
       "    <tr>\n",
       "      <th>count</th>\n",
       "      <td>12426</td>\n",
       "      <td>12426</td>\n",
       "    </tr>\n",
       "    <tr>\n",
       "      <th>unique</th>\n",
       "      <td>12426</td>\n",
       "      <td>99</td>\n",
       "    </tr>\n",
       "    <tr>\n",
       "      <th>top</th>\n",
       "      <td>G3fVq24iJjqidFCqbmQqPWvfGvRWzqAyzZFH8iJPjEnP</td>\n",
       "      <td>2022-03-30</td>\n",
       "    </tr>\n",
       "    <tr>\n",
       "      <th>freq</th>\n",
       "      <td>1</td>\n",
       "      <td>2160</td>\n",
       "    </tr>\n",
       "  </tbody>\n",
       "</table>\n",
       "</div>"
      ],
      "text/plain": [
       "                                        user_address first_deposit_dt\n",
       "count                                          12426            12426\n",
       "unique                                         12426               99\n",
       "top     G3fVq24iJjqidFCqbmQqPWvfGvRWzqAyzZFH8iJPjEnP       2022-03-30\n",
       "freq                                               1             2160"
      ]
     },
     "execution_count": 165,
     "metadata": {},
     "output_type": "execute_result"
    }
   ],
   "source": [
    "user_first_deposits_dates.describe()"
   ]
  },
  {
   "cell_type": "code",
   "execution_count": 166,
   "id": "d8d18a3c-1b42-4ddf-a083-3c9cb1da9b1e",
   "metadata": {},
   "outputs": [
    {
     "data": {
      "text/plain": [
       "'FrrrZWDn7pCMiGoh35PVZbP8uV2n5nFFJx3uFuyKty2R'"
      ]
     },
     "execution_count": 166,
     "metadata": {},
     "output_type": "execute_result"
    }
   ],
   "source": [
    "users.iloc[0][0]"
   ]
  },
  {
   "cell_type": "code",
   "execution_count": 168,
   "id": "08b1a4db-9bed-4240-97eb-b80c9082c826",
   "metadata": {},
   "outputs": [
    {
     "data": {
      "text/html": [
       "<div>\n",
       "<style scoped>\n",
       "    .dataframe tbody tr th:only-of-type {\n",
       "        vertical-align: middle;\n",
       "    }\n",
       "\n",
       "    .dataframe tbody tr th {\n",
       "        vertical-align: top;\n",
       "    }\n",
       "\n",
       "    .dataframe thead th {\n",
       "        text-align: right;\n",
       "    }\n",
       "</style>\n",
       "<table border=\"1\" class=\"dataframe\">\n",
       "  <thead>\n",
       "    <tr style=\"text-align: right;\">\n",
       "      <th></th>\n",
       "      <th>user_address</th>\n",
       "      <th>first_deposit_dt</th>\n",
       "    </tr>\n",
       "  </thead>\n",
       "  <tbody>\n",
       "    <tr>\n",
       "      <th>1863</th>\n",
       "      <td>FrrrZWDn7pCMiGoh35PVZbP8uV2n5nFFJx3uFuyKty2R</td>\n",
       "      <td>2021-12-26</td>\n",
       "    </tr>\n",
       "  </tbody>\n",
       "</table>\n",
       "</div>"
      ],
      "text/plain": [
       "                                      user_address first_deposit_dt\n",
       "1863  FrrrZWDn7pCMiGoh35PVZbP8uV2n5nFFJx3uFuyKty2R       2021-12-26"
      ]
     },
     "execution_count": 168,
     "metadata": {},
     "output_type": "execute_result"
    }
   ],
   "source": [
    "user_first_deposits_dates[user_first_deposits_dates['user_address'].str.contains(users.iloc[0][0])]"
   ]
  },
  {
   "cell_type": "code",
   "execution_count": 73,
   "id": "61d99b42-689b-4aeb-847f-b668be162178",
   "metadata": {},
   "outputs": [],
   "source": [
    "# eventuall you'll iterate through this activity of making a user table per userAddress and then unioning together with all the others"
   ]
  },
  {
   "cell_type": "code",
   "execution_count": 171,
   "id": "38cbec5f-e33f-451b-99a3-4809ed4c2d1c",
   "metadata": {},
   "outputs": [
    {
     "data": {
      "text/plain": [
       "(12426, 2)"
      ]
     },
     "execution_count": 171,
     "metadata": {},
     "output_type": "execute_result"
    }
   ],
   "source": [
    "user_first_deposits_dates.shape"
   ]
  },
  {
   "cell_type": "code",
   "execution_count": 200,
   "id": "f8a50c8a-2d7b-4859-be70-a1f15c906d3a",
   "metadata": {},
   "outputs": [],
   "source": [
    "# to make this iterate through all users increment the first value in the iloc call\n",
    "# for index in xrange(user_first_deposits_dates.shape[0]):\n",
    "index = 3\n",
    "current_user_address = user_first_deposits_dates.iloc[index,:]['user_address']\n",
    "user_first_deposit_date = user_first_deposits_dates.iloc[index,:]['first_deposit_dt']"
   ]
  },
  {
   "cell_type": "code",
   "execution_count": 201,
   "id": "6cf7a65a-e31d-48ec-bb5b-298ccf80cfc9",
   "metadata": {
    "tags": []
   },
   "outputs": [],
   "source": [
    "user_deposit_table = pd.DataFrame(columns=['user_address', 'as_of_date', 'total_value_locked_USD', 'total_deposited_USD', 'total_withdrawn_USD', \\\n",
    "                                           'tvl_delta_30_days', 'tvl_delta_60_days', 'tvl_delta_90_days', \\\n",
    "                                           'tvl_delta_1_epoch', 'tvl_delta_2_epoch', \\\n",
    "                                           'tvl_delta_3_epoch', 'tvl_delta_4_epoch', 'tvl_delta5_epoch', \\\n",
    "                                           'first_deposit_date', 'first_deposit_epoch', 'first_deposit_amount', 'first_deposit_token', \\\n",
    "                                           'last_deposit_date', 'last_deposit_epoch', 'last_deposit_amount', 'last_deposit_token', \\\n",
    "                                           'days_since_last_deposit', 'epochs_since_last_deposit', \\\n",
    "                                           'first_withdrawal_date', 'first_withdrawal_epoch', 'first_withdrawal_amount', 'first_withdrawal_token', \\\n",
    "                                           'last_withdrawal_date', 'last_withdrawal_epoch', 'last_withdrawal_amount', 'last_withdrawal_token', \\\n",
    "                                           'has_churned', 'churn_date', 'churn_epoch'])"
   ]
  },
  {
   "cell_type": "markdown",
   "id": "e1e03886-3c40-4cc8-b139-d5d4a23182a4",
   "metadata": {},
   "source": [
    "### asOfDate"
   ]
  },
  {
   "cell_type": "code",
   "execution_count": 202,
   "id": "c87acc0a-ab92-43e0-a0d7-00165df0b98c",
   "metadata": {},
   "outputs": [
    {
     "data": {
      "text/plain": [
       "datetime.date(2021, 12, 30)"
      ]
     },
     "execution_count": 202,
     "metadata": {},
     "output_type": "execute_result"
    }
   ],
   "source": [
    "user_first_deposit_date"
   ]
  },
  {
   "cell_type": "code",
   "execution_count": 203,
   "id": "2fa5980a-bbf1-4287-a389-ef450db18dd3",
   "metadata": {},
   "outputs": [
    {
     "data": {
      "text/plain": [
       "5     2021-12-30\n",
       "4     2021-12-31\n",
       "9     2022-01-01\n",
       "13    2022-01-02\n",
       "10    2022-01-03\n",
       "         ...    \n",
       "98    2022-03-28\n",
       "94    2022-03-29\n",
       "92    2022-03-30\n",
       "93    2022-03-31\n",
       "95    2022-04-01\n",
       "Name: date, Length: 93, dtype: dbdate"
      ]
     },
     "execution_count": 203,
     "metadata": {},
     "output_type": "execute_result"
    }
   ],
   "source": [
    "dates[dates['date'].apply(lambda x: x>=user_first_deposit_date)].sort_values('date').iloc[:,0]"
   ]
  },
  {
   "cell_type": "code",
   "execution_count": 204,
   "id": "2c6fbeaf-6f57-4e3e-8b08-181e160a0782",
   "metadata": {},
   "outputs": [],
   "source": [
    "user_deposit_table['as_of_date'] = dates[dates['date'].apply(lambda x: x>=user_first_deposit_date)].sort_values('date').iloc[:,0]"
   ]
  },
  {
   "cell_type": "markdown",
   "id": "80a709e4-a7d1-448e-905d-a2d11f836da7",
   "metadata": {},
   "source": [
    "### userAddress"
   ]
  },
  {
   "cell_type": "code",
   "execution_count": 205,
   "id": "d51f1f49-f522-4d34-a450-c1ce716d1562",
   "metadata": {},
   "outputs": [],
   "source": [
    "user_deposit_table['user_address'] = current_user_address"
   ]
  },
  {
   "cell_type": "markdown",
   "id": "57075aad-1066-4a63-8399-25e3e9a2fd9b",
   "metadata": {},
   "source": [
    "### totalValueDepositedUSD\n",
    "TODO: Add logic to covert to USD"
   ]
  },
  {
   "cell_type": "markdown",
   "id": "f67eb22e-fa8e-4715-a4a4-976428f335a6",
   "metadata": {},
   "source": [
    "#### inner loop logic"
   ]
  },
  {
   "cell_type": "code",
   "execution_count": 213,
   "id": "3bf2e058-a73a-4085-8a38-dba2a610756d",
   "metadata": {},
   "outputs": [
    {
     "data": {
      "text/plain": [
       "93"
      ]
     },
     "execution_count": 213,
     "metadata": {},
     "output_type": "execute_result"
    }
   ],
   "source": [
    "user_deposit_table.shape[0]"
   ]
  },
  {
   "cell_type": "code",
   "execution_count": 214,
   "id": "578f9d94-a968-460e-b7fe-888961b9f747",
   "metadata": {},
   "outputs": [],
   "source": [
    "user_deposit_table.index = range(user_deposit_table.shape[0])"
   ]
  },
  {
   "cell_type": "code",
   "execution_count": 215,
   "id": "92a6ff01-87f6-453b-985c-f9ae8b7eb938",
   "metadata": {},
   "outputs": [
    {
     "data": {
      "text/html": [
       "<div>\n",
       "<style scoped>\n",
       "    .dataframe tbody tr th:only-of-type {\n",
       "        vertical-align: middle;\n",
       "    }\n",
       "\n",
       "    .dataframe tbody tr th {\n",
       "        vertical-align: top;\n",
       "    }\n",
       "\n",
       "    .dataframe thead th {\n",
       "        text-align: right;\n",
       "    }\n",
       "</style>\n",
       "<table border=\"1\" class=\"dataframe\">\n",
       "  <thead>\n",
       "    <tr style=\"text-align: right;\">\n",
       "      <th></th>\n",
       "      <th>total_deposited</th>\n",
       "    </tr>\n",
       "  </thead>\n",
       "  <tbody>\n",
       "    <tr>\n",
       "      <th>0</th>\n",
       "      <td>0.060406</td>\n",
       "    </tr>\n",
       "  </tbody>\n",
       "</table>\n",
       "</div>"
      ],
      "text/plain": [
       "   total_deposited\n",
       "0         0.060406"
      ]
     },
     "execution_count": 215,
     "metadata": {},
     "output_type": "execute_result"
    }
   ],
   "source": [
    "query_date = user_deposit_table['as_of_date'][0].isoformat()\n",
    "pd.read_gbq(query=f\"select sum(deposit_initiated_amt) as total_deposited from transactions.fact_deposits where user_address=\\'{current_user_address}\\' and date(deposit_initiated_ts) <= date(\\'{query_date}\\')\")"
   ]
  },
  {
   "cell_type": "code",
   "execution_count": 216,
   "id": "36cd3cc9-a879-422b-8388-a118bc018f33",
   "metadata": {},
   "outputs": [],
   "source": [
    "# need to add market marking code\n",
    "user_deposit_table['total_deposited_USD'] = [pd.read_gbq(query=f\"select sum(deposit_initiated_amt) as total_deposited from transactions.fact_deposits where user_address=\\'{current_user_address}\\' and date(deposit_initiated_ts) <= date(\\'{query_date}\\')\").iloc[0,0] for query_date in user_deposit_table['as_of_date'].tolist()]"
   ]
  },
  {
   "cell_type": "markdown",
   "id": "ce13ec75-a6ed-4f41-9022-e4ef4eeac47f",
   "metadata": {},
   "source": [
    "### totalValueWithdrawnUSD\n",
    "TODO: Add logic to convert to USD"
   ]
  },
  {
   "cell_type": "code",
   "execution_count": 222,
   "id": "0f0062f9-abf7-4eda-aa60-56ed2acdc974",
   "metadata": {},
   "outputs": [
    {
     "data": {
      "text/plain": [
       "0.0"
      ]
     },
     "execution_count": 222,
     "metadata": {},
     "output_type": "execute_result"
    }
   ],
   "source": [
    "query_date = user_deposit_table['as_of_date'][0].isoformat()\n",
    "pd.read_gbq(query=f\"select sum(withdrawal_initiated_amt) as total_withdrawn from transactions.fact_withdrawals where user_address=\\'{current_user_address}\\' and date(withdrawal_initiated_ts) <= date(\\'{query_date}\\')\").fillna(0).iloc[0,0]"
   ]
  },
  {
   "cell_type": "code",
   "execution_count": 228,
   "id": "06d32b85-eba8-4d94-8587-a08721820155",
   "metadata": {},
   "outputs": [],
   "source": [
    "# need to add market marking code\n",
    "# will need to change to the usd amount from the trans tables in prod\n",
    "user_deposit_table['total_withdrawn_USD'] = [pd.read_gbq(query=f\"select sum(withdrawal_initiated_amt) as total_withdrawn from transactions.fact_withdrawals where user_address=\\'{current_user_address}\\' and date(withdrawal_initiated_ts) <= date(\\'{query_date}\\')\").fillna(0).iloc[0,0] for query_date in user_deposit_table['as_of_date'].tolist()]"
   ]
  },
  {
   "cell_type": "markdown",
   "id": "646b7bef-9229-42f8-9217-3c7c7e53cf48",
   "metadata": {},
   "source": [
    "### totalValueLockedUSD"
   ]
  },
  {
   "cell_type": "code",
   "execution_count": 229,
   "id": "2ae13d41-f256-45d5-bc42-467795551fa0",
   "metadata": {},
   "outputs": [],
   "source": [
    "user_deposit_table['total_value_locked_USD'] = user_deposit_table['total_deposited_USD'] - user_deposit_table['total_withdrawn_USD']"
   ]
  },
  {
   "cell_type": "markdown",
   "id": "f787bea5-5259-4d3e-a46a-4e8a1dae444d",
   "metadata": {},
   "source": [
    "### firstDepositDate"
   ]
  },
  {
   "cell_type": "code",
   "execution_count": 231,
   "id": "c08af4d6-94d9-4df9-b0f1-3d56fa961840",
   "metadata": {},
   "outputs": [],
   "source": [
    "user_deposit_table['first_deposit_date'] =  user_first_deposit_date"
   ]
  },
  {
   "cell_type": "markdown",
   "id": "96e9c331-a716-4de4-8a4c-7e5df6ec8fbc",
   "metadata": {},
   "source": [
    "### firstDepositEpoch"
   ]
  },
  {
   "cell_type": "code",
   "execution_count": 237,
   "id": "594701ce-80ea-468d-b420-7f14763e12c3",
   "metadata": {},
   "outputs": [],
   "source": [
    "user_deposit_table['first_deposit_epoch'] = pd.read_gbq(query=f'select deposit_initiated_epoch from transactions.fact_deposits where date(deposit_initiated_ts) = \\'{user_first_deposit_date}\\'')"
   ]
  },
  {
   "cell_type": "markdown",
   "id": "0dd932d0-6a2b-408e-8bd9-008ef4e5c02a",
   "metadata": {},
   "source": [
    "### firstDepositAmount"
   ]
  },
  {
   "cell_type": "code",
   "execution_count": 241,
   "id": "ae66fea1-cf0a-42d7-99b4-cc4c39f2b7bd",
   "metadata": {},
   "outputs": [],
   "source": [
    "user_deposit_table['first_deposit_amount'] = pd.read_gbq(query=f'select sum(deposit_initiated_amt) from transactions.fact_deposits where user_address = \\'{current_user_address}\\' and date(deposit_initiated_ts) = \\'{user_first_deposit_date.isoformat()}\\'').iloc[0,0]"
   ]
  },
  {
   "cell_type": "markdown",
   "id": "994deb6f-b30d-4026-9413-40a25debc215",
   "metadata": {},
   "source": [
    "### firstDepositToken"
   ]
  },
  {
   "cell_type": "code",
   "execution_count": 242,
   "id": "54250adc-75f7-4391-8fa6-171f4fcc2ee7",
   "metadata": {},
   "outputs": [],
   "source": [
    "user_deposit_table['first_deposit_token'] = pd.read_gbq(query=f'select deposited_asset from transactions.fact_deposits where user_address = \\'{current_user_address}\\' and date(deposit_initiated_ts) = \\'{user_first_deposit_date.isoformat()}\\'').iloc[0,0]"
   ]
  },
  {
   "cell_type": "markdown",
   "id": "1f1d617f-a50d-4d9a-9813-886a9d7c1fcb",
   "metadata": {},
   "source": [
    "### tvlDelta30Days"
   ]
  },
  {
   "cell_type": "code",
   "execution_count": 249,
   "id": "b297a6ab-e3be-488a-90c1-5b77e4681567",
   "metadata": {},
   "outputs": [
    {
     "data": {
      "text/html": [
       "<div>\n",
       "<style scoped>\n",
       "    .dataframe tbody tr th:only-of-type {\n",
       "        vertical-align: middle;\n",
       "    }\n",
       "\n",
       "    .dataframe tbody tr th {\n",
       "        vertical-align: top;\n",
       "    }\n",
       "\n",
       "    .dataframe thead th {\n",
       "        text-align: right;\n",
       "    }\n",
       "</style>\n",
       "<table border=\"1\" class=\"dataframe\">\n",
       "  <thead>\n",
       "    <tr style=\"text-align: right;\">\n",
       "      <th></th>\n",
       "      <th>user_address</th>\n",
       "      <th>deposits</th>\n",
       "    </tr>\n",
       "  </thead>\n",
       "  <tbody>\n",
       "    <tr>\n",
       "      <th>0</th>\n",
       "      <td>D8ayPyamAg1yWyqCeG3u2L2fY2r6XmxfS8fdjf4wA1qx</td>\n",
       "      <td>18.060406</td>\n",
       "    </tr>\n",
       "  </tbody>\n",
       "</table>\n",
       "</div>"
      ],
      "text/plain": [
       "                                   user_address   deposits\n",
       "0  D8ayPyamAg1yWyqCeG3u2L2fY2r6XmxfS8fdjf4wA1qx  18.060406"
      ]
     },
     "execution_count": 249,
     "metadata": {},
     "output_type": "execute_result"
    }
   ],
   "source": [
    "current_as_of_date = user_deposit_table['as_of_date'].iloc[3]\n",
    "\n",
    "# we can also perform this logic with GBQ SQL\n",
    "#      DATE_ADD(DATE \"2022-01-19\", INTERVAL 30 DAY)\n",
    "window_end_date = current_as_of_date - datetime.timedelta(30)\n",
    "\n",
    "q = f'\\\n",
    "    with window_deposits as \\\n",
    "         (select user_address, IFNULL(sum(deposit_initiated_amt), 0.0) as deposits \\\n",
    "         from transactions.fact_deposits \\\n",
    "         where user_address = \\'{current_user_address}\\' \\\n",
    "         and date(deposit_initiated_ts) between \\'{window_end_date.isoformat()}\\' and \\'{current_as_of_date.isoformat()}\\'\\\n",
    "         group by user_address) \\\n",
    "    select * from window_deposits'\n",
    "\n",
    "r = pd.read_gbq(query=q)\n",
    "r"
   ]
  },
  {
   "cell_type": "code",
   "execution_count": 251,
   "id": "cfecd838-dd79-4549-8d30-997f184ec617",
   "metadata": {
    "tags": []
   },
   "outputs": [],
   "source": [
    "tvl_list = []\n",
    "for table_date in user_deposit_table['as_of_date']:\n",
    "    current_as_of_date = table_date\n",
    "    # we can also perform this logic with GBQ SQL\n",
    "    #      DATE_ADD(DATE \"2022-01-19\", INTERVAL -30 DAY)\n",
    "    window_end_date = current_as_of_date - datetime.timedelta(30)\n",
    "    window_delta = pd.read_gbq(query=f'\\\n",
    "        with window_deposits as \\\n",
    "         (select user_address, IFNULL(sum(deposit_initiated_amt), 0.0) as deposits \\\n",
    "         from transactions.fact_deposits \\\n",
    "         where user_address = \\'{current_user_address}\\' \\\n",
    "         and date(deposit_initiated_ts) between \\'{window_end_date}\\' and \\'{current_as_of_date.isoformat()}\\'\\\n",
    "             group by user_address) \\\n",
    "        , window_withdrawals as \\\n",
    "            (select user_address, sum(withdrawal_initiated_amt) as withdrawals \\\n",
    "            from transactions.fact_withdrawals \\\n",
    "            where user_address = \\'{current_user_address}\\' \\\n",
    "            and date(withdrawal_initiated_ts) between \\'{window_end_date}\\' and \\'{current_as_of_date.isoformat()}\\'\\\n",
    "            group by user_address) \\\n",
    "        select \\\n",
    "             IFNULL(deposits, 0.0) - IFNULL(withdrawals, 0.0) \\\n",
    "        from window_deposits wd\\\n",
    "        left join window_withdrawals ww on wd.user_address = ww.user_address \\\n",
    "        ')\n",
    "    if window_delta.empty:\n",
    "        # print(window_end_date, current_as_of_date)\n",
    "        # print(table_date, window_delta.empty)\n",
    "        tvl_list.append(0.0)\n",
    "    else:\n",
    "        # print(window_end_date, current_as_of_date)\n",
    "        # print(window_delta)\n",
    "        # print(table_date, window_delta.iloc[0,0])\n",
    "        tvl_list.append(window_delta.iloc[0,0])\n",
    "    \n",
    "user_deposit_table['tvl_delta_30_days'] = tvl_list"
   ]
  },
  {
   "cell_type": "markdown",
   "id": "f71cba56-d790-4910-b0fb-eefb5261aa12",
   "metadata": {},
   "source": [
    "### tvlDelta60Days"
   ]
  },
  {
   "cell_type": "code",
   "execution_count": 254,
   "id": "399dcee9-69b5-4ef3-8d24-906322e28b19",
   "metadata": {},
   "outputs": [],
   "source": [
    "tvl_list = []\n",
    "for table_date in user_deposit_table['as_of_date']:\n",
    "    current_as_of_date = table_date\n",
    "    # we can also perform this logic with GBQ SQL\n",
    "    #      DATE_ADD(DATE \"2022-01-19\", INTERVAL -30 DAY)\n",
    "    window_end_date = current_as_of_date - datetime.timedelta(60)\n",
    "    window_delta = pd.read_gbq(query=f'\\\n",
    "        with window_deposits as \\\n",
    "         (select user_address, IFNULL(sum(deposit_initiated_amt), 0.0) as deposits \\\n",
    "         from transactions.fact_deposits \\\n",
    "         where user_address = \\'{current_user_address}\\' \\\n",
    "         and date(deposit_initiated_ts) between \\'{window_end_date}\\' and \\'{current_as_of_date.isoformat()}\\'\\\n",
    "             group by user_address) \\\n",
    "        , window_withdrawals as \\\n",
    "            (select user_address, sum(withdrawal_initiated_amt) as withdrawals \\\n",
    "            from transactions.fact_withdrawals \\\n",
    "            where user_address = \\'{current_user_address}\\' \\\n",
    "            and date(withdrawal_initiated_ts) between \\'{window_end_date}\\' and \\'{current_as_of_date.isoformat()}\\'\\\n",
    "            group by user_address) \\\n",
    "        select \\\n",
    "             IFNULL(deposits, 0.0) - IFNULL(withdrawals, 0.0) \\\n",
    "        from window_deposits wd\\\n",
    "        left join window_withdrawals ww on wd.user_address = ww.user_address \\\n",
    "        ')\n",
    "    if window_delta.empty:\n",
    "        # print(window_end_date, current_as_of_date)\n",
    "        # print(table_date, window_delta.empty)\n",
    "        tvl_list.append(0.0)\n",
    "    else:\n",
    "        # print(window_end_date, current_as_of_date)\n",
    "        # print(window_delta)\n",
    "        # print(table_date, window_delta.iloc[0,0])\n",
    "        tvl_list.append(window_delta.iloc[0,0])\n",
    "\n",
    "user_deposit_table['tvl_delta_60_days'] = tvl_list"
   ]
  },
  {
   "cell_type": "markdown",
   "id": "b213b3a4-c957-4fe7-a9dd-da3f0f634c70",
   "metadata": {},
   "source": [
    "### tvlDelta90Days"
   ]
  },
  {
   "cell_type": "code",
   "execution_count": 268,
   "id": "58deb710-5370-4174-b7ca-149d1a9b33c4",
   "metadata": {},
   "outputs": [],
   "source": [
    "tvl_list = []\n",
    "for table_date in user_deposit_table['as_of_date']:\n",
    "    current_as_of_date = table_date\n",
    "    # we can also perform this logic with GBQ SQL\n",
    "    #      DATE_ADD(DATE \"2022-01-19\", INTERVAL -30 DAY)\n",
    "    window_end_date = current_as_of_date - datetime.timedelta(90)\n",
    "    window_delta = pd.read_gbq(query=f'\\\n",
    "        with window_deposits as \\\n",
    "         (select user_address, IFNULL(sum(deposit_initiated_amt), 0.0) as deposits \\\n",
    "         from transactions.fact_deposits \\\n",
    "         where user_address = \\'{current_user_address}\\' \\\n",
    "         and date(deposit_initiated_ts) between \\'{window_end_date}\\' and \\'{current_as_of_date.isoformat()}\\'\\\n",
    "             group by user_address) \\\n",
    "        , window_withdrawals as \\\n",
    "            (select user_address, sum(withdrawal_initiated_amt) as withdrawals \\\n",
    "            from transactions.fact_withdrawals \\\n",
    "            where user_address = \\'{current_user_address}\\' \\\n",
    "            and date(withdrawal_initiated_ts) between \\'{window_end_date}\\' and \\'{current_as_of_date.isoformat()}\\'\\\n",
    "            group by user_address) \\\n",
    "        select \\\n",
    "             IFNULL(deposits, 0.0) - IFNULL(withdrawals, 0.0) \\\n",
    "        from window_deposits wd\\\n",
    "        left join window_withdrawals ww on wd.user_address = ww.user_address \\\n",
    "        ')\n",
    "    if window_delta.empty:\n",
    "        # print(window_end_date, current_as_of_date)\n",
    "        # print(table_date, window_delta.empty)\n",
    "        tvl_list.append(0.0)\n",
    "    else:\n",
    "        # print(window_end_date, current_as_of_date)\n",
    "        # print(window_delta)\n",
    "        # print(table_date, window_delta.iloc[0,0])\n",
    "        tvl_list.append(window_delta.iloc[0,0])\n",
    "    \n",
    "user_deposit_table['tvl_delta_90_days'] = tvl_list"
   ]
  },
  {
   "cell_type": "markdown",
   "id": "08b319dd-bf04-47b5-be1a-f440bb2c2313",
   "metadata": {},
   "source": [
    "### tvlDelta1Epoch"
   ]
  },
  {
   "cell_type": "markdown",
   "id": "492d1f60-ebf6-4470-ac3e-a6f5a723ce8d",
   "metadata": {},
   "source": [
    "### tvlDelta2Epoch"
   ]
  },
  {
   "cell_type": "markdown",
   "id": "6f20572a-935a-4c90-a6fa-57864c7341ab",
   "metadata": {},
   "source": [
    "### tvlDelta3Epoch"
   ]
  },
  {
   "cell_type": "markdown",
   "id": "25e64a7c-d17a-4b85-9471-f1ede3715177",
   "metadata": {},
   "source": [
    "### tvlDelta4Epoch"
   ]
  },
  {
   "cell_type": "markdown",
   "id": "904583a8-a36a-4b47-99c1-0738e4d741bd",
   "metadata": {},
   "source": [
    "### tvlDelta5Epoch"
   ]
  },
  {
   "cell_type": "markdown",
   "id": "4ce4ccd5-638e-443f-9807-a545022f3662",
   "metadata": {},
   "source": [
    "### lastDepositDate"
   ]
  },
  {
   "cell_type": "code",
   "execution_count": 284,
   "id": "cf52c0d9-6fb4-40be-94c4-1720cbdac9ed",
   "metadata": {},
   "outputs": [
    {
     "data": {
      "text/html": [
       "<div>\n",
       "<style scoped>\n",
       "    .dataframe tbody tr th:only-of-type {\n",
       "        vertical-align: middle;\n",
       "    }\n",
       "\n",
       "    .dataframe tbody tr th {\n",
       "        vertical-align: top;\n",
       "    }\n",
       "\n",
       "    .dataframe thead th {\n",
       "        text-align: right;\n",
       "    }\n",
       "</style>\n",
       "<table border=\"1\" class=\"dataframe\">\n",
       "  <thead>\n",
       "    <tr style=\"text-align: right;\">\n",
       "      <th></th>\n",
       "      <th>f0_</th>\n",
       "    </tr>\n",
       "  </thead>\n",
       "  <tbody>\n",
       "    <tr>\n",
       "      <th>0</th>\n",
       "      <td>2021-12-31</td>\n",
       "    </tr>\n",
       "  </tbody>\n",
       "</table>\n",
       "</div>"
      ],
      "text/plain": [
       "          f0_\n",
       "0  2021-12-31"
      ]
     },
     "execution_count": 284,
     "metadata": {},
     "output_type": "execute_result"
    }
   ],
   "source": [
    "pd.read_gbq(query=f'select max(date(deposit_initiated_ts)) from transactions.fact_deposits where user_address = \\'{current_user_address}\\' and date(deposit_initiated_ts) <= \\'{current_as_of_date}\\'')"
   ]
  },
  {
   "cell_type": "code",
   "execution_count": 285,
   "id": "b2c7b00f-4a24-473e-8c53-3b17f75056c7",
   "metadata": {},
   "outputs": [],
   "source": [
    "last_deposit_list = []\n",
    "\n",
    "for table_date in user_deposit_table['as_of_date']:\n",
    "    current_as_of_date = table_date\n",
    "    r = pd.read_gbq(query=f'select max(date(deposit_initiated_ts)) from transactions.fact_deposits where user_address = \\'{current_user_address}\\' and date(deposit_initiated_ts) <= \\'{current_as_of_date}\\'')\n",
    "    last_deposit_list.append(r.iloc[0,0])\n",
    "user_deposit_table['last_deposit_date'] = last_deposit_list"
   ]
  },
  {
   "cell_type": "markdown",
   "id": "1e676d9a-d0e7-4a89-97c5-d9acd6a5a512",
   "metadata": {},
   "source": [
    "### lastDepositEpoch"
   ]
  },
  {
   "cell_type": "code",
   "execution_count": 286,
   "id": "5896c4d4-4613-4435-89b2-57bde2f4c9e0",
   "metadata": {},
   "outputs": [],
   "source": [
    "last_deposit_epoch_list = []\n",
    "\n",
    "for table_date in user_deposit_table['as_of_date']:\n",
    "    current_as_of_date = table_date\n",
    "    r = pd.read_gbq(query=f'select max((deposit_initiated_epoch)) from transactions.fact_deposits where date(deposit_initiated_ts) <= \\'{current_as_of_date}\\'')\n",
    "    last_deposit_epoch_list.append(r.iloc[0,0])\n",
    "user_deposit_table['last_deposit_epoch'] = last_deposit_epoch_list"
   ]
  },
  {
   "cell_type": "markdown",
   "id": "d0063084-9324-430d-b7df-3c0b8838d979",
   "metadata": {},
   "source": [
    "### lastDepositAmount & lastDepositToken"
   ]
  },
  {
   "cell_type": "code",
   "execution_count": 303,
   "id": "4a8aedce-a02e-4576-a8a1-6f11752398d9",
   "metadata": {},
   "outputs": [],
   "source": [
    "last_deposit_amount_list = []\n",
    "last_deposit_token_list = []\n",
    "\n",
    "for table_date in user_deposit_table['last_deposit_date']:\n",
    "    r = pd.read_gbq(query=f'select deposited_asset, deposit_initiated_amt from transactions.fact_deposits where user_address = \\'{current_user_address}\\' and date(deposit_initiated_ts) = \\'{table_date}\\'')\n",
    "    \n",
    "    last_deposit_token_list.append(r.iloc[0,0])\n",
    "    last_deposit_amount_list.append(r.iloc[0,1])\n",
    "user_deposit_table['last_deposit_token'] = last_deposit_token_list\n",
    "user_deposit_table['last_deposit_amount'] = last_deposit_amount_list"
   ]
  },
  {
   "cell_type": "markdown",
   "id": "a85c1e43-41ab-409d-8533-90902228af91",
   "metadata": {},
   "source": [
    "### daysSinceLastDeposit"
   ]
  },
  {
   "cell_type": "code",
   "execution_count": 288,
   "id": "7083645b-2e7e-4725-b616-2ebf35c0cd50",
   "metadata": {},
   "outputs": [],
   "source": [
    "days_since_last_deposit_list = []\n",
    "for as_of_date, last_deposit_date in user_deposit_table[['as_of_date', 'last_deposit_date']].to_records(index=False).tolist():\n",
    "    days_since_last_deposit_list.append((as_of_date - last_deposit_date).days)\n",
    "user_deposit_table['days_since_last_deposit'] = days_since_last_deposit_list"
   ]
  },
  {
   "cell_type": "markdown",
   "id": "5be7ebbd-2238-4c58-93a8-871db5df6c03",
   "metadata": {},
   "source": [
    "### epochsSinceLastDeposit"
   ]
  },
  {
   "cell_type": "markdown",
   "id": "e25439ed-3e73-4167-a148-f07d9c1194db",
   "metadata": {},
   "source": [
    "### firstWithdrawalDate"
   ]
  },
  {
   "cell_type": "code",
   "execution_count": 270,
   "id": "fb335475-3cb8-4839-a6de-6638a3cf01d6",
   "metadata": {},
   "outputs": [],
   "source": [
    "r = pd.read_gbq(query=f'select min(date(withdrawal_initiated_ts)) from transactions.fact_withdrawals where user_address = \\'{current_user_address}\\'')\n",
    "if r.empty:\n",
    "    pass\n",
    "else:\n",
    "    user_deposit_table['first_withdrawal_date'] = r.iloc[0,0]"
   ]
  },
  {
   "cell_type": "markdown",
   "id": "0c3b0ec2-d3c6-4b81-ba33-4e681a889e0e",
   "metadata": {},
   "source": [
    "### firstWithdrawalEpoch"
   ]
  },
  {
   "cell_type": "code",
   "execution_count": 326,
   "id": "575aaa0e-0a0c-4bbe-bbf9-b4c4d92fd106",
   "metadata": {},
   "outputs": [],
   "source": [
    "first_withdrawal_date = user_deposit_table['first_withdrawal_date'].iloc[0]\n",
    "r = pd.read_gbq(query=f'select (withdrawal_initiated_epoch) from transactions.fact_withdrawals where date(withdrawal_initiated_ts) <= \\'{first_withdrawal_date}\\'')\n",
    "user_deposit_table['first_withdrawal_epoch'] = r.iloc[0,0]"
   ]
  },
  {
   "cell_type": "markdown",
   "id": "eab4effb-c051-4a9a-ac35-84d436b7d59a",
   "metadata": {},
   "source": [
    "### firstWithdrawalAmount & firstWithdrawalToken"
   ]
  },
  {
   "cell_type": "code",
   "execution_count": 272,
   "id": "75ad0214-b33e-4b95-9249-2277537302a8",
   "metadata": {},
   "outputs": [],
   "source": [
    "first_withdrawal_date = user_deposit_table['first_withdrawal_date'].iloc[0]\n",
    "r = pd.read_gbq(query=f'select deposited_asset, withdrawal_initiated_amt from transactions.fact_withdrawals where user_address = \\'{current_user_address}\\' and date(withdrawal_initiated_ts) = \\'{first_withdrawal_date}\\'')\n",
    "r\n",
    "user_deposit_table['first_withdrawal_token'] = r.iloc[0,0]\n",
    "user_deposit_table['first_withdrawal_amount'] = r.iloc[0,1]"
   ]
  },
  {
   "cell_type": "markdown",
   "id": "8a9f3d30-ed86-499d-92c4-70b6610085e7",
   "metadata": {},
   "source": [
    "### lastWithdrawalDate"
   ]
  },
  {
   "cell_type": "code",
   "execution_count": 273,
   "id": "644873f6-7685-4001-a1f7-40557483575a",
   "metadata": {},
   "outputs": [],
   "source": [
    "last_withdrawal_list = []\n",
    "\n",
    "for table_date in user_deposit_table['as_of_date']:\n",
    "    current_as_of_date = table_date\n",
    "    r = pd.read_gbq(query=f'select max(date(withdrawal_initiated_ts)) from transactions.fact_withdrawals where user_address = \\'{current_user_address}\\' and date(withdrawal_initiated_ts) <= \\'{current_as_of_date}\\'')\n",
    "    last_withdrawal_list.append(r.iloc[0,0])\n",
    "user_deposit_table['last_withdrawal_date'] = last_withdrawal_list"
   ]
  },
  {
   "cell_type": "markdown",
   "id": "e795732d-a54a-43b7-a973-c9536fb98a4d",
   "metadata": {},
   "source": [
    "### lastWithdrawalEpoch"
   ]
  },
  {
   "cell_type": "code",
   "execution_count": 338,
   "id": "edbb929c-b702-49cb-8633-42a88308bc5c",
   "metadata": {},
   "outputs": [
    {
     "name": "stdout",
     "output_type": "stream",
     "text": [
      "its false\n"
     ]
    }
   ],
   "source": [
    "if pd.isnull(user_deposit_table['last_withdrawal_date'].iloc[15]):\n",
    "    print('its true')\n",
    "else:\n",
    "    print('its false')"
   ]
  },
  {
   "cell_type": "code",
   "execution_count": 339,
   "id": "bb4c75aa-77ba-4401-ad9f-32bf23bc41b2",
   "metadata": {},
   "outputs": [],
   "source": [
    "last_withdrawal_epoch_list = []\n",
    "\n",
    "for table_date in user_deposit_table['last_withdrawal_date']:\n",
    "    if pd.isnull(table_date):\n",
    "        last_withdrawal_epoch_list.append(None)\n",
    "    else:\n",
    "        r = pd.read_gbq(query=f'select max((withdrawal_initiated_epoch)) from transactions.fact_withdrawals where user_address = \\'{current_user_address}\\' and date(withdrawal_initiated_ts) = \\'{table_date}\\'')\n",
    "        last_withdrawal_epoch_list.append(r.iloc[0,0])\n",
    "user_deposit_table['last_withdrawal_epoch'] = last_withdrawal_epoch_list"
   ]
  },
  {
   "cell_type": "markdown",
   "id": "f5c78c59-3928-4950-8da9-fec5293befa3",
   "metadata": {},
   "source": [
    "### lastWithdrawalAmount & lastWithdrawalToken"
   ]
  },
  {
   "cell_type": "code",
   "execution_count": 274,
   "id": "fd0986a7-9ca6-47fe-a4b8-34e6e6bac183",
   "metadata": {
    "collapsed": true,
    "jupyter": {
     "outputs_hidden": true
    },
    "tags": []
   },
   "outputs": [
    {
     "name": "stdout",
     "output_type": "stream",
     "text": [
      "NaT\n",
      "NaT\n",
      "NaT\n",
      "NaT\n",
      "NaT\n",
      "NaT\n",
      "NaT\n",
      "NaT\n",
      "NaT\n",
      "2022-01-08\n",
      "2022-01-08\n",
      "2022-01-08\n",
      "2022-01-08\n",
      "2022-01-08\n",
      "2022-01-08\n",
      "2022-01-08\n",
      "2022-01-08\n",
      "2022-01-08\n",
      "2022-01-08\n",
      "2022-01-08\n",
      "2022-01-08\n",
      "2022-01-08\n",
      "2022-01-08\n",
      "2022-01-08\n",
      "2022-01-08\n",
      "2022-01-08\n",
      "2022-01-08\n",
      "2022-01-08\n",
      "2022-01-08\n",
      "2022-01-08\n",
      "2022-01-08\n",
      "2022-01-08\n",
      "2022-01-08\n",
      "2022-01-08\n",
      "2022-01-08\n",
      "2022-01-08\n",
      "2022-01-08\n",
      "2022-01-08\n",
      "2022-01-08\n",
      "2022-01-08\n",
      "2022-01-08\n",
      "2022-01-08\n",
      "2022-01-08\n",
      "2022-01-08\n",
      "2022-01-08\n",
      "2022-01-08\n",
      "2022-01-08\n",
      "2022-01-08\n",
      "2022-01-08\n",
      "2022-01-08\n",
      "2022-01-08\n",
      "2022-01-08\n",
      "2022-01-08\n",
      "2022-01-08\n",
      "2022-01-08\n",
      "2022-01-08\n",
      "2022-01-08\n",
      "2022-01-08\n",
      "2022-01-08\n",
      "2022-01-08\n",
      "2022-01-08\n",
      "2022-01-08\n",
      "2022-01-08\n",
      "2022-01-08\n",
      "2022-01-08\n",
      "2022-01-08\n",
      "2022-01-08\n",
      "2022-01-08\n",
      "2022-01-08\n",
      "2022-01-08\n",
      "2022-01-08\n",
      "2022-01-08\n",
      "2022-01-08\n",
      "2022-01-08\n",
      "2022-01-08\n",
      "2022-01-08\n",
      "2022-01-08\n",
      "2022-01-08\n",
      "2022-01-08\n",
      "2022-01-08\n",
      "2022-01-08\n",
      "2022-01-08\n",
      "2022-01-08\n",
      "2022-01-08\n",
      "2022-01-08\n",
      "2022-01-08\n",
      "2022-01-08\n",
      "2022-01-08\n",
      "2022-01-08\n",
      "2022-01-08\n",
      "2022-01-08\n",
      "2022-01-08\n",
      "2022-01-08\n"
     ]
    }
   ],
   "source": [
    "last_withdrawal_amount_list = []\n",
    "last_withdrawal_token_list = []\n",
    "\n",
    "for table_date in user_deposit_table['last_withdrawal_date']:\n",
    "    current_as_of_date = table_date\n",
    "    # print(current_as_of_date)\n",
    "    if pd.isnull(current_as_of_date):\n",
    "        last_withdrawal_token_list.append(None)\n",
    "        last_withdrawal_amount_list.append(None)\n",
    "    else:\n",
    "        r = pd.read_gbq(query=f'select deposited_asset, withdrawal_initiated_amt from transactions.fact_withdrawals where user_address = \\'{current_user_address}\\' and date(withdrawal_initiated_ts) = \\'{current_as_of_date}\\'')\n",
    "\n",
    "        last_withdrawal_token_list.append(r.iloc[0,0])\n",
    "        last_withdrawal_amount_list.append(r.iloc[0,1])\n",
    "user_deposit_table['last_withdrawal_token'] = last_withdrawal_token_list\n",
    "user_deposit_table['last_withdrawal_amount'] = last_withdrawal_amount_list"
   ]
  },
  {
   "cell_type": "markdown",
   "id": "117e4162-c823-49d0-8731-d5967b7ee23e",
   "metadata": {},
   "source": [
    "### hasChurned"
   ]
  },
  {
   "cell_type": "code",
   "execution_count": 307,
   "id": "bb9497e4-746b-4166-9b2e-2996f1bbd527",
   "metadata": {},
   "outputs": [],
   "source": [
    "user_deposit_table['has_churned'] = (user_deposit_table['total_deposited_USD'] - user_deposit_table['total_withdrawn_USD']).apply(lambda x: x <= 0)"
   ]
  },
  {
   "cell_type": "markdown",
   "id": "9b0f6f99-120e-4caa-b32d-3463966a50c5",
   "metadata": {},
   "source": [
    "### churnDate"
   ]
  },
  {
   "cell_type": "code",
   "execution_count": 322,
   "id": "21d59fbd-adc9-4840-88c6-952ccbd8f1d5",
   "metadata": {},
   "outputs": [],
   "source": [
    "churn_state = user_deposit_table['has_churned'].tolist()\n",
    "if any(churn_state):\n",
    "    user_deposit_table['churn_date'] = None\n",
    "else:\n",
    "    churn_date_list = []\n",
    "\n",
    "    for index in range(len(churn_state)-1):\n",
    "        if index == 0:\n",
    "            churn_date_list.append(None)\n",
    "        if (churn_state[index-1] == False ) & (churn_state[index] == True):\n",
    "            churn_date_list.append(user_deposit_table['as_of_date'].iloc[index])\n",
    "        else:\n",
    "            churn_date_list.append(churn_date_list[index-1])\n",
    "\n",
    "    user_deposit_table['churn_date'] = churn_date_list"
   ]
  },
  {
   "cell_type": "markdown",
   "id": "2eaa5750-3a8c-42ef-94e3-5fbe2b89b618",
   "metadata": {},
   "source": [
    "### churnEpoch"
   ]
  },
  {
   "cell_type": "markdown",
   "id": "49e5946d-a540-480a-862d-2efb546be4ef",
   "metadata": {},
   "source": [
    "# Table Peeks"
   ]
  },
  {
   "cell_type": "code",
   "execution_count": 283,
   "id": "eadcd534-ae0c-430f-a40a-887bd4f84921",
   "metadata": {},
   "outputs": [
    {
     "data": {
      "text/html": [
       "<div>\n",
       "<style scoped>\n",
       "    .dataframe tbody tr th:only-of-type {\n",
       "        vertical-align: middle;\n",
       "    }\n",
       "\n",
       "    .dataframe tbody tr th {\n",
       "        vertical-align: top;\n",
       "    }\n",
       "\n",
       "    .dataframe thead th {\n",
       "        text-align: right;\n",
       "    }\n",
       "</style>\n",
       "<table border=\"1\" class=\"dataframe\">\n",
       "  <thead>\n",
       "    <tr style=\"text-align: right;\">\n",
       "      <th></th>\n",
       "      <th>deposit_initiated_ts</th>\n",
       "      <th>deposit_initiated_amt</th>\n",
       "    </tr>\n",
       "  </thead>\n",
       "  <tbody>\n",
       "    <tr>\n",
       "      <th>0</th>\n",
       "      <td>2021-12-30 04:25:57+00:00</td>\n",
       "      <td>0.060406</td>\n",
       "    </tr>\n",
       "    <tr>\n",
       "      <th>1</th>\n",
       "      <td>2021-12-31 16:19:15+00:00</td>\n",
       "      <td>18.000000</td>\n",
       "    </tr>\n",
       "  </tbody>\n",
       "</table>\n",
       "</div>"
      ],
      "text/plain": [
       "       deposit_initiated_ts  deposit_initiated_amt\n",
       "0 2021-12-30 04:25:57+00:00               0.060406\n",
       "1 2021-12-31 16:19:15+00:00              18.000000"
      ]
     },
     "execution_count": 283,
     "metadata": {},
     "output_type": "execute_result"
    }
   ],
   "source": [
    "pd.read_gbq(query=f'select deposit_initiated_ts, deposit_initiated_amt from transactions.fact_deposits where user_address = \\'{current_user_address}\\'')"
   ]
  },
  {
   "cell_type": "code",
   "execution_count": 289,
   "id": "8f643b37-7138-4196-aa8b-8907694121d6",
   "metadata": {},
   "outputs": [
    {
     "data": {
      "text/html": [
       "<div>\n",
       "<style scoped>\n",
       "    .dataframe tbody tr th:only-of-type {\n",
       "        vertical-align: middle;\n",
       "    }\n",
       "\n",
       "    .dataframe tbody tr th {\n",
       "        vertical-align: top;\n",
       "    }\n",
       "\n",
       "    .dataframe thead th {\n",
       "        text-align: right;\n",
       "    }\n",
       "</style>\n",
       "<table border=\"1\" class=\"dataframe\">\n",
       "  <thead>\n",
       "    <tr style=\"text-align: right;\">\n",
       "      <th></th>\n",
       "      <th>as_of_date</th>\n",
       "      <th>last_deposit_date</th>\n",
       "    </tr>\n",
       "  </thead>\n",
       "  <tbody>\n",
       "    <tr>\n",
       "      <th>0</th>\n",
       "      <td>2021-12-30</td>\n",
       "      <td>2021-12-30</td>\n",
       "    </tr>\n",
       "    <tr>\n",
       "      <th>1</th>\n",
       "      <td>2021-12-31</td>\n",
       "      <td>2021-12-31</td>\n",
       "    </tr>\n",
       "    <tr>\n",
       "      <th>2</th>\n",
       "      <td>2022-01-01</td>\n",
       "      <td>2021-12-31</td>\n",
       "    </tr>\n",
       "    <tr>\n",
       "      <th>3</th>\n",
       "      <td>2022-01-02</td>\n",
       "      <td>2021-12-31</td>\n",
       "    </tr>\n",
       "    <tr>\n",
       "      <th>4</th>\n",
       "      <td>2022-01-03</td>\n",
       "      <td>2021-12-31</td>\n",
       "    </tr>\n",
       "  </tbody>\n",
       "</table>\n",
       "</div>"
      ],
      "text/plain": [
       "   as_of_date last_deposit_date\n",
       "0  2021-12-30        2021-12-30\n",
       "1  2021-12-31        2021-12-31\n",
       "2  2022-01-01        2021-12-31\n",
       "3  2022-01-02        2021-12-31\n",
       "4  2022-01-03        2021-12-31"
      ]
     },
     "execution_count": 289,
     "metadata": {},
     "output_type": "execute_result"
    }
   ],
   "source": [
    "user_deposit_table.iloc[:5,:][['as_of_date', 'last_deposit_date']]"
   ]
  },
  {
   "cell_type": "code",
   "execution_count": 340,
   "id": "75b5db96-9400-48e4-9cbc-27ade7b52f6c",
   "metadata": {},
   "outputs": [
    {
     "data": {
      "text/plain": [
       "user_address                 D8ayPyamAg1yWyqCeG3u2L2fY2r6XmxfS8fdjf4wA1qx\n",
       "as_of_date                                                     2022-01-16\n",
       "total_value_locked_USD                                          18.003346\n",
       "total_deposited_USD                                             18.060406\n",
       "total_withdrawn_USD                                               0.05706\n",
       "tvl_delta_30_days                                               18.003346\n",
       "tvl_delta_60_days                                               18.003346\n",
       "tvl_delta_90_days                                               18.003346\n",
       "tvl_delta_1_epoch                                                     NaN\n",
       "tvl_delta_2_epoch                                                     NaN\n",
       "tvl_delta_3_epoch                                                     NaN\n",
       "tvl_delta_4_epoch                                                     NaN\n",
       "tvl_delta5_epoch                                                      NaN\n",
       "first_deposit_date                                             2021-12-30\n",
       "first_deposit_epoch                                                     1\n",
       "first_deposit_amount                                             0.060406\n",
       "first_deposit_token                                                   BTC\n",
       "last_deposit_date                                              2021-12-31\n",
       "last_deposit_epoch                                                      4\n",
       "last_deposit_amount                                                  18.0\n",
       "last_deposit_token                                                    FTT\n",
       "days_since_last_deposit                                                16\n",
       "epochs_since_last_deposit                                             NaN\n",
       "first_withdrawal_date                                          2022-01-08\n",
       "first_withdrawal_epoch                                                  1\n",
       "first_withdrawal_amount                                           0.05706\n",
       "first_withdrawal_token                                                BTC\n",
       "last_withdrawal_date                                           2022-01-08\n",
       "last_withdrawal_epoch                                                 3.0\n",
       "last_withdrawal_amount                                            0.05706\n",
       "last_withdrawal_token                                                 BTC\n",
       "has_churned                                                         False\n",
       "churn_date                                                           None\n",
       "churn_epoch                                                           NaN\n",
       "totalWithdrawnUSD                                                 0.05706\n",
       "firstDepositDate                                               2021-12-30\n",
       "Name: 17, dtype: object"
      ]
     },
     "execution_count": 340,
     "metadata": {},
     "output_type": "execute_result"
    }
   ],
   "source": [
    "user_deposit_table.iloc[17,:]"
   ]
  }
 ],
 "metadata": {
  "environment": {
   "kernel": "python3",
   "name": "common-cpu.m91",
   "type": "gcloud",
   "uri": "gcr.io/deeplearning-platform-release/base-cpu:m91"
  },
  "kernelspec": {
   "display_name": "Python 3",
   "language": "python",
   "name": "python3"
  },
  "language_info": {
   "codemirror_mode": {
    "name": "ipython",
    "version": 3
   },
   "file_extension": ".py",
   "mimetype": "text/x-python",
   "name": "python",
   "nbconvert_exporter": "python",
   "pygments_lexer": "ipython3",
   "version": "3.7.12"
  }
 },
 "nbformat": 4,
 "nbformat_minor": 5
}
