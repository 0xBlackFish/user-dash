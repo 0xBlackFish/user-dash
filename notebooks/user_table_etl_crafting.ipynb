{
 "cells": [
  {
   "cell_type": "code",
   "execution_count": 4,
   "id": "1a6c677c-d582-4fbd-af6a-e45ea19415b4",
   "metadata": {},
   "outputs": [],
   "source": [
    "import pandas as pd"
   ]
  },
  {
   "cell_type": "code",
   "execution_count": 5,
   "id": "131039fb-b6ca-4cff-8749-01049c3a71ea",
   "metadata": {},
   "outputs": [],
   "source": [
    "dates = pd.read_gbq(\n",
    "    query='select distinct date(timestamp) as date from solana.deposits',\n",
    "    project_id='friktion-dev'\n",
    "    )"
   ]
  },
  {
   "cell_type": "code",
   "execution_count": 6,
   "id": "c549be69-5b87-4f3a-aea0-50beba1bfbc5",
   "metadata": {},
   "outputs": [
    {
     "data": {
      "text/html": [
       "<div>\n",
       "<style scoped>\n",
       "    .dataframe tbody tr th:only-of-type {\n",
       "        vertical-align: middle;\n",
       "    }\n",
       "\n",
       "    .dataframe tbody tr th {\n",
       "        vertical-align: top;\n",
       "    }\n",
       "\n",
       "    .dataframe thead th {\n",
       "        text-align: right;\n",
       "    }\n",
       "</style>\n",
       "<table border=\"1\" class=\"dataframe\">\n",
       "  <thead>\n",
       "    <tr style=\"text-align: right;\">\n",
       "      <th></th>\n",
       "      <th>date</th>\n",
       "    </tr>\n",
       "  </thead>\n",
       "  <tbody>\n",
       "    <tr>\n",
       "      <th>count</th>\n",
       "      <td>110</td>\n",
       "    </tr>\n",
       "    <tr>\n",
       "      <th>unique</th>\n",
       "      <td>110</td>\n",
       "    </tr>\n",
       "    <tr>\n",
       "      <th>top</th>\n",
       "      <td>2022-04-04</td>\n",
       "    </tr>\n",
       "    <tr>\n",
       "      <th>freq</th>\n",
       "      <td>1</td>\n",
       "    </tr>\n",
       "  </tbody>\n",
       "</table>\n",
       "</div>"
      ],
      "text/plain": [
       "              date\n",
       "count          110\n",
       "unique         110\n",
       "top     2022-04-04\n",
       "freq             1"
      ]
     },
     "execution_count": 6,
     "metadata": {},
     "output_type": "execute_result"
    }
   ],
   "source": [
    "dates.describe()"
   ]
  },
  {
   "cell_type": "code",
   "execution_count": 7,
   "id": "e7d17fbb-e54a-425e-a0ee-01741ba3efe5",
   "metadata": {},
   "outputs": [],
   "source": [
    "users = pd.read_gbq(\n",
    "    query='select distinct(userAddress) as userAddress from solana.deposits')"
   ]
  },
  {
   "cell_type": "code",
   "execution_count": 8,
   "id": "a4eb3e37-3f2e-4ec2-a0d3-5bcfd8bdcc9a",
   "metadata": {},
   "outputs": [
    {
     "data": {
      "text/html": [
       "<div>\n",
       "<style scoped>\n",
       "    .dataframe tbody tr th:only-of-type {\n",
       "        vertical-align: middle;\n",
       "    }\n",
       "\n",
       "    .dataframe tbody tr th {\n",
       "        vertical-align: top;\n",
       "    }\n",
       "\n",
       "    .dataframe thead th {\n",
       "        text-align: right;\n",
       "    }\n",
       "</style>\n",
       "<table border=\"1\" class=\"dataframe\">\n",
       "  <thead>\n",
       "    <tr style=\"text-align: right;\">\n",
       "      <th></th>\n",
       "      <th>userAddress</th>\n",
       "    </tr>\n",
       "  </thead>\n",
       "  <tbody>\n",
       "    <tr>\n",
       "      <th>count</th>\n",
       "      <td>13893</td>\n",
       "    </tr>\n",
       "    <tr>\n",
       "      <th>unique</th>\n",
       "      <td>13893</td>\n",
       "    </tr>\n",
       "    <tr>\n",
       "      <th>top</th>\n",
       "      <td>wGm3yCrVppHYratwKAv9pBNRbge18rpn9XiAujZ6jwF</td>\n",
       "    </tr>\n",
       "    <tr>\n",
       "      <th>freq</th>\n",
       "      <td>1</td>\n",
       "    </tr>\n",
       "  </tbody>\n",
       "</table>\n",
       "</div>"
      ],
      "text/plain": [
       "                                        userAddress\n",
       "count                                         13893\n",
       "unique                                        13893\n",
       "top     wGm3yCrVppHYratwKAv9pBNRbge18rpn9XiAujZ6jwF\n",
       "freq                                              1"
      ]
     },
     "execution_count": 8,
     "metadata": {},
     "output_type": "execute_result"
    }
   ],
   "source": [
    "users.describe()"
   ]
  },
  {
   "cell_type": "code",
   "execution_count": 9,
   "id": "dd1fc45e-472e-441a-a78c-ac1dac019dbb",
   "metadata": {},
   "outputs": [],
   "source": [
    "user_first_deposits_dates = pd.read_gbq(\n",
    "    query='select userAddress, min(date(timestamp)) as first_deposit_dt from solana.deposits group by userAddress')"
   ]
  },
  {
   "cell_type": "code",
   "execution_count": 10,
   "id": "ed631615-073f-49dc-9db4-b47096548dce",
   "metadata": {},
   "outputs": [
    {
     "data": {
      "text/html": [
       "<div>\n",
       "<style scoped>\n",
       "    .dataframe tbody tr th:only-of-type {\n",
       "        vertical-align: middle;\n",
       "    }\n",
       "\n",
       "    .dataframe tbody tr th {\n",
       "        vertical-align: top;\n",
       "    }\n",
       "\n",
       "    .dataframe thead th {\n",
       "        text-align: right;\n",
       "    }\n",
       "</style>\n",
       "<table border=\"1\" class=\"dataframe\">\n",
       "  <thead>\n",
       "    <tr style=\"text-align: right;\">\n",
       "      <th></th>\n",
       "      <th>userAddress</th>\n",
       "      <th>first_deposit_dt</th>\n",
       "    </tr>\n",
       "  </thead>\n",
       "  <tbody>\n",
       "    <tr>\n",
       "      <th>count</th>\n",
       "      <td>13893</td>\n",
       "      <td>13893</td>\n",
       "    </tr>\n",
       "    <tr>\n",
       "      <th>unique</th>\n",
       "      <td>13893</td>\n",
       "      <td>110</td>\n",
       "    </tr>\n",
       "    <tr>\n",
       "      <th>top</th>\n",
       "      <td>wGm3yCrVppHYratwKAv9pBNRbge18rpn9XiAujZ6jwF</td>\n",
       "      <td>2022-03-30</td>\n",
       "    </tr>\n",
       "    <tr>\n",
       "      <th>freq</th>\n",
       "      <td>1</td>\n",
       "      <td>2158</td>\n",
       "    </tr>\n",
       "  </tbody>\n",
       "</table>\n",
       "</div>"
      ],
      "text/plain": [
       "                                        userAddress first_deposit_dt\n",
       "count                                         13893            13893\n",
       "unique                                        13893              110\n",
       "top     wGm3yCrVppHYratwKAv9pBNRbge18rpn9XiAujZ6jwF       2022-03-30\n",
       "freq                                              1             2158"
      ]
     },
     "execution_count": 10,
     "metadata": {},
     "output_type": "execute_result"
    }
   ],
   "source": [
    "user_first_deposits_dates.describe()"
   ]
  },
  {
   "cell_type": "code",
   "execution_count": 11,
   "id": "d8d18a3c-1b42-4ddf-a083-3c9cb1da9b1e",
   "metadata": {},
   "outputs": [
    {
     "data": {
      "text/plain": [
       "'wGm3yCrVppHYratwKAv9pBNRbge18rpn9XiAujZ6jwF'"
      ]
     },
     "execution_count": 11,
     "metadata": {},
     "output_type": "execute_result"
    }
   ],
   "source": [
    "users.iloc[0][0]"
   ]
  },
  {
   "cell_type": "code",
   "execution_count": 12,
   "id": "08b1a4db-9bed-4240-97eb-b80c9082c826",
   "metadata": {},
   "outputs": [
    {
     "data": {
      "text/html": [
       "<div>\n",
       "<style scoped>\n",
       "    .dataframe tbody tr th:only-of-type {\n",
       "        vertical-align: middle;\n",
       "    }\n",
       "\n",
       "    .dataframe tbody tr th {\n",
       "        vertical-align: top;\n",
       "    }\n",
       "\n",
       "    .dataframe thead th {\n",
       "        text-align: right;\n",
       "    }\n",
       "</style>\n",
       "<table border=\"1\" class=\"dataframe\">\n",
       "  <thead>\n",
       "    <tr style=\"text-align: right;\">\n",
       "      <th></th>\n",
       "      <th>userAddress</th>\n",
       "      <th>first_deposit_dt</th>\n",
       "    </tr>\n",
       "  </thead>\n",
       "  <tbody>\n",
       "    <tr>\n",
       "      <th>0</th>\n",
       "      <td>wGm3yCrVppHYratwKAv9pBNRbge18rpn9XiAujZ6jwF</td>\n",
       "      <td>2022-04-04</td>\n",
       "    </tr>\n",
       "  </tbody>\n",
       "</table>\n",
       "</div>"
      ],
      "text/plain": [
       "                                   userAddress first_deposit_dt\n",
       "0  wGm3yCrVppHYratwKAv9pBNRbge18rpn9XiAujZ6jwF       2022-04-04"
      ]
     },
     "execution_count": 12,
     "metadata": {},
     "output_type": "execute_result"
    }
   ],
   "source": [
    "user_first_deposits_dates[user_first_deposits_dates['userAddress'].str.contains(users.iloc[0][0])]"
   ]
  },
  {
   "cell_type": "code",
   "execution_count": 13,
   "id": "61d99b42-689b-4aeb-847f-b668be162178",
   "metadata": {},
   "outputs": [],
   "source": [
    "# eventuall you'll iterate through this activity of making a user table per userAddress and then unioning together with all the others"
   ]
  },
  {
   "cell_type": "code",
   "execution_count": 40,
   "id": "f8a50c8a-2d7b-4859-be70-a1f15c906d3a",
   "metadata": {},
   "outputs": [],
   "source": [
    "# to make this iterate through all users increment the first value in the iloc call\n",
    "current_user_address = users.iloc[3][0]\n",
    "user_first_deposit_date = user_first_deposits_dates[user_first_deposits_dates['userAddress'].str.contains(current_user_address)]['first_deposit_dt']"
   ]
  },
  {
   "cell_type": "code",
   "execution_count": 41,
   "id": "6cf7a65a-e31d-48ec-bb5b-298ccf80cfc9",
   "metadata": {
    "jupyter": {
     "source_hidden": true
    },
    "tags": []
   },
   "outputs": [],
   "source": [
    "user_deposit_table = pd.DataFrame(columns=['userAddress', 'asOfDate', 'totalValueLockedUSD', 'totalDepositedUSD', 'totalWithdrawnUSD', \\\n",
    "                                           'tvlDelta30Days', 'tvlDelta60Days', 'tvlDelta90Days', \\\n",
    "                                           'tvlDelta1Epoch', 'tvlDelta2Epoch', \\\n",
    "                                           'tvlDelta3Epoch', 'tvlDelta4Epoch', 'tvlDelta5Epoch', \\\n",
    "                                           'firstDepositDate', 'firstDepositEpoch', 'firstDepositAmount', 'firstDepositToken', \\\n",
    "                                           'lastDepositDate', 'lastDepositEpoch', 'lastDepositAmount', 'lastDepositToken', \\\n",
    "                                           'daysSinceLastDeposit', 'epochsSinceLastDeposit', \\\n",
    "                                           'firstWithdrawalDate', 'firstWithdrawalEpoch', 'firstWithdrawalAmount', 'firstWithdrawalToken', \\\n",
    "                                           'lastWithdrawalDate', 'lastWithdrawalEpoch', 'lastWithdrawalAmount', 'lastWithdrawalToken', \\\n",
    "                                           'hasChurned', 'churnDate', 'churnEpoch'])"
   ]
  },
  {
   "cell_type": "markdown",
   "id": "e1e03886-3c40-4cc8-b139-d5d4a23182a4",
   "metadata": {},
   "source": [
    "### asOfDate"
   ]
  },
  {
   "cell_type": "code",
   "execution_count": 42,
   "id": "2c6fbeaf-6f57-4e3e-8b08-181e160a0782",
   "metadata": {},
   "outputs": [],
   "source": [
    "user_deposit_table['asOfDate'] = dates[dates['date'].apply(lambda x: x>=user_first_deposit_date).iloc[:,0]]"
   ]
  },
  {
   "cell_type": "markdown",
   "id": "80a709e4-a7d1-448e-905d-a2d11f836da7",
   "metadata": {},
   "source": [
    "### userAddress"
   ]
  },
  {
   "cell_type": "code",
   "execution_count": 43,
   "id": "d51f1f49-f522-4d34-a450-c1ce716d1562",
   "metadata": {},
   "outputs": [],
   "source": [
    "user_deposit_table['userAddress'] = current_user_address"
   ]
  },
  {
   "cell_type": "markdown",
   "id": "57075aad-1066-4a63-8399-25e3e9a2fd9b",
   "metadata": {},
   "source": [
    "### totalValueDepositedUSD\n",
    "TODO: Add logic to covert to USD"
   ]
  },
  {
   "cell_type": "markdown",
   "id": "f67eb22e-fa8e-4715-a4a4-976428f335a6",
   "metadata": {},
   "source": [
    "#### inner loop logic"
   ]
  },
  {
   "cell_type": "code",
   "execution_count": 44,
   "id": "92a6ff01-87f6-453b-985c-f9ae8b7eb938",
   "metadata": {},
   "outputs": [
    {
     "data": {
      "text/html": [
       "<div>\n",
       "<style scoped>\n",
       "    .dataframe tbody tr th:only-of-type {\n",
       "        vertical-align: middle;\n",
       "    }\n",
       "\n",
       "    .dataframe tbody tr th {\n",
       "        vertical-align: top;\n",
       "    }\n",
       "\n",
       "    .dataframe thead th {\n",
       "        text-align: right;\n",
       "    }\n",
       "</style>\n",
       "<table border=\"1\" class=\"dataframe\">\n",
       "  <thead>\n",
       "    <tr style=\"text-align: right;\">\n",
       "      <th></th>\n",
       "      <th>total_deposited</th>\n",
       "    </tr>\n",
       "  </thead>\n",
       "  <tbody>\n",
       "    <tr>\n",
       "      <th>0</th>\n",
       "      <td>2.479377</td>\n",
       "    </tr>\n",
       "  </tbody>\n",
       "</table>\n",
       "</div>"
      ],
      "text/plain": [
       "   total_deposited\n",
       "0         2.479377"
      ]
     },
     "execution_count": 44,
     "metadata": {},
     "output_type": "execute_result"
    }
   ],
   "source": [
    "query_date = user_deposit_table['asOfDate'][0].isoformat()\n",
    "pd.read_gbq(query=f\"select sum(amount) as total_deposited from solana.deposits where userAddress=\\'{current_user_address}\\' and date(timestamp) <= date(\\'{query_date}\\')\")"
   ]
  },
  {
   "cell_type": "code",
   "execution_count": 45,
   "id": "36cd3cc9-a879-422b-8388-a118bc018f33",
   "metadata": {},
   "outputs": [],
   "source": [
    "# need to add market marking code\n",
    "user_deposit_table['totalDepositedUSD'] = [pd.read_gbq(query=f\"select sum(amount) as total_deposited from solana.deposits where userAddress=\\'{current_user_address}\\' and date(timestamp) <= date(\\'{query_date.isoformat()}\\')\").iloc[0,0] for query_date in user_deposit_table['asOfDate'].tolist()]"
   ]
  },
  {
   "cell_type": "markdown",
   "id": "ce13ec75-a6ed-4f41-9022-e4ef4eeac47f",
   "metadata": {},
   "source": [
    "### totalValueWithdrawnUSD\n",
    "TODO: Add logic to convert to USD"
   ]
  },
  {
   "cell_type": "code",
   "execution_count": 46,
   "id": "0f0062f9-abf7-4eda-aa60-56ed2acdc974",
   "metadata": {},
   "outputs": [
    {
     "data": {
      "text/plain": [
       "0.380040385"
      ]
     },
     "execution_count": 46,
     "metadata": {},
     "output_type": "execute_result"
    }
   ],
   "source": [
    "query_date = user_deposit_table['asOfDate'][0].isoformat()\n",
    "pd.read_gbq(query=f\"select sum(amount) as total_withdrawn from solana.withdrawals where userAddress=\\'{current_user_address}\\' and date(timestamp) <= date(\\'{query_date}\\')\").fillna(0).iloc[0,0]"
   ]
  },
  {
   "cell_type": "code",
   "execution_count": 47,
   "id": "06d32b85-eba8-4d94-8587-a08721820155",
   "metadata": {},
   "outputs": [],
   "source": [
    "# need to add market marking code\n",
    "user_deposit_table['totalWithdrawnUSD'] = [pd.read_gbq(query=f\"select sum(amount) as total_withdrawn from solana.withdrawals where userAddress=\\'{current_user_address}\\' and date(timestamp) <= date(\\'{query_date.isoformat()}\\')\").fillna(0).iloc[0,0] for query_date in user_deposit_table['asOfDate'].tolist()]"
   ]
  },
  {
   "cell_type": "markdown",
   "id": "646b7bef-9229-42f8-9217-3c7c7e53cf48",
   "metadata": {},
   "source": [
    "### totalValueLockedUSD"
   ]
  },
  {
   "cell_type": "code",
   "execution_count": 48,
   "id": "2ae13d41-f256-45d5-bc42-467795551fa0",
   "metadata": {},
   "outputs": [],
   "source": [
    "user_deposit_table['totalValueLockedUSD'] = user_deposit_table['totalDepositedUSD'] - user_deposit_table['totalWithdrawnUSD']"
   ]
  },
  {
   "cell_type": "markdown",
   "id": "f787bea5-5259-4d3e-a46a-4e8a1dae444d",
   "metadata": {},
   "source": [
    "### firstDepositDate"
   ]
  },
  {
   "cell_type": "code",
   "execution_count": 49,
   "id": "c08af4d6-94d9-4df9-b0f1-3d56fa961840",
   "metadata": {},
   "outputs": [],
   "source": [
    "first_deposit_date = user_first_deposits_dates[user_first_deposits_dates['userAddress'].str.match(current_user_address)]['first_deposit_dt'].iloc[0]\n",
    "user_deposit_table['firstDepositDate'] =  first_deposit_date"
   ]
  },
  {
   "cell_type": "markdown",
   "id": "96e9c331-a716-4de4-8a4c-7e5df6ec8fbc",
   "metadata": {},
   "source": [
    "### firstDepositEpoch"
   ]
  },
  {
   "cell_type": "markdown",
   "id": "0dd932d0-6a2b-408e-8bd9-008ef4e5c02a",
   "metadata": {},
   "source": [
    "### firstDepositAmount"
   ]
  },
  {
   "cell_type": "code",
   "execution_count": 50,
   "id": "ae66fea1-cf0a-42d7-99b4-cc4c39f2b7bd",
   "metadata": {},
   "outputs": [],
   "source": [
    "user_deposit_table['firstDepositAmount'] = pd.read_gbq(query=f'select sum(amount) from solana.deposits where userAddress = \\'{current_user_address}\\' and date(timestamp) = \\'{first_deposit_date.isoformat()}\\'').iloc[0,0]"
   ]
  },
  {
   "cell_type": "markdown",
   "id": "994deb6f-b30d-4026-9413-40a25debc215",
   "metadata": {},
   "source": [
    "### firstDepositToken"
   ]
  },
  {
   "cell_type": "code",
   "execution_count": 51,
   "id": "54250adc-75f7-4391-8fa6-171f4fcc2ee7",
   "metadata": {},
   "outputs": [],
   "source": [
    "user_deposit_table['firstDepositToken'] = pd.read_gbq(query=f'select currencyName from solana.deposits where userAddress = \\'{current_user_address}\\' and date(timestamp) = \\'{first_deposit_date.isoformat()}\\'').iloc[0,0]"
   ]
  },
  {
   "cell_type": "markdown",
   "id": "1f1d617f-a50d-4d9a-9813-886a9d7c1fcb",
   "metadata": {},
   "source": [
    "### tvlDelta30Days"
   ]
  },
  {
   "cell_type": "code",
   "execution_count": 63,
   "id": "03855c9c-06ec-4f41-a30d-747f25d9aaa2",
   "metadata": {},
   "outputs": [
    {
     "data": {
      "text/plain": [
       "'ANE7Nsw5zuF4sdrkGr1Q4ETHYXZu7wyQ4Tq8hhaa9mxE'"
      ]
     },
     "execution_count": 63,
     "metadata": {},
     "output_type": "execute_result"
    }
   ],
   "source": [
    "current_user_address"
   ]
  },
  {
   "cell_type": "code",
   "execution_count": 70,
   "id": "ab5af711-558b-434f-9777-77ef05399442",
   "metadata": {},
   "outputs": [
    {
     "data": {
      "text/html": [
       "<div>\n",
       "<style scoped>\n",
       "    .dataframe tbody tr th:only-of-type {\n",
       "        vertical-align: middle;\n",
       "    }\n",
       "\n",
       "    .dataframe tbody tr th {\n",
       "        vertical-align: top;\n",
       "    }\n",
       "\n",
       "    .dataframe thead th {\n",
       "        text-align: right;\n",
       "    }\n",
       "</style>\n",
       "<table border=\"1\" class=\"dataframe\">\n",
       "  <thead>\n",
       "    <tr style=\"text-align: right;\">\n",
       "      <th></th>\n",
       "      <th>f0_</th>\n",
       "    </tr>\n",
       "  </thead>\n",
       "  <tbody>\n",
       "  </tbody>\n",
       "</table>\n",
       "</div>"
      ],
      "text/plain": [
       "Empty DataFrame\n",
       "Columns: [f0_]\n",
       "Index: []"
      ]
     },
     "execution_count": 70,
     "metadata": {},
     "output_type": "execute_result"
    }
   ],
   "source": [
    "import datetime\n",
    "\n",
    "current_as_of_date = user_deposit_table['asOfDate'].iloc[3]\n",
    "\n",
    "# we can also perform this logic with GBQ SQL\n",
    "#      DATE_ADD(DATE \"2022-01-19\", INTERVAL 30 DAY)\n",
    "window_end_date = current_as_of_date + datetime.timedelta(30)\n",
    "\n",
    "pd.read_gbq(query=f'\\\n",
    "    with window_deposits as \\\n",
    "         (select userAddress, sum(amount) as deposits \\\n",
    "         from solana.deposits \\\n",
    "         where userAddress = \\'{current_user_address}\\' \\\n",
    "         and date(timestamp) between \\'{current_as_of_date.isoformat()}\\' and \\'{window_end_date}\\'\\\n",
    "         group by userAddress) \\\n",
    "    , window_withdrawals as \\\n",
    "        (select userAddress, sum(amount) as withdrawals \\\n",
    "        from solana.withdrawals \\\n",
    "        where userAddress = \\'{current_user_address}\\' \\\n",
    "        and date(timestamp) between \\'{current_as_of_date.isoformat()}\\' and \\'{window_end_date}\\'\\\n",
    "        group by userAddress) \\\n",
    "    select \\\n",
    "         (deposits - withdrawals) \\\n",
    "    from window_deposits wd\\\n",
    "    left join window_withdrawals ww on wd.userAddress = ww.userAddress \\\n",
    "    ')\n",
    "\n",
    "#there is an interesting loss of precision when going from the GBQ to pandas GBQ"
   ]
  },
  {
   "cell_type": "code",
   "execution_count": 68,
   "id": "cfecd838-dd79-4549-8d30-997f184ec617",
   "metadata": {},
   "outputs": [
    {
     "name": "stdout",
     "output_type": "stream",
     "text": [
      "2022-04-04\n",
      "2022-04-03\n",
      "2022-03-11\n",
      "2022-01-30\n"
     ]
    },
    {
     "ename": "IndexError",
     "evalue": "single positional indexer is out-of-bounds",
     "output_type": "error",
     "traceback": [
      "\u001b[0;31m---------------------------------------------------------------------------\u001b[0m",
      "\u001b[0;31mIndexError\u001b[0m                                Traceback (most recent call last)",
      "\u001b[0;32m/tmp/ipykernel_1943/3556364740.py\u001b[0m in \u001b[0;36m<module>\u001b[0;34m\u001b[0m\n\u001b[1;32m     21\u001b[0m         \u001b[0;32mfrom\u001b[0m \u001b[0mwindow_deposits\u001b[0m \u001b[0mwd\u001b[0m\u001b[0;31m\\\u001b[0m\u001b[0;34m\u001b[0m\u001b[0;34m\u001b[0m\u001b[0m\n\u001b[1;32m     22\u001b[0m         \u001b[0mleft\u001b[0m \u001b[0mjoin\u001b[0m \u001b[0mwindow_withdrawals\u001b[0m \u001b[0mww\u001b[0m \u001b[0mon\u001b[0m \u001b[0mwd\u001b[0m\u001b[0;34m.\u001b[0m\u001b[0muserAddress\u001b[0m \u001b[0;34m=\u001b[0m \u001b[0mww\u001b[0m\u001b[0;34m.\u001b[0m\u001b[0muserAddress\u001b[0m\u001b[0;31m \u001b[0m\u001b[0;31m\\\u001b[0m\u001b[0;34m\u001b[0m\u001b[0;34m\u001b[0m\u001b[0m\n\u001b[0;32m---> 23\u001b[0;31m         ').iloc[0,0]\n\u001b[0m\u001b[1;32m     24\u001b[0m     \u001b[0mtvl_list\u001b[0m\u001b[0;34m.\u001b[0m\u001b[0mappend\u001b[0m\u001b[0;34m(\u001b[0m\u001b[0mwindow_delta\u001b[0m\u001b[0;34m)\u001b[0m\u001b[0;34m\u001b[0m\u001b[0;34m\u001b[0m\u001b[0m\n\u001b[1;32m     25\u001b[0m \u001b[0;34m\u001b[0m\u001b[0m\n",
      "\u001b[0;32m/opt/conda/lib/python3.7/site-packages/pandas/core/indexing.py\u001b[0m in \u001b[0;36m__getitem__\u001b[0;34m(self, key)\u001b[0m\n\u001b[1;32m    923\u001b[0m                 \u001b[0;32mwith\u001b[0m \u001b[0msuppress\u001b[0m\u001b[0;34m(\u001b[0m\u001b[0mKeyError\u001b[0m\u001b[0;34m,\u001b[0m \u001b[0mIndexError\u001b[0m\u001b[0;34m)\u001b[0m\u001b[0;34m:\u001b[0m\u001b[0;34m\u001b[0m\u001b[0;34m\u001b[0m\u001b[0m\n\u001b[1;32m    924\u001b[0m                     \u001b[0;32mreturn\u001b[0m \u001b[0mself\u001b[0m\u001b[0;34m.\u001b[0m\u001b[0mobj\u001b[0m\u001b[0;34m.\u001b[0m\u001b[0m_get_value\u001b[0m\u001b[0;34m(\u001b[0m\u001b[0;34m*\u001b[0m\u001b[0mkey\u001b[0m\u001b[0;34m,\u001b[0m \u001b[0mtakeable\u001b[0m\u001b[0;34m=\u001b[0m\u001b[0mself\u001b[0m\u001b[0;34m.\u001b[0m\u001b[0m_takeable\u001b[0m\u001b[0;34m)\u001b[0m\u001b[0;34m\u001b[0m\u001b[0;34m\u001b[0m\u001b[0m\n\u001b[0;32m--> 925\u001b[0;31m             \u001b[0;32mreturn\u001b[0m \u001b[0mself\u001b[0m\u001b[0;34m.\u001b[0m\u001b[0m_getitem_tuple\u001b[0m\u001b[0;34m(\u001b[0m\u001b[0mkey\u001b[0m\u001b[0;34m)\u001b[0m\u001b[0;34m\u001b[0m\u001b[0;34m\u001b[0m\u001b[0m\n\u001b[0m\u001b[1;32m    926\u001b[0m         \u001b[0;32melse\u001b[0m\u001b[0;34m:\u001b[0m\u001b[0;34m\u001b[0m\u001b[0;34m\u001b[0m\u001b[0m\n\u001b[1;32m    927\u001b[0m             \u001b[0;31m# we by definition only have the 0th axis\u001b[0m\u001b[0;34m\u001b[0m\u001b[0;34m\u001b[0m\u001b[0;34m\u001b[0m\u001b[0m\n",
      "\u001b[0;32m/opt/conda/lib/python3.7/site-packages/pandas/core/indexing.py\u001b[0m in \u001b[0;36m_getitem_tuple\u001b[0;34m(self, tup)\u001b[0m\n\u001b[1;32m   1504\u001b[0m     \u001b[0;32mdef\u001b[0m \u001b[0m_getitem_tuple\u001b[0m\u001b[0;34m(\u001b[0m\u001b[0mself\u001b[0m\u001b[0;34m,\u001b[0m \u001b[0mtup\u001b[0m\u001b[0;34m:\u001b[0m \u001b[0mtuple\u001b[0m\u001b[0;34m)\u001b[0m\u001b[0;34m:\u001b[0m\u001b[0;34m\u001b[0m\u001b[0;34m\u001b[0m\u001b[0m\n\u001b[1;32m   1505\u001b[0m \u001b[0;34m\u001b[0m\u001b[0m\n\u001b[0;32m-> 1506\u001b[0;31m         \u001b[0mself\u001b[0m\u001b[0;34m.\u001b[0m\u001b[0m_has_valid_tuple\u001b[0m\u001b[0;34m(\u001b[0m\u001b[0mtup\u001b[0m\u001b[0;34m)\u001b[0m\u001b[0;34m\u001b[0m\u001b[0;34m\u001b[0m\u001b[0m\n\u001b[0m\u001b[1;32m   1507\u001b[0m         \u001b[0;32mwith\u001b[0m \u001b[0msuppress\u001b[0m\u001b[0;34m(\u001b[0m\u001b[0mIndexingError\u001b[0m\u001b[0;34m)\u001b[0m\u001b[0;34m:\u001b[0m\u001b[0;34m\u001b[0m\u001b[0;34m\u001b[0m\u001b[0m\n\u001b[1;32m   1508\u001b[0m             \u001b[0;32mreturn\u001b[0m \u001b[0mself\u001b[0m\u001b[0;34m.\u001b[0m\u001b[0m_getitem_lowerdim\u001b[0m\u001b[0;34m(\u001b[0m\u001b[0mtup\u001b[0m\u001b[0;34m)\u001b[0m\u001b[0;34m\u001b[0m\u001b[0;34m\u001b[0m\u001b[0m\n",
      "\u001b[0;32m/opt/conda/lib/python3.7/site-packages/pandas/core/indexing.py\u001b[0m in \u001b[0;36m_has_valid_tuple\u001b[0;34m(self, key)\u001b[0m\n\u001b[1;32m    752\u001b[0m         \u001b[0;32mfor\u001b[0m \u001b[0mi\u001b[0m\u001b[0;34m,\u001b[0m \u001b[0mk\u001b[0m \u001b[0;32min\u001b[0m \u001b[0menumerate\u001b[0m\u001b[0;34m(\u001b[0m\u001b[0mkey\u001b[0m\u001b[0;34m)\u001b[0m\u001b[0;34m:\u001b[0m\u001b[0;34m\u001b[0m\u001b[0;34m\u001b[0m\u001b[0m\n\u001b[1;32m    753\u001b[0m             \u001b[0;32mtry\u001b[0m\u001b[0;34m:\u001b[0m\u001b[0;34m\u001b[0m\u001b[0;34m\u001b[0m\u001b[0m\n\u001b[0;32m--> 754\u001b[0;31m                 \u001b[0mself\u001b[0m\u001b[0;34m.\u001b[0m\u001b[0m_validate_key\u001b[0m\u001b[0;34m(\u001b[0m\u001b[0mk\u001b[0m\u001b[0;34m,\u001b[0m \u001b[0mi\u001b[0m\u001b[0;34m)\u001b[0m\u001b[0;34m\u001b[0m\u001b[0;34m\u001b[0m\u001b[0m\n\u001b[0m\u001b[1;32m    755\u001b[0m             \u001b[0;32mexcept\u001b[0m \u001b[0mValueError\u001b[0m \u001b[0;32mas\u001b[0m \u001b[0merr\u001b[0m\u001b[0;34m:\u001b[0m\u001b[0;34m\u001b[0m\u001b[0;34m\u001b[0m\u001b[0m\n\u001b[1;32m    756\u001b[0m                 raise ValueError(\n",
      "\u001b[0;32m/opt/conda/lib/python3.7/site-packages/pandas/core/indexing.py\u001b[0m in \u001b[0;36m_validate_key\u001b[0;34m(self, key, axis)\u001b[0m\n\u001b[1;32m   1407\u001b[0m             \u001b[0;32mreturn\u001b[0m\u001b[0;34m\u001b[0m\u001b[0;34m\u001b[0m\u001b[0m\n\u001b[1;32m   1408\u001b[0m         \u001b[0;32melif\u001b[0m \u001b[0mis_integer\u001b[0m\u001b[0;34m(\u001b[0m\u001b[0mkey\u001b[0m\u001b[0;34m)\u001b[0m\u001b[0;34m:\u001b[0m\u001b[0;34m\u001b[0m\u001b[0;34m\u001b[0m\u001b[0m\n\u001b[0;32m-> 1409\u001b[0;31m             \u001b[0mself\u001b[0m\u001b[0;34m.\u001b[0m\u001b[0m_validate_integer\u001b[0m\u001b[0;34m(\u001b[0m\u001b[0mkey\u001b[0m\u001b[0;34m,\u001b[0m \u001b[0maxis\u001b[0m\u001b[0;34m)\u001b[0m\u001b[0;34m\u001b[0m\u001b[0;34m\u001b[0m\u001b[0m\n\u001b[0m\u001b[1;32m   1410\u001b[0m         \u001b[0;32melif\u001b[0m \u001b[0misinstance\u001b[0m\u001b[0;34m(\u001b[0m\u001b[0mkey\u001b[0m\u001b[0;34m,\u001b[0m \u001b[0mtuple\u001b[0m\u001b[0;34m)\u001b[0m\u001b[0;34m:\u001b[0m\u001b[0;34m\u001b[0m\u001b[0;34m\u001b[0m\u001b[0m\n\u001b[1;32m   1411\u001b[0m             \u001b[0;31m# a tuple should already have been caught by this point\u001b[0m\u001b[0;34m\u001b[0m\u001b[0;34m\u001b[0m\u001b[0;34m\u001b[0m\u001b[0m\n",
      "\u001b[0;32m/opt/conda/lib/python3.7/site-packages/pandas/core/indexing.py\u001b[0m in \u001b[0;36m_validate_integer\u001b[0;34m(self, key, axis)\u001b[0m\n\u001b[1;32m   1498\u001b[0m         \u001b[0mlen_axis\u001b[0m \u001b[0;34m=\u001b[0m \u001b[0mlen\u001b[0m\u001b[0;34m(\u001b[0m\u001b[0mself\u001b[0m\u001b[0;34m.\u001b[0m\u001b[0mobj\u001b[0m\u001b[0;34m.\u001b[0m\u001b[0m_get_axis\u001b[0m\u001b[0;34m(\u001b[0m\u001b[0maxis\u001b[0m\u001b[0;34m)\u001b[0m\u001b[0;34m)\u001b[0m\u001b[0;34m\u001b[0m\u001b[0;34m\u001b[0m\u001b[0m\n\u001b[1;32m   1499\u001b[0m         \u001b[0;32mif\u001b[0m \u001b[0mkey\u001b[0m \u001b[0;34m>=\u001b[0m \u001b[0mlen_axis\u001b[0m \u001b[0;32mor\u001b[0m \u001b[0mkey\u001b[0m \u001b[0;34m<\u001b[0m \u001b[0;34m-\u001b[0m\u001b[0mlen_axis\u001b[0m\u001b[0;34m:\u001b[0m\u001b[0;34m\u001b[0m\u001b[0;34m\u001b[0m\u001b[0m\n\u001b[0;32m-> 1500\u001b[0;31m             \u001b[0;32mraise\u001b[0m \u001b[0mIndexError\u001b[0m\u001b[0;34m(\u001b[0m\u001b[0;34m\"single positional indexer is out-of-bounds\"\u001b[0m\u001b[0;34m)\u001b[0m\u001b[0;34m\u001b[0m\u001b[0;34m\u001b[0m\u001b[0m\n\u001b[0m\u001b[1;32m   1501\u001b[0m \u001b[0;34m\u001b[0m\u001b[0m\n\u001b[1;32m   1502\u001b[0m     \u001b[0;31m# -------------------------------------------------------------------\u001b[0m\u001b[0;34m\u001b[0m\u001b[0;34m\u001b[0m\u001b[0;34m\u001b[0m\u001b[0m\n",
      "\u001b[0;31mIndexError\u001b[0m: single positional indexer is out-of-bounds"
     ]
    }
   ],
   "source": [
    "tvl_list = []\n",
    "for table_date in user_deposit_table['asOfDate']:\n",
    "    print(table_date)\n",
    "    current_as_of_date = table_date\n",
    "    window_end_date = current_as_of_date + datetime.timedelta(30)\n",
    "    window_delta = pd.read_gbq(query=f'\\\n",
    "        with window_deposits as \\\n",
    "             (select userAddress, sum(amount) as deposits \\\n",
    "             from solana.deposits \\\n",
    "             where userAddress = \\'{current_user_address}\\' \\\n",
    "             and date(timestamp) between \\'{current_as_of_date.isoformat()}\\' and \\'{window_end_date}\\'\\\n",
    "             group by userAddress) \\\n",
    "        , window_withdrawals as \\\n",
    "            (select userAddress, sum(amount) as withdrawals \\\n",
    "            from solana.withdrawals \\\n",
    "            where userAddress = \\'{current_user_address}\\' \\\n",
    "            and date(timestamp) between \\'{current_as_of_date.isoformat()}\\' and \\'{window_end_date}\\'\\\n",
    "            group by userAddress) \\\n",
    "        select \\\n",
    "             (deposits - withdrawals) \\\n",
    "        from window_deposits wd\\\n",
    "        left join window_withdrawals ww on wd.userAddress = ww.userAddress \\\n",
    "        ').iloc[0,0]\n",
    "    tvl_list.append(window_delta)\n",
    "    \n",
    "user_deposit_table['tvlDelta30Days'] = tvl_list"
   ]
  },
  {
   "cell_type": "markdown",
   "id": "f71cba56-d790-4910-b0fb-eefb5261aa12",
   "metadata": {},
   "source": [
    "### tvlDelta60Days"
   ]
  },
  {
   "cell_type": "markdown",
   "id": "b213b3a4-c957-4fe7-a9dd-da3f0f634c70",
   "metadata": {},
   "source": [
    "### tvlDelta90Days"
   ]
  },
  {
   "cell_type": "code",
   "execution_count": 55,
   "id": "23d23125-0b8f-4e4c-8ce5-d6337f285844",
   "metadata": {},
   "outputs": [
    {
     "data": {
      "text/html": [
       "<div>\n",
       "<style scoped>\n",
       "    .dataframe tbody tr th:only-of-type {\n",
       "        vertical-align: middle;\n",
       "    }\n",
       "\n",
       "    .dataframe tbody tr th {\n",
       "        vertical-align: top;\n",
       "    }\n",
       "\n",
       "    .dataframe thead th {\n",
       "        text-align: right;\n",
       "    }\n",
       "</style>\n",
       "<table border=\"1\" class=\"dataframe\">\n",
       "  <thead>\n",
       "    <tr style=\"text-align: right;\">\n",
       "      <th></th>\n",
       "      <th>userAddress</th>\n",
       "      <th>asOfDate</th>\n",
       "      <th>totalValueLockedUSD</th>\n",
       "      <th>totalDepositedUSD</th>\n",
       "      <th>totalWithdrawnUSD</th>\n",
       "      <th>tvlDelta30Days</th>\n",
       "      <th>tvlDelta60Days</th>\n",
       "      <th>tvlDelta90Days</th>\n",
       "      <th>tvlDelta1Epoch</th>\n",
       "      <th>tvlDelta2Epoch</th>\n",
       "      <th>...</th>\n",
       "      <th>firstWithdrawalEpoch</th>\n",
       "      <th>firstWithdrawalAmount</th>\n",
       "      <th>firstWithdrawalToken</th>\n",
       "      <th>lastWithdrawalDate</th>\n",
       "      <th>lastWithdrawalEpoch</th>\n",
       "      <th>lastWithdrawalAmount</th>\n",
       "      <th>lastWithdrawalToken</th>\n",
       "      <th>hasChurned</th>\n",
       "      <th>churnDate</th>\n",
       "      <th>churnEpoch</th>\n",
       "    </tr>\n",
       "  </thead>\n",
       "  <tbody>\n",
       "    <tr>\n",
       "      <th>23</th>\n",
       "      <td>ANE7Nsw5zuF4sdrkGr1Q4ETHYXZu7wyQ4Tq8hhaa9mxE</td>\n",
       "      <td>2022-01-19</td>\n",
       "      <td>0.400000</td>\n",
       "      <td>0.400000</td>\n",
       "      <td>0.00000</td>\n",
       "      <td>NaN</td>\n",
       "      <td>NaN</td>\n",
       "      <td>NaN</td>\n",
       "      <td>NaN</td>\n",
       "      <td>NaN</td>\n",
       "      <td>...</td>\n",
       "      <td>NaN</td>\n",
       "      <td>NaN</td>\n",
       "      <td>NaN</td>\n",
       "      <td>NaN</td>\n",
       "      <td>NaN</td>\n",
       "      <td>NaN</td>\n",
       "      <td>NaN</td>\n",
       "      <td>NaN</td>\n",
       "      <td>NaN</td>\n",
       "      <td>NaN</td>\n",
       "    </tr>\n",
       "    <tr>\n",
       "      <th>73</th>\n",
       "      <td>ANE7Nsw5zuF4sdrkGr1Q4ETHYXZu7wyQ4Tq8hhaa9mxE</td>\n",
       "      <td>2022-01-20</td>\n",
       "      <td>0.400000</td>\n",
       "      <td>0.400000</td>\n",
       "      <td>0.00000</td>\n",
       "      <td>NaN</td>\n",
       "      <td>NaN</td>\n",
       "      <td>NaN</td>\n",
       "      <td>NaN</td>\n",
       "      <td>NaN</td>\n",
       "      <td>...</td>\n",
       "      <td>NaN</td>\n",
       "      <td>NaN</td>\n",
       "      <td>NaN</td>\n",
       "      <td>NaN</td>\n",
       "      <td>NaN</td>\n",
       "      <td>NaN</td>\n",
       "      <td>NaN</td>\n",
       "      <td>NaN</td>\n",
       "      <td>NaN</td>\n",
       "      <td>NaN</td>\n",
       "    </tr>\n",
       "    <tr>\n",
       "      <th>43</th>\n",
       "      <td>ANE7Nsw5zuF4sdrkGr1Q4ETHYXZu7wyQ4Tq8hhaa9mxE</td>\n",
       "      <td>2022-01-21</td>\n",
       "      <td>0.400000</td>\n",
       "      <td>0.400000</td>\n",
       "      <td>0.00000</td>\n",
       "      <td>NaN</td>\n",
       "      <td>NaN</td>\n",
       "      <td>NaN</td>\n",
       "      <td>NaN</td>\n",
       "      <td>NaN</td>\n",
       "      <td>...</td>\n",
       "      <td>NaN</td>\n",
       "      <td>NaN</td>\n",
       "      <td>NaN</td>\n",
       "      <td>NaN</td>\n",
       "      <td>NaN</td>\n",
       "      <td>NaN</td>\n",
       "      <td>NaN</td>\n",
       "      <td>NaN</td>\n",
       "      <td>NaN</td>\n",
       "      <td>NaN</td>\n",
       "    </tr>\n",
       "    <tr>\n",
       "      <th>87</th>\n",
       "      <td>ANE7Nsw5zuF4sdrkGr1Q4ETHYXZu7wyQ4Tq8hhaa9mxE</td>\n",
       "      <td>2022-01-22</td>\n",
       "      <td>0.400000</td>\n",
       "      <td>0.400000</td>\n",
       "      <td>0.00000</td>\n",
       "      <td>NaN</td>\n",
       "      <td>NaN</td>\n",
       "      <td>NaN</td>\n",
       "      <td>NaN</td>\n",
       "      <td>NaN</td>\n",
       "      <td>...</td>\n",
       "      <td>NaN</td>\n",
       "      <td>NaN</td>\n",
       "      <td>NaN</td>\n",
       "      <td>NaN</td>\n",
       "      <td>NaN</td>\n",
       "      <td>NaN</td>\n",
       "      <td>NaN</td>\n",
       "      <td>NaN</td>\n",
       "      <td>NaN</td>\n",
       "      <td>NaN</td>\n",
       "    </tr>\n",
       "    <tr>\n",
       "      <th>100</th>\n",
       "      <td>ANE7Nsw5zuF4sdrkGr1Q4ETHYXZu7wyQ4Tq8hhaa9mxE</td>\n",
       "      <td>2022-01-23</td>\n",
       "      <td>0.400000</td>\n",
       "      <td>0.400000</td>\n",
       "      <td>0.00000</td>\n",
       "      <td>NaN</td>\n",
       "      <td>NaN</td>\n",
       "      <td>NaN</td>\n",
       "      <td>NaN</td>\n",
       "      <td>NaN</td>\n",
       "      <td>...</td>\n",
       "      <td>NaN</td>\n",
       "      <td>NaN</td>\n",
       "      <td>NaN</td>\n",
       "      <td>NaN</td>\n",
       "      <td>NaN</td>\n",
       "      <td>NaN</td>\n",
       "      <td>NaN</td>\n",
       "      <td>NaN</td>\n",
       "      <td>NaN</td>\n",
       "      <td>NaN</td>\n",
       "    </tr>\n",
       "    <tr>\n",
       "      <th>...</th>\n",
       "      <td>...</td>\n",
       "      <td>...</td>\n",
       "      <td>...</td>\n",
       "      <td>...</td>\n",
       "      <td>...</td>\n",
       "      <td>...</td>\n",
       "      <td>...</td>\n",
       "      <td>...</td>\n",
       "      <td>...</td>\n",
       "      <td>...</td>\n",
       "      <td>...</td>\n",
       "      <td>...</td>\n",
       "      <td>...</td>\n",
       "      <td>...</td>\n",
       "      <td>...</td>\n",
       "      <td>...</td>\n",
       "      <td>...</td>\n",
       "      <td>...</td>\n",
       "      <td>...</td>\n",
       "      <td>...</td>\n",
       "      <td>...</td>\n",
       "    </tr>\n",
       "    <tr>\n",
       "      <th>37</th>\n",
       "      <td>ANE7Nsw5zuF4sdrkGr1Q4ETHYXZu7wyQ4Tq8hhaa9mxE</td>\n",
       "      <td>2022-03-31</td>\n",
       "      <td>1.868908</td>\n",
       "      <td>2.248948</td>\n",
       "      <td>0.38004</td>\n",
       "      <td>NaN</td>\n",
       "      <td>NaN</td>\n",
       "      <td>NaN</td>\n",
       "      <td>NaN</td>\n",
       "      <td>NaN</td>\n",
       "      <td>...</td>\n",
       "      <td>NaN</td>\n",
       "      <td>NaN</td>\n",
       "      <td>NaN</td>\n",
       "      <td>NaN</td>\n",
       "      <td>NaN</td>\n",
       "      <td>NaN</td>\n",
       "      <td>NaN</td>\n",
       "      <td>NaN</td>\n",
       "      <td>NaN</td>\n",
       "      <td>NaN</td>\n",
       "    </tr>\n",
       "    <tr>\n",
       "      <th>8</th>\n",
       "      <td>ANE7Nsw5zuF4sdrkGr1Q4ETHYXZu7wyQ4Tq8hhaa9mxE</td>\n",
       "      <td>2022-04-01</td>\n",
       "      <td>1.868908</td>\n",
       "      <td>2.248948</td>\n",
       "      <td>0.38004</td>\n",
       "      <td>NaN</td>\n",
       "      <td>NaN</td>\n",
       "      <td>NaN</td>\n",
       "      <td>NaN</td>\n",
       "      <td>NaN</td>\n",
       "      <td>...</td>\n",
       "      <td>NaN</td>\n",
       "      <td>NaN</td>\n",
       "      <td>NaN</td>\n",
       "      <td>NaN</td>\n",
       "      <td>NaN</td>\n",
       "      <td>NaN</td>\n",
       "      <td>NaN</td>\n",
       "      <td>NaN</td>\n",
       "      <td>NaN</td>\n",
       "      <td>NaN</td>\n",
       "    </tr>\n",
       "    <tr>\n",
       "      <th>19</th>\n",
       "      <td>ANE7Nsw5zuF4sdrkGr1Q4ETHYXZu7wyQ4Tq8hhaa9mxE</td>\n",
       "      <td>2022-04-02</td>\n",
       "      <td>1.868908</td>\n",
       "      <td>2.248948</td>\n",
       "      <td>0.38004</td>\n",
       "      <td>NaN</td>\n",
       "      <td>NaN</td>\n",
       "      <td>NaN</td>\n",
       "      <td>NaN</td>\n",
       "      <td>NaN</td>\n",
       "      <td>...</td>\n",
       "      <td>NaN</td>\n",
       "      <td>NaN</td>\n",
       "      <td>NaN</td>\n",
       "      <td>NaN</td>\n",
       "      <td>NaN</td>\n",
       "      <td>NaN</td>\n",
       "      <td>NaN</td>\n",
       "      <td>NaN</td>\n",
       "      <td>NaN</td>\n",
       "      <td>NaN</td>\n",
       "    </tr>\n",
       "    <tr>\n",
       "      <th>1</th>\n",
       "      <td>ANE7Nsw5zuF4sdrkGr1Q4ETHYXZu7wyQ4Tq8hhaa9mxE</td>\n",
       "      <td>2022-04-03</td>\n",
       "      <td>1.868908</td>\n",
       "      <td>2.248948</td>\n",
       "      <td>0.38004</td>\n",
       "      <td>NaN</td>\n",
       "      <td>NaN</td>\n",
       "      <td>NaN</td>\n",
       "      <td>NaN</td>\n",
       "      <td>NaN</td>\n",
       "      <td>...</td>\n",
       "      <td>NaN</td>\n",
       "      <td>NaN</td>\n",
       "      <td>NaN</td>\n",
       "      <td>NaN</td>\n",
       "      <td>NaN</td>\n",
       "      <td>NaN</td>\n",
       "      <td>NaN</td>\n",
       "      <td>NaN</td>\n",
       "      <td>NaN</td>\n",
       "      <td>NaN</td>\n",
       "    </tr>\n",
       "    <tr>\n",
       "      <th>0</th>\n",
       "      <td>ANE7Nsw5zuF4sdrkGr1Q4ETHYXZu7wyQ4Tq8hhaa9mxE</td>\n",
       "      <td>2022-04-04</td>\n",
       "      <td>2.099337</td>\n",
       "      <td>2.479377</td>\n",
       "      <td>0.38004</td>\n",
       "      <td>NaN</td>\n",
       "      <td>NaN</td>\n",
       "      <td>NaN</td>\n",
       "      <td>NaN</td>\n",
       "      <td>NaN</td>\n",
       "      <td>...</td>\n",
       "      <td>NaN</td>\n",
       "      <td>NaN</td>\n",
       "      <td>NaN</td>\n",
       "      <td>NaN</td>\n",
       "      <td>NaN</td>\n",
       "      <td>NaN</td>\n",
       "      <td>NaN</td>\n",
       "      <td>NaN</td>\n",
       "      <td>NaN</td>\n",
       "      <td>NaN</td>\n",
       "    </tr>\n",
       "  </tbody>\n",
       "</table>\n",
       "<p>76 rows × 34 columns</p>\n",
       "</div>"
      ],
      "text/plain": [
       "                                      userAddress    asOfDate  \\\n",
       "23   ANE7Nsw5zuF4sdrkGr1Q4ETHYXZu7wyQ4Tq8hhaa9mxE  2022-01-19   \n",
       "73   ANE7Nsw5zuF4sdrkGr1Q4ETHYXZu7wyQ4Tq8hhaa9mxE  2022-01-20   \n",
       "43   ANE7Nsw5zuF4sdrkGr1Q4ETHYXZu7wyQ4Tq8hhaa9mxE  2022-01-21   \n",
       "87   ANE7Nsw5zuF4sdrkGr1Q4ETHYXZu7wyQ4Tq8hhaa9mxE  2022-01-22   \n",
       "100  ANE7Nsw5zuF4sdrkGr1Q4ETHYXZu7wyQ4Tq8hhaa9mxE  2022-01-23   \n",
       "..                                            ...         ...   \n",
       "37   ANE7Nsw5zuF4sdrkGr1Q4ETHYXZu7wyQ4Tq8hhaa9mxE  2022-03-31   \n",
       "8    ANE7Nsw5zuF4sdrkGr1Q4ETHYXZu7wyQ4Tq8hhaa9mxE  2022-04-01   \n",
       "19   ANE7Nsw5zuF4sdrkGr1Q4ETHYXZu7wyQ4Tq8hhaa9mxE  2022-04-02   \n",
       "1    ANE7Nsw5zuF4sdrkGr1Q4ETHYXZu7wyQ4Tq8hhaa9mxE  2022-04-03   \n",
       "0    ANE7Nsw5zuF4sdrkGr1Q4ETHYXZu7wyQ4Tq8hhaa9mxE  2022-04-04   \n",
       "\n",
       "     totalValueLockedUSD  totalDepositedUSD  totalWithdrawnUSD tvlDelta30Days  \\\n",
       "23              0.400000           0.400000            0.00000            NaN   \n",
       "73              0.400000           0.400000            0.00000            NaN   \n",
       "43              0.400000           0.400000            0.00000            NaN   \n",
       "87              0.400000           0.400000            0.00000            NaN   \n",
       "100             0.400000           0.400000            0.00000            NaN   \n",
       "..                   ...                ...                ...            ...   \n",
       "37              1.868908           2.248948            0.38004            NaN   \n",
       "8               1.868908           2.248948            0.38004            NaN   \n",
       "19              1.868908           2.248948            0.38004            NaN   \n",
       "1               1.868908           2.248948            0.38004            NaN   \n",
       "0               2.099337           2.479377            0.38004            NaN   \n",
       "\n",
       "    tvlDelta60Days tvlDelta90Days tvlDelta1Epoch tvlDelta2Epoch  ...  \\\n",
       "23             NaN            NaN            NaN            NaN  ...   \n",
       "73             NaN            NaN            NaN            NaN  ...   \n",
       "43             NaN            NaN            NaN            NaN  ...   \n",
       "87             NaN            NaN            NaN            NaN  ...   \n",
       "100            NaN            NaN            NaN            NaN  ...   \n",
       "..             ...            ...            ...            ...  ...   \n",
       "37             NaN            NaN            NaN            NaN  ...   \n",
       "8              NaN            NaN            NaN            NaN  ...   \n",
       "19             NaN            NaN            NaN            NaN  ...   \n",
       "1              NaN            NaN            NaN            NaN  ...   \n",
       "0              NaN            NaN            NaN            NaN  ...   \n",
       "\n",
       "    firstWithdrawalEpoch firstWithdrawalAmount firstWithdrawalToken  \\\n",
       "23                   NaN                   NaN                  NaN   \n",
       "73                   NaN                   NaN                  NaN   \n",
       "43                   NaN                   NaN                  NaN   \n",
       "87                   NaN                   NaN                  NaN   \n",
       "100                  NaN                   NaN                  NaN   \n",
       "..                   ...                   ...                  ...   \n",
       "37                   NaN                   NaN                  NaN   \n",
       "8                    NaN                   NaN                  NaN   \n",
       "19                   NaN                   NaN                  NaN   \n",
       "1                    NaN                   NaN                  NaN   \n",
       "0                    NaN                   NaN                  NaN   \n",
       "\n",
       "    lastWithdrawalDate lastWithdrawalEpoch  lastWithdrawalAmount  \\\n",
       "23                 NaN                 NaN                   NaN   \n",
       "73                 NaN                 NaN                   NaN   \n",
       "43                 NaN                 NaN                   NaN   \n",
       "87                 NaN                 NaN                   NaN   \n",
       "100                NaN                 NaN                   NaN   \n",
       "..                 ...                 ...                   ...   \n",
       "37                 NaN                 NaN                   NaN   \n",
       "8                  NaN                 NaN                   NaN   \n",
       "19                 NaN                 NaN                   NaN   \n",
       "1                  NaN                 NaN                   NaN   \n",
       "0                  NaN                 NaN                   NaN   \n",
       "\n",
       "    lastWithdrawalToken hasChurned churnDate churnEpoch  \n",
       "23                  NaN        NaN       NaN        NaN  \n",
       "73                  NaN        NaN       NaN        NaN  \n",
       "43                  NaN        NaN       NaN        NaN  \n",
       "87                  NaN        NaN       NaN        NaN  \n",
       "100                 NaN        NaN       NaN        NaN  \n",
       "..                  ...        ...       ...        ...  \n",
       "37                  NaN        NaN       NaN        NaN  \n",
       "8                   NaN        NaN       NaN        NaN  \n",
       "19                  NaN        NaN       NaN        NaN  \n",
       "1                   NaN        NaN       NaN        NaN  \n",
       "0                   NaN        NaN       NaN        NaN  \n",
       "\n",
       "[76 rows x 34 columns]"
      ]
     },
     "execution_count": 55,
     "metadata": {},
     "output_type": "execute_result"
    }
   ],
   "source": [
    "user_deposit_table.sort_values('asOfDate')"
   ]
  },
  {
   "cell_type": "code",
   "execution_count": 52,
   "id": "f861b5a9-6093-459d-a29d-effca9f0ee84",
   "metadata": {
    "tags": []
   },
   "outputs": [
    {
     "data": {
      "text/html": [
       "<div>\n",
       "<style scoped>\n",
       "    .dataframe tbody tr th:only-of-type {\n",
       "        vertical-align: middle;\n",
       "    }\n",
       "\n",
       "    .dataframe tbody tr th {\n",
       "        vertical-align: top;\n",
       "    }\n",
       "\n",
       "    .dataframe thead th {\n",
       "        text-align: right;\n",
       "    }\n",
       "</style>\n",
       "<table border=\"1\" class=\"dataframe\">\n",
       "  <thead>\n",
       "    <tr style=\"text-align: right;\">\n",
       "      <th></th>\n",
       "      <th>variable</th>\n",
       "      <th>value</th>\n",
       "    </tr>\n",
       "  </thead>\n",
       "  <tbody>\n",
       "    <tr>\n",
       "      <th>0</th>\n",
       "      <td>userAddress</td>\n",
       "      <td>ANE7Nsw5zuF4sdrkGr1Q4ETHYXZu7wyQ4Tq8hhaa9mxE</td>\n",
       "    </tr>\n",
       "    <tr>\n",
       "      <th>1</th>\n",
       "      <td>userAddress</td>\n",
       "      <td>ANE7Nsw5zuF4sdrkGr1Q4ETHYXZu7wyQ4Tq8hhaa9mxE</td>\n",
       "    </tr>\n",
       "    <tr>\n",
       "      <th>2</th>\n",
       "      <td>userAddress</td>\n",
       "      <td>ANE7Nsw5zuF4sdrkGr1Q4ETHYXZu7wyQ4Tq8hhaa9mxE</td>\n",
       "    </tr>\n",
       "    <tr>\n",
       "      <th>3</th>\n",
       "      <td>userAddress</td>\n",
       "      <td>ANE7Nsw5zuF4sdrkGr1Q4ETHYXZu7wyQ4Tq8hhaa9mxE</td>\n",
       "    </tr>\n",
       "    <tr>\n",
       "      <th>4</th>\n",
       "      <td>userAddress</td>\n",
       "      <td>ANE7Nsw5zuF4sdrkGr1Q4ETHYXZu7wyQ4Tq8hhaa9mxE</td>\n",
       "    </tr>\n",
       "    <tr>\n",
       "      <th>...</th>\n",
       "      <td>...</td>\n",
       "      <td>...</td>\n",
       "    </tr>\n",
       "    <tr>\n",
       "      <th>2579</th>\n",
       "      <td>churnEpoch</td>\n",
       "      <td>NaN</td>\n",
       "    </tr>\n",
       "    <tr>\n",
       "      <th>2580</th>\n",
       "      <td>churnEpoch</td>\n",
       "      <td>NaN</td>\n",
       "    </tr>\n",
       "    <tr>\n",
       "      <th>2581</th>\n",
       "      <td>churnEpoch</td>\n",
       "      <td>NaN</td>\n",
       "    </tr>\n",
       "    <tr>\n",
       "      <th>2582</th>\n",
       "      <td>churnEpoch</td>\n",
       "      <td>NaN</td>\n",
       "    </tr>\n",
       "    <tr>\n",
       "      <th>2583</th>\n",
       "      <td>churnEpoch</td>\n",
       "      <td>NaN</td>\n",
       "    </tr>\n",
       "  </tbody>\n",
       "</table>\n",
       "<p>2584 rows × 2 columns</p>\n",
       "</div>"
      ],
      "text/plain": [
       "         variable                                         value\n",
       "0     userAddress  ANE7Nsw5zuF4sdrkGr1Q4ETHYXZu7wyQ4Tq8hhaa9mxE\n",
       "1     userAddress  ANE7Nsw5zuF4sdrkGr1Q4ETHYXZu7wyQ4Tq8hhaa9mxE\n",
       "2     userAddress  ANE7Nsw5zuF4sdrkGr1Q4ETHYXZu7wyQ4Tq8hhaa9mxE\n",
       "3     userAddress  ANE7Nsw5zuF4sdrkGr1Q4ETHYXZu7wyQ4Tq8hhaa9mxE\n",
       "4     userAddress  ANE7Nsw5zuF4sdrkGr1Q4ETHYXZu7wyQ4Tq8hhaa9mxE\n",
       "...           ...                                           ...\n",
       "2579   churnEpoch                                           NaN\n",
       "2580   churnEpoch                                           NaN\n",
       "2581   churnEpoch                                           NaN\n",
       "2582   churnEpoch                                           NaN\n",
       "2583   churnEpoch                                           NaN\n",
       "\n",
       "[2584 rows x 2 columns]"
      ]
     },
     "execution_count": 52,
     "metadata": {},
     "output_type": "execute_result"
    }
   ],
   "source": [
    "user_deposit_table.melt()"
   ]
  },
  {
   "cell_type": "markdown",
   "id": "08b319dd-bf04-47b5-be1a-f440bb2c2313",
   "metadata": {},
   "source": [
    "### tvlDelta1Epoch"
   ]
  },
  {
   "cell_type": "markdown",
   "id": "492d1f60-ebf6-4470-ac3e-a6f5a723ce8d",
   "metadata": {},
   "source": [
    "### tvlDelta2Epoch"
   ]
  },
  {
   "cell_type": "markdown",
   "id": "6f20572a-935a-4c90-a6fa-57864c7341ab",
   "metadata": {},
   "source": [
    "### tvlDelta3Epoch"
   ]
  },
  {
   "cell_type": "markdown",
   "id": "25e64a7c-d17a-4b85-9471-f1ede3715177",
   "metadata": {},
   "source": [
    "### tvlDelta4Epoch"
   ]
  },
  {
   "cell_type": "markdown",
   "id": "904583a8-a36a-4b47-99c1-0738e4d741bd",
   "metadata": {},
   "source": [
    "### tvlDelta5Epoch"
   ]
  },
  {
   "cell_type": "markdown",
   "id": "4ce4ccd5-638e-443f-9807-a545022f3662",
   "metadata": {},
   "source": [
    "### lastDepositDate"
   ]
  },
  {
   "cell_type": "markdown",
   "id": "1e676d9a-d0e7-4a89-97c5-d9acd6a5a512",
   "metadata": {},
   "source": [
    "### lastDepositEpoch"
   ]
  },
  {
   "cell_type": "markdown",
   "id": "d0063084-9324-430d-b7df-3c0b8838d979",
   "metadata": {},
   "source": [
    "### lastDepositAmount"
   ]
  },
  {
   "cell_type": "markdown",
   "id": "f3474ef1-c878-4b2c-97da-dbf3567971ec",
   "metadata": {},
   "source": [
    "### lastDepositToken"
   ]
  },
  {
   "cell_type": "markdown",
   "id": "a85c1e43-41ab-409d-8533-90902228af91",
   "metadata": {},
   "source": [
    "### daysSinceLastDeposit"
   ]
  },
  {
   "cell_type": "markdown",
   "id": "5be7ebbd-2238-4c58-93a8-871db5df6c03",
   "metadata": {},
   "source": [
    "### epochsSinceLastDeposit"
   ]
  },
  {
   "cell_type": "markdown",
   "id": "e25439ed-3e73-4167-a148-f07d9c1194db",
   "metadata": {},
   "source": [
    "### firstWithdrawalDate"
   ]
  },
  {
   "cell_type": "markdown",
   "id": "0c3b0ec2-d3c6-4b81-ba33-4e681a889e0e",
   "metadata": {},
   "source": [
    "### firstWithdrawalEpoch"
   ]
  },
  {
   "cell_type": "markdown",
   "id": "eab4effb-c051-4a9a-ac35-84d436b7d59a",
   "metadata": {},
   "source": [
    "### firstWithdrawalAmount"
   ]
  },
  {
   "cell_type": "markdown",
   "id": "28073e6b-5c35-4c50-9112-3e14791aa4e2",
   "metadata": {},
   "source": [
    "### firstWithdrawalToken"
   ]
  },
  {
   "cell_type": "markdown",
   "id": "8a9f3d30-ed86-499d-92c4-70b6610085e7",
   "metadata": {},
   "source": [
    "### lastWithdrawalDate"
   ]
  },
  {
   "cell_type": "markdown",
   "id": "e795732d-a54a-43b7-a973-c9536fb98a4d",
   "metadata": {},
   "source": [
    "### lastWithdrawalEpoch"
   ]
  },
  {
   "cell_type": "markdown",
   "id": "f5c78c59-3928-4950-8da9-fec5293befa3",
   "metadata": {},
   "source": [
    "### lastWithdrawalAmount"
   ]
  },
  {
   "cell_type": "markdown",
   "id": "84f3dcfd-ad1f-4f0b-8aba-c6a3810b7897",
   "metadata": {},
   "source": [
    "### lastWithdrawalToken"
   ]
  },
  {
   "cell_type": "markdown",
   "id": "117e4162-c823-49d0-8731-d5967b7ee23e",
   "metadata": {},
   "source": [
    "### hasChurned"
   ]
  },
  {
   "cell_type": "markdown",
   "id": "9b0f6f99-120e-4caa-b32d-3463966a50c5",
   "metadata": {},
   "source": [
    "### chrunDate"
   ]
  },
  {
   "cell_type": "markdown",
   "id": "2eaa5750-3a8c-42ef-94e3-5fbe2b89b618",
   "metadata": {},
   "source": [
    "### churnEpoch"
   ]
  },
  {
   "cell_type": "code",
   "execution_count": null,
   "id": "8f643b37-7138-4196-aa8b-8907694121d6",
   "metadata": {},
   "outputs": [],
   "source": []
  }
 ],
 "metadata": {
  "environment": {
   "kernel": "python3",
   "name": "common-cpu.m91",
   "type": "gcloud",
   "uri": "gcr.io/deeplearning-platform-release/base-cpu:m91"
  },
  "kernelspec": {
   "display_name": "Python 3",
   "language": "python",
   "name": "python3"
  },
  "language_info": {
   "codemirror_mode": {
    "name": "ipython",
    "version": 3
   },
   "file_extension": ".py",
   "mimetype": "text/x-python",
   "name": "python",
   "nbconvert_exporter": "python",
   "pygments_lexer": "ipython3",
   "version": "3.7.12"
  }
 },
 "nbformat": 4,
 "nbformat_minor": 5
}
