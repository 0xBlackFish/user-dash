{
 "cells": [
  {
   "cell_type": "code",
   "execution_count": 7,
   "id": "924a5009-4c1e-4bb8-bdb6-b236b937345d",
   "metadata": {},
   "outputs": [],
   "source": [
    "import friktionless"
   ]
  },
  {
   "cell_type": "code",
   "execution_count": 8,
   "id": "1a6c677c-d582-4fbd-af6a-e45ea19415b4",
   "metadata": {},
   "outputs": [],
   "source": [
    "import pandas as pd"
   ]
  },
  {
   "cell_type": "code",
   "execution_count": 9,
   "id": "131039fb-b6ca-4cff-8749-01049c3a71ea",
   "metadata": {},
   "outputs": [],
   "source": [
    "dates = pd.read_gbq(\n",
    "    query='select distinct date(timestamp) as date from solana.deposits',\n",
    "    project_id='friktion-dev'\n",
    "    )"
   ]
  },
  {
   "cell_type": "code",
   "execution_count": 10,
   "id": "c549be69-5b87-4f3a-aea0-50beba1bfbc5",
   "metadata": {},
   "outputs": [
    {
     "data": {
      "text/html": [
       "<div>\n",
       "<style scoped>\n",
       "    .dataframe tbody tr th:only-of-type {\n",
       "        vertical-align: middle;\n",
       "    }\n",
       "\n",
       "    .dataframe tbody tr th {\n",
       "        vertical-align: top;\n",
       "    }\n",
       "\n",
       "    .dataframe thead th {\n",
       "        text-align: right;\n",
       "    }\n",
       "</style>\n",
       "<table border=\"1\" class=\"dataframe\">\n",
       "  <thead>\n",
       "    <tr style=\"text-align: right;\">\n",
       "      <th></th>\n",
       "      <th>date</th>\n",
       "    </tr>\n",
       "  </thead>\n",
       "  <tbody>\n",
       "    <tr>\n",
       "      <th>count</th>\n",
       "      <td>110</td>\n",
       "    </tr>\n",
       "    <tr>\n",
       "      <th>unique</th>\n",
       "      <td>110</td>\n",
       "    </tr>\n",
       "    <tr>\n",
       "      <th>top</th>\n",
       "      <td>2022-04-04</td>\n",
       "    </tr>\n",
       "    <tr>\n",
       "      <th>freq</th>\n",
       "      <td>1</td>\n",
       "    </tr>\n",
       "  </tbody>\n",
       "</table>\n",
       "</div>"
      ],
      "text/plain": [
       "              date\n",
       "count          110\n",
       "unique         110\n",
       "top     2022-04-04\n",
       "freq             1"
      ]
     },
     "execution_count": 10,
     "metadata": {},
     "output_type": "execute_result"
    }
   ],
   "source": [
    "dates.describe()"
   ]
  },
  {
   "cell_type": "code",
   "execution_count": 11,
   "id": "e7d17fbb-e54a-425e-a0ee-01741ba3efe5",
   "metadata": {},
   "outputs": [],
   "source": [
    "users = pd.read_gbq(\n",
    "    query='select distinct(userAddress) as userAddress from solana.deposits')"
   ]
  },
  {
   "cell_type": "code",
   "execution_count": 12,
   "id": "a4eb3e37-3f2e-4ec2-a0d3-5bcfd8bdcc9a",
   "metadata": {},
   "outputs": [
    {
     "data": {
      "text/html": [
       "<div>\n",
       "<style scoped>\n",
       "    .dataframe tbody tr th:only-of-type {\n",
       "        vertical-align: middle;\n",
       "    }\n",
       "\n",
       "    .dataframe tbody tr th {\n",
       "        vertical-align: top;\n",
       "    }\n",
       "\n",
       "    .dataframe thead th {\n",
       "        text-align: right;\n",
       "    }\n",
       "</style>\n",
       "<table border=\"1\" class=\"dataframe\">\n",
       "  <thead>\n",
       "    <tr style=\"text-align: right;\">\n",
       "      <th></th>\n",
       "      <th>userAddress</th>\n",
       "    </tr>\n",
       "  </thead>\n",
       "  <tbody>\n",
       "    <tr>\n",
       "      <th>count</th>\n",
       "      <td>13893</td>\n",
       "    </tr>\n",
       "    <tr>\n",
       "      <th>unique</th>\n",
       "      <td>13893</td>\n",
       "    </tr>\n",
       "    <tr>\n",
       "      <th>top</th>\n",
       "      <td>wGm3yCrVppHYratwKAv9pBNRbge18rpn9XiAujZ6jwF</td>\n",
       "    </tr>\n",
       "    <tr>\n",
       "      <th>freq</th>\n",
       "      <td>1</td>\n",
       "    </tr>\n",
       "  </tbody>\n",
       "</table>\n",
       "</div>"
      ],
      "text/plain": [
       "                                        userAddress\n",
       "count                                         13893\n",
       "unique                                        13893\n",
       "top     wGm3yCrVppHYratwKAv9pBNRbge18rpn9XiAujZ6jwF\n",
       "freq                                              1"
      ]
     },
     "execution_count": 12,
     "metadata": {},
     "output_type": "execute_result"
    }
   ],
   "source": [
    "users.describe()"
   ]
  },
  {
   "cell_type": "code",
   "execution_count": 13,
   "id": "dd1fc45e-472e-441a-a78c-ac1dac019dbb",
   "metadata": {},
   "outputs": [],
   "source": [
    "user_first_deposits_dates = pd.read_gbq(\n",
    "    query='select userAddress, min(date(timestamp)) as first_deposit_dt from solana.deposits group by userAddress')"
   ]
  },
  {
   "cell_type": "code",
   "execution_count": 14,
   "id": "ed631615-073f-49dc-9db4-b47096548dce",
   "metadata": {},
   "outputs": [
    {
     "data": {
      "text/html": [
       "<div>\n",
       "<style scoped>\n",
       "    .dataframe tbody tr th:only-of-type {\n",
       "        vertical-align: middle;\n",
       "    }\n",
       "\n",
       "    .dataframe tbody tr th {\n",
       "        vertical-align: top;\n",
       "    }\n",
       "\n",
       "    .dataframe thead th {\n",
       "        text-align: right;\n",
       "    }\n",
       "</style>\n",
       "<table border=\"1\" class=\"dataframe\">\n",
       "  <thead>\n",
       "    <tr style=\"text-align: right;\">\n",
       "      <th></th>\n",
       "      <th>userAddress</th>\n",
       "      <th>first_deposit_dt</th>\n",
       "    </tr>\n",
       "  </thead>\n",
       "  <tbody>\n",
       "    <tr>\n",
       "      <th>count</th>\n",
       "      <td>13893</td>\n",
       "      <td>13893</td>\n",
       "    </tr>\n",
       "    <tr>\n",
       "      <th>unique</th>\n",
       "      <td>13893</td>\n",
       "      <td>110</td>\n",
       "    </tr>\n",
       "    <tr>\n",
       "      <th>top</th>\n",
       "      <td>wGm3yCrVppHYratwKAv9pBNRbge18rpn9XiAujZ6jwF</td>\n",
       "      <td>2022-03-30</td>\n",
       "    </tr>\n",
       "    <tr>\n",
       "      <th>freq</th>\n",
       "      <td>1</td>\n",
       "      <td>2158</td>\n",
       "    </tr>\n",
       "  </tbody>\n",
       "</table>\n",
       "</div>"
      ],
      "text/plain": [
       "                                        userAddress first_deposit_dt\n",
       "count                                         13893            13893\n",
       "unique                                        13893              110\n",
       "top     wGm3yCrVppHYratwKAv9pBNRbge18rpn9XiAujZ6jwF       2022-03-30\n",
       "freq                                              1             2158"
      ]
     },
     "execution_count": 14,
     "metadata": {},
     "output_type": "execute_result"
    }
   ],
   "source": [
    "user_first_deposits_dates.describe()"
   ]
  },
  {
   "cell_type": "code",
   "execution_count": 15,
   "id": "d8d18a3c-1b42-4ddf-a083-3c9cb1da9b1e",
   "metadata": {},
   "outputs": [
    {
     "data": {
      "text/plain": [
       "'wGm3yCrVppHYratwKAv9pBNRbge18rpn9XiAujZ6jwF'"
      ]
     },
     "execution_count": 15,
     "metadata": {},
     "output_type": "execute_result"
    }
   ],
   "source": [
    "users.iloc[0][0]"
   ]
  },
  {
   "cell_type": "code",
   "execution_count": 16,
   "id": "08b1a4db-9bed-4240-97eb-b80c9082c826",
   "metadata": {},
   "outputs": [
    {
     "data": {
      "text/html": [
       "<div>\n",
       "<style scoped>\n",
       "    .dataframe tbody tr th:only-of-type {\n",
       "        vertical-align: middle;\n",
       "    }\n",
       "\n",
       "    .dataframe tbody tr th {\n",
       "        vertical-align: top;\n",
       "    }\n",
       "\n",
       "    .dataframe thead th {\n",
       "        text-align: right;\n",
       "    }\n",
       "</style>\n",
       "<table border=\"1\" class=\"dataframe\">\n",
       "  <thead>\n",
       "    <tr style=\"text-align: right;\">\n",
       "      <th></th>\n",
       "      <th>userAddress</th>\n",
       "      <th>first_deposit_dt</th>\n",
       "    </tr>\n",
       "  </thead>\n",
       "  <tbody>\n",
       "    <tr>\n",
       "      <th>0</th>\n",
       "      <td>wGm3yCrVppHYratwKAv9pBNRbge18rpn9XiAujZ6jwF</td>\n",
       "      <td>2022-04-04</td>\n",
       "    </tr>\n",
       "  </tbody>\n",
       "</table>\n",
       "</div>"
      ],
      "text/plain": [
       "                                   userAddress first_deposit_dt\n",
       "0  wGm3yCrVppHYratwKAv9pBNRbge18rpn9XiAujZ6jwF       2022-04-04"
      ]
     },
     "execution_count": 16,
     "metadata": {},
     "output_type": "execute_result"
    }
   ],
   "source": [
    "user_first_deposits_dates[user_first_deposits_dates['userAddress'].str.contains(users.iloc[0][0])]"
   ]
  },
  {
   "cell_type": "code",
   "execution_count": 17,
   "id": "61d99b42-689b-4aeb-847f-b668be162178",
   "metadata": {},
   "outputs": [],
   "source": [
    "# eventuall you'll iterate through this activity of making a user table per userAddress and then unioning together with all the others"
   ]
  },
  {
   "cell_type": "code",
   "execution_count": 18,
   "id": "f8a50c8a-2d7b-4859-be70-a1f15c906d3a",
   "metadata": {},
   "outputs": [],
   "source": [
    "# to make this iterate through all users increment the first value in the iloc call\n",
    "current_user_address = users.iloc[0][0]\n",
    "user_first_deposit_date = user_first_deposits_dates[user_first_deposits_dates['userAddress'].str.contains(current_user_address)]['first_deposit_dt']"
   ]
  },
  {
   "cell_type": "code",
   "execution_count": 19,
   "id": "6cf7a65a-e31d-48ec-bb5b-298ccf80cfc9",
   "metadata": {},
   "outputs": [],
   "source": [
    "user_deposit_table = pd.DataFrame(columns=['userAddress', 'asOfDate', 'totalValueLockedUSD', 'totalDepositedUSD', 'totalWithdrawnUSD', \\\n",
    "                                           'tvlDelta30Days', 'tvlDelta60Days', 'tvlDelta90Days', \\\n",
    "                                           'tvlDelta1Epoch', 'tvlDelta2Epoch', \\\n",
    "                                           'tvlDelta3Epoch', 'tvlDelta4Epoch', 'tvlDelta5Epoch', \\\n",
    "                                           'firstDepositDate', 'firstDepositEpoch', 'firstDepositAmount', 'firstDepositToken', \\\n",
    "                                           'lastDepositDate', 'lastDepositEpoch', 'lastDepositAmount', 'lastDepositToken', \\\n",
    "                                           'daysSinceLastDeposit', 'epochsSinceLastDeposit', \\\n",
    "                                           'firstWithdrawalDate', 'firstWithdrawalEpoch', 'firstWithdrawalAmount', 'firstWithdrawalToken', \\\n",
    "                                           'lastWithdrawalDate', 'lastWithdrawalEpoch', 'lastWithdrawalAmount', 'lastWithdrawalToken', \\\n",
    "                                           'hasChurned', 'churnDate', 'churnEpoch'])"
   ]
  },
  {
   "cell_type": "markdown",
   "id": "e1e03886-3c40-4cc8-b139-d5d4a23182a4",
   "metadata": {},
   "source": [
    "### asOfDate"
   ]
  },
  {
   "cell_type": "code",
   "execution_count": 20,
   "id": "2c6fbeaf-6f57-4e3e-8b08-181e160a0782",
   "metadata": {},
   "outputs": [],
   "source": [
    "user_deposit_table['asOfDate'] = dates[dates['date'].apply(lambda x: x>=user_first_deposit_date).iloc[:,0]]"
   ]
  },
  {
   "cell_type": "markdown",
   "id": "80a709e4-a7d1-448e-905d-a2d11f836da7",
   "metadata": {},
   "source": [
    "### userAddress"
   ]
  },
  {
   "cell_type": "code",
   "execution_count": 21,
   "id": "d51f1f49-f522-4d34-a450-c1ce716d1562",
   "metadata": {},
   "outputs": [],
   "source": [
    "user_deposit_table['userAddress'] = current_user_address"
   ]
  },
  {
   "cell_type": "markdown",
   "id": "57075aad-1066-4a63-8399-25e3e9a2fd9b",
   "metadata": {},
   "source": [
    "### totalValueDepositedUSD\n",
    "TODO: Add logic to covert to USD"
   ]
  },
  {
   "cell_type": "markdown",
   "id": "f67eb22e-fa8e-4715-a4a4-976428f335a6",
   "metadata": {},
   "source": [
    "#### inner loop logic"
   ]
  },
  {
   "cell_type": "code",
   "execution_count": 22,
   "id": "92a6ff01-87f6-453b-985c-f9ae8b7eb938",
   "metadata": {},
   "outputs": [
    {
     "data": {
      "text/html": [
       "<div>\n",
       "<style scoped>\n",
       "    .dataframe tbody tr th:only-of-type {\n",
       "        vertical-align: middle;\n",
       "    }\n",
       "\n",
       "    .dataframe tbody tr th {\n",
       "        vertical-align: top;\n",
       "    }\n",
       "\n",
       "    .dataframe thead th {\n",
       "        text-align: right;\n",
       "    }\n",
       "</style>\n",
       "<table border=\"1\" class=\"dataframe\">\n",
       "  <thead>\n",
       "    <tr style=\"text-align: right;\">\n",
       "      <th></th>\n",
       "      <th>total_deposited</th>\n",
       "    </tr>\n",
       "  </thead>\n",
       "  <tbody>\n",
       "    <tr>\n",
       "      <th>0</th>\n",
       "      <td>1.0</td>\n",
       "    </tr>\n",
       "  </tbody>\n",
       "</table>\n",
       "</div>"
      ],
      "text/plain": [
       "   total_deposited\n",
       "0              1.0"
      ]
     },
     "execution_count": 22,
     "metadata": {},
     "output_type": "execute_result"
    }
   ],
   "source": [
    "query_date = user_deposit_table['asOfDate'][0].isoformat()\n",
    "pd.read_gbq(query=f\"select sum(amount) as total_deposited from solana.deposits where userAddress=\\'{current_user_address}\\' and date(timestamp) <= date(\\'{query_date}\\')\")"
   ]
  },
  {
   "cell_type": "code",
   "execution_count": 23,
   "id": "36cd3cc9-a879-422b-8388-a118bc018f33",
   "metadata": {},
   "outputs": [],
   "source": [
    "# need to add market marking code\n",
    "user_deposit_table['totalDepositedUSD'] = [pd.read_gbq(query=f\"select sum(amount) as total_deposited from solana.deposits where userAddress=\\'{current_user_address}\\' and date(timestamp) <= date(\\'{query_date.isoformat()}\\')\").iloc[0,0] for query_date in user_deposit_table['asOfDate'].tolist()]"
   ]
  },
  {
   "cell_type": "markdown",
   "id": "ce13ec75-a6ed-4f41-9022-e4ef4eeac47f",
   "metadata": {},
   "source": [
    "### totalValueWithdrawnUSD\n",
    "TODO: Add logic to convert to USD"
   ]
  },
  {
   "cell_type": "code",
   "execution_count": 24,
   "id": "0f0062f9-abf7-4eda-aa60-56ed2acdc974",
   "metadata": {},
   "outputs": [
    {
     "data": {
      "text/plain": [
       "0.0"
      ]
     },
     "execution_count": 24,
     "metadata": {},
     "output_type": "execute_result"
    }
   ],
   "source": [
    "query_date = user_deposit_table['asOfDate'][0].isoformat()\n",
    "pd.read_gbq(query=f\"select sum(amount) as total_withdrawn from solana.withdrawals where userAddress=\\'{current_user_address}\\' and date(timestamp) <= date(\\'{query_date}\\')\").fillna(0).iloc[0,0]"
   ]
  },
  {
   "cell_type": "code",
   "execution_count": 25,
   "id": "06d32b85-eba8-4d94-8587-a08721820155",
   "metadata": {},
   "outputs": [],
   "source": [
    "# need to add market marking code\n",
    "user_deposit_table['totalWithdrawnUSD'] = [pd.read_gbq(query=f\"select sum(amount) as total_withdrawn from solana.withdrawals where userAddress=\\'{current_user_address}\\' and date(timestamp) <= date(\\'{query_date.isoformat()}\\')\").fillna(0).iloc[0,0] for query_date in user_deposit_table['asOfDate'].tolist()]"
   ]
  },
  {
   "cell_type": "markdown",
   "id": "646b7bef-9229-42f8-9217-3c7c7e53cf48",
   "metadata": {},
   "source": [
    "### totalValueLockedUSD"
   ]
  },
  {
   "cell_type": "code",
   "execution_count": 26,
   "id": "2ae13d41-f256-45d5-bc42-467795551fa0",
   "metadata": {},
   "outputs": [],
   "source": [
    "user_deposit_table['totalValueLockedUSD'] = user_deposit_table['totalDepositedUSD'] - user_deposit_table['totalWithdrawnUSD']"
   ]
  },
  {
   "cell_type": "markdown",
   "id": "f787bea5-5259-4d3e-a46a-4e8a1dae444d",
   "metadata": {},
   "source": [
    "### firstDepositDate"
   ]
  },
  {
   "cell_type": "code",
   "execution_count": 36,
   "id": "c08af4d6-94d9-4df9-b0f1-3d56fa961840",
   "metadata": {},
   "outputs": [],
   "source": [
    "first_deposit_date = user_first_deposits_dates[user_first_deposits_dates['userAddress'].str.match(current_user_address)]['first_deposit_dt'].iloc[0]\n",
    "user_deposit_table['firstDepositDate'] =  first_deposit_date"
   ]
  },
  {
   "cell_type": "markdown",
   "id": "96e9c331-a716-4de4-8a4c-7e5df6ec8fbc",
   "metadata": {},
   "source": [
    "### firstDepositEpoch"
   ]
  },
  {
   "cell_type": "markdown",
   "id": "0dd932d0-6a2b-408e-8bd9-008ef4e5c02a",
   "metadata": {},
   "source": [
    "### firstDepositAmount"
   ]
  },
  {
   "cell_type": "code",
   "execution_count": 41,
   "id": "ae66fea1-cf0a-42d7-99b4-cc4c39f2b7bd",
   "metadata": {},
   "outputs": [],
   "source": [
    "user_deposit_table['firstDepositAmount'] = pd.read_gbq(query=f'select sum(amount) from solana.deposits where userAddress = \\'{current_user_address}\\' and date(timestamp) = \\'{first_deposit_date.isoformat()}\\'').iloc[0,0]"
   ]
  },
  {
   "cell_type": "markdown",
   "id": "994deb6f-b30d-4026-9413-40a25debc215",
   "metadata": {},
   "source": [
    "### firstDepositToken"
   ]
  },
  {
   "cell_type": "code",
   "execution_count": 44,
   "id": "54250adc-75f7-4391-8fa6-171f4fcc2ee7",
   "metadata": {},
   "outputs": [],
   "source": [
    "user_deposit_table['firstDepositToken'] = pd.read_gbq(query=f'select currencyName from solana.deposits where userAddress = \\'{current_user_address}\\' and date(timestamp) = \\'{first_deposit_date.isoformat()}\\'').iloc[0,0]"
   ]
  },
  {
   "cell_type": "markdown",
   "id": "1f1d617f-a50d-4d9a-9813-886a9d7c1fcb",
   "metadata": {},
   "source": [
    "### tvlDelta30Days"
   ]
  },
  {
   "cell_type": "markdown",
   "id": "f71cba56-d790-4910-b0fb-eefb5261aa12",
   "metadata": {},
   "source": [
    "### tvlDelta60Days"
   ]
  },
  {
   "cell_type": "markdown",
   "id": "b213b3a4-c957-4fe7-a9dd-da3f0f634c70",
   "metadata": {},
   "source": [
    "### tvlDelta90Days"
   ]
  },
  {
   "cell_type": "code",
   "execution_count": 45,
   "id": "f861b5a9-6093-459d-a29d-effca9f0ee84",
   "metadata": {
    "tags": []
   },
   "outputs": [
    {
     "data": {
      "text/html": [
       "<div>\n",
       "<style scoped>\n",
       "    .dataframe tbody tr th:only-of-type {\n",
       "        vertical-align: middle;\n",
       "    }\n",
       "\n",
       "    .dataframe tbody tr th {\n",
       "        vertical-align: top;\n",
       "    }\n",
       "\n",
       "    .dataframe thead th {\n",
       "        text-align: right;\n",
       "    }\n",
       "</style>\n",
       "<table border=\"1\" class=\"dataframe\">\n",
       "  <thead>\n",
       "    <tr style=\"text-align: right;\">\n",
       "      <th></th>\n",
       "      <th>variable</th>\n",
       "      <th>value</th>\n",
       "    </tr>\n",
       "  </thead>\n",
       "  <tbody>\n",
       "    <tr>\n",
       "      <th>0</th>\n",
       "      <td>userAddress</td>\n",
       "      <td>wGm3yCrVppHYratwKAv9pBNRbge18rpn9XiAujZ6jwF</td>\n",
       "    </tr>\n",
       "    <tr>\n",
       "      <th>1</th>\n",
       "      <td>asOfDate</td>\n",
       "      <td>2022-04-04</td>\n",
       "    </tr>\n",
       "    <tr>\n",
       "      <th>2</th>\n",
       "      <td>totalValueLockedUSD</td>\n",
       "      <td>1.0</td>\n",
       "    </tr>\n",
       "    <tr>\n",
       "      <th>3</th>\n",
       "      <td>totalDepositedUSD</td>\n",
       "      <td>1.0</td>\n",
       "    </tr>\n",
       "    <tr>\n",
       "      <th>4</th>\n",
       "      <td>totalWithdrawnUSD</td>\n",
       "      <td>0.0</td>\n",
       "    </tr>\n",
       "    <tr>\n",
       "      <th>5</th>\n",
       "      <td>tvlDelta30Days</td>\n",
       "      <td>NaN</td>\n",
       "    </tr>\n",
       "    <tr>\n",
       "      <th>6</th>\n",
       "      <td>tvlDelta60Days</td>\n",
       "      <td>NaN</td>\n",
       "    </tr>\n",
       "    <tr>\n",
       "      <th>7</th>\n",
       "      <td>tvlDelta90Days</td>\n",
       "      <td>NaN</td>\n",
       "    </tr>\n",
       "    <tr>\n",
       "      <th>8</th>\n",
       "      <td>tvlDelta1Epoch</td>\n",
       "      <td>NaN</td>\n",
       "    </tr>\n",
       "    <tr>\n",
       "      <th>9</th>\n",
       "      <td>tvlDelta2Epoch</td>\n",
       "      <td>NaN</td>\n",
       "    </tr>\n",
       "    <tr>\n",
       "      <th>10</th>\n",
       "      <td>tvlDelta3Epoch</td>\n",
       "      <td>NaN</td>\n",
       "    </tr>\n",
       "    <tr>\n",
       "      <th>11</th>\n",
       "      <td>tvlDelta4Epoch</td>\n",
       "      <td>NaN</td>\n",
       "    </tr>\n",
       "    <tr>\n",
       "      <th>12</th>\n",
       "      <td>tvlDelta5Epoch</td>\n",
       "      <td>NaN</td>\n",
       "    </tr>\n",
       "    <tr>\n",
       "      <th>13</th>\n",
       "      <td>firstDepositDate</td>\n",
       "      <td>2022-04-04</td>\n",
       "    </tr>\n",
       "    <tr>\n",
       "      <th>14</th>\n",
       "      <td>firstDepositEpoch</td>\n",
       "      <td>NaN</td>\n",
       "    </tr>\n",
       "    <tr>\n",
       "      <th>15</th>\n",
       "      <td>firstDepositAmount</td>\n",
       "      <td>1.0</td>\n",
       "    </tr>\n",
       "    <tr>\n",
       "      <th>16</th>\n",
       "      <td>firstDepositToken</td>\n",
       "      <td>Wrapped SOL</td>\n",
       "    </tr>\n",
       "    <tr>\n",
       "      <th>17</th>\n",
       "      <td>lastDepositDate</td>\n",
       "      <td>NaN</td>\n",
       "    </tr>\n",
       "    <tr>\n",
       "      <th>18</th>\n",
       "      <td>lastDepositEpoch</td>\n",
       "      <td>NaN</td>\n",
       "    </tr>\n",
       "    <tr>\n",
       "      <th>19</th>\n",
       "      <td>lastDepositAmount</td>\n",
       "      <td>NaN</td>\n",
       "    </tr>\n",
       "    <tr>\n",
       "      <th>20</th>\n",
       "      <td>lastDepositToken</td>\n",
       "      <td>NaN</td>\n",
       "    </tr>\n",
       "    <tr>\n",
       "      <th>21</th>\n",
       "      <td>daysSinceLastDeposit</td>\n",
       "      <td>NaN</td>\n",
       "    </tr>\n",
       "    <tr>\n",
       "      <th>22</th>\n",
       "      <td>epochsSinceLastDeposit</td>\n",
       "      <td>NaN</td>\n",
       "    </tr>\n",
       "    <tr>\n",
       "      <th>23</th>\n",
       "      <td>firstWithdrawalDate</td>\n",
       "      <td>NaN</td>\n",
       "    </tr>\n",
       "    <tr>\n",
       "      <th>24</th>\n",
       "      <td>firstWithdrawalEpoch</td>\n",
       "      <td>NaN</td>\n",
       "    </tr>\n",
       "    <tr>\n",
       "      <th>25</th>\n",
       "      <td>firstWithdrawalAmount</td>\n",
       "      <td>NaN</td>\n",
       "    </tr>\n",
       "    <tr>\n",
       "      <th>26</th>\n",
       "      <td>firstWithdrawalToken</td>\n",
       "      <td>NaN</td>\n",
       "    </tr>\n",
       "    <tr>\n",
       "      <th>27</th>\n",
       "      <td>lastWithdrawalDate</td>\n",
       "      <td>NaN</td>\n",
       "    </tr>\n",
       "    <tr>\n",
       "      <th>28</th>\n",
       "      <td>lastWithdrawalEpoch</td>\n",
       "      <td>NaN</td>\n",
       "    </tr>\n",
       "    <tr>\n",
       "      <th>29</th>\n",
       "      <td>lastWithdrawalAmount</td>\n",
       "      <td>NaN</td>\n",
       "    </tr>\n",
       "    <tr>\n",
       "      <th>30</th>\n",
       "      <td>lastWithdrawalToken</td>\n",
       "      <td>NaN</td>\n",
       "    </tr>\n",
       "    <tr>\n",
       "      <th>31</th>\n",
       "      <td>hasChurned</td>\n",
       "      <td>NaN</td>\n",
       "    </tr>\n",
       "    <tr>\n",
       "      <th>32</th>\n",
       "      <td>churnDate</td>\n",
       "      <td>NaN</td>\n",
       "    </tr>\n",
       "    <tr>\n",
       "      <th>33</th>\n",
       "      <td>churnEpoch</td>\n",
       "      <td>NaN</td>\n",
       "    </tr>\n",
       "  </tbody>\n",
       "</table>\n",
       "</div>"
      ],
      "text/plain": [
       "                  variable                                        value\n",
       "0              userAddress  wGm3yCrVppHYratwKAv9pBNRbge18rpn9XiAujZ6jwF\n",
       "1                 asOfDate                                   2022-04-04\n",
       "2      totalValueLockedUSD                                          1.0\n",
       "3        totalDepositedUSD                                          1.0\n",
       "4        totalWithdrawnUSD                                          0.0\n",
       "5           tvlDelta30Days                                          NaN\n",
       "6           tvlDelta60Days                                          NaN\n",
       "7           tvlDelta90Days                                          NaN\n",
       "8           tvlDelta1Epoch                                          NaN\n",
       "9           tvlDelta2Epoch                                          NaN\n",
       "10          tvlDelta3Epoch                                          NaN\n",
       "11          tvlDelta4Epoch                                          NaN\n",
       "12          tvlDelta5Epoch                                          NaN\n",
       "13        firstDepositDate                                   2022-04-04\n",
       "14       firstDepositEpoch                                          NaN\n",
       "15      firstDepositAmount                                          1.0\n",
       "16       firstDepositToken                                  Wrapped SOL\n",
       "17         lastDepositDate                                          NaN\n",
       "18        lastDepositEpoch                                          NaN\n",
       "19       lastDepositAmount                                          NaN\n",
       "20        lastDepositToken                                          NaN\n",
       "21    daysSinceLastDeposit                                          NaN\n",
       "22  epochsSinceLastDeposit                                          NaN\n",
       "23     firstWithdrawalDate                                          NaN\n",
       "24    firstWithdrawalEpoch                                          NaN\n",
       "25   firstWithdrawalAmount                                          NaN\n",
       "26    firstWithdrawalToken                                          NaN\n",
       "27      lastWithdrawalDate                                          NaN\n",
       "28     lastWithdrawalEpoch                                          NaN\n",
       "29    lastWithdrawalAmount                                          NaN\n",
       "30     lastWithdrawalToken                                          NaN\n",
       "31              hasChurned                                          NaN\n",
       "32               churnDate                                          NaN\n",
       "33              churnEpoch                                          NaN"
      ]
     },
     "execution_count": 45,
     "metadata": {},
     "output_type": "execute_result"
    }
   ],
   "source": [
    "user_deposit_table.melt()"
   ]
  },
  {
   "cell_type": "markdown",
   "id": "08b319dd-bf04-47b5-be1a-f440bb2c2313",
   "metadata": {},
   "source": [
    "### tvlDelta1Epoch"
   ]
  },
  {
   "cell_type": "markdown",
   "id": "492d1f60-ebf6-4470-ac3e-a6f5a723ce8d",
   "metadata": {},
   "source": [
    "### tvlDelta2Epoch"
   ]
  },
  {
   "cell_type": "markdown",
   "id": "6f20572a-935a-4c90-a6fa-57864c7341ab",
   "metadata": {},
   "source": [
    "### tvlDelta3Epoch"
   ]
  },
  {
   "cell_type": "markdown",
   "id": "25e64a7c-d17a-4b85-9471-f1ede3715177",
   "metadata": {},
   "source": [
    "### tvlDelta4Epoch"
   ]
  },
  {
   "cell_type": "markdown",
   "id": "904583a8-a36a-4b47-99c1-0738e4d741bd",
   "metadata": {},
   "source": [
    "### tvlDelta5Epoch"
   ]
  },
  {
   "cell_type": "markdown",
   "id": "4ce4ccd5-638e-443f-9807-a545022f3662",
   "metadata": {},
   "source": [
    "### lastDepositDate"
   ]
  },
  {
   "cell_type": "markdown",
   "id": "1e676d9a-d0e7-4a89-97c5-d9acd6a5a512",
   "metadata": {},
   "source": [
    "### lastDepositEpoch"
   ]
  },
  {
   "cell_type": "markdown",
   "id": "d0063084-9324-430d-b7df-3c0b8838d979",
   "metadata": {},
   "source": [
    "### lastDepositAmount"
   ]
  },
  {
   "cell_type": "markdown",
   "id": "f3474ef1-c878-4b2c-97da-dbf3567971ec",
   "metadata": {},
   "source": [
    "### lastDepositToken"
   ]
  },
  {
   "cell_type": "markdown",
   "id": "a85c1e43-41ab-409d-8533-90902228af91",
   "metadata": {},
   "source": [
    "### daysSinceLastDeposit"
   ]
  },
  {
   "cell_type": "markdown",
   "id": "5be7ebbd-2238-4c58-93a8-871db5df6c03",
   "metadata": {},
   "source": [
    "### epochsSinceLastDeposit"
   ]
  },
  {
   "cell_type": "markdown",
   "id": "e25439ed-3e73-4167-a148-f07d9c1194db",
   "metadata": {},
   "source": [
    "### firstWithdrawalDate"
   ]
  },
  {
   "cell_type": "markdown",
   "id": "0c3b0ec2-d3c6-4b81-ba33-4e681a889e0e",
   "metadata": {},
   "source": [
    "### firstWithdrawalEpoch"
   ]
  },
  {
   "cell_type": "markdown",
   "id": "eab4effb-c051-4a9a-ac35-84d436b7d59a",
   "metadata": {},
   "source": [
    "### firstWithdrawalAmount"
   ]
  },
  {
   "cell_type": "markdown",
   "id": "28073e6b-5c35-4c50-9112-3e14791aa4e2",
   "metadata": {},
   "source": [
    "### firstWithdrawalToken"
   ]
  },
  {
   "cell_type": "markdown",
   "id": "8a9f3d30-ed86-499d-92c4-70b6610085e7",
   "metadata": {},
   "source": [
    "### lastWithdrawalDate"
   ]
  },
  {
   "cell_type": "markdown",
   "id": "e795732d-a54a-43b7-a973-c9536fb98a4d",
   "metadata": {},
   "source": [
    "### lastWithdrawalEpoch"
   ]
  },
  {
   "cell_type": "markdown",
   "id": "f5c78c59-3928-4950-8da9-fec5293befa3",
   "metadata": {},
   "source": [
    "### lastWithdrawalAmount"
   ]
  },
  {
   "cell_type": "markdown",
   "id": "84f3dcfd-ad1f-4f0b-8aba-c6a3810b7897",
   "metadata": {},
   "source": [
    "### lastWithdrawalToken"
   ]
  },
  {
   "cell_type": "markdown",
   "id": "117e4162-c823-49d0-8731-d5967b7ee23e",
   "metadata": {},
   "source": [
    "### hasChurned"
   ]
  },
  {
   "cell_type": "markdown",
   "id": "9b0f6f99-120e-4caa-b32d-3463966a50c5",
   "metadata": {},
   "source": [
    "### chrunDate"
   ]
  },
  {
   "cell_type": "markdown",
   "id": "2eaa5750-3a8c-42ef-94e3-5fbe2b89b618",
   "metadata": {},
   "source": [
    "### churnEpoch"
   ]
  },
  {
   "cell_type": "code",
   "execution_count": null,
   "id": "8f643b37-7138-4196-aa8b-8907694121d6",
   "metadata": {},
   "outputs": [],
   "source": []
  }
 ],
 "metadata": {
  "environment": {
   "kernel": "python3",
   "name": "common-cpu.m91",
   "type": "gcloud",
   "uri": "gcr.io/deeplearning-platform-release/base-cpu:m91"
  },
  "kernelspec": {
   "display_name": "Python 3",
   "language": "python",
   "name": "python3"
  },
  "language_info": {
   "codemirror_mode": {
    "name": "ipython",
    "version": 3
   },
   "file_extension": ".py",
   "mimetype": "text/x-python",
   "name": "python",
   "nbconvert_exporter": "python",
   "pygments_lexer": "ipython3",
   "version": "3.7.12"
  }
 },
 "nbformat": 4,
 "nbformat_minor": 5
}
