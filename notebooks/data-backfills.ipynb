{
 "cells": [
  {
   "cell_type": "markdown",
   "metadata": {},
   "source": [
    "# Import Packages"
   ]
  },
  {
   "cell_type": "code",
   "execution_count": 6,
   "metadata": {},
   "outputs": [],
   "source": [
    "# Allows for the local import of the friktionless package - NEEDS TO BE MODIFIED FOR EACH LOCAL ENV\n",
    "import sys\n",
    "sys.path.insert(1,'/Users/matt/Downloads/m2-analytics/friktion/user-dash/')"
   ]
  },
  {
   "cell_type": "code",
   "execution_count": 33,
   "metadata": {},
   "outputs": [],
   "source": [
    "import pandas as pd\n",
    "import requests\n",
    "from pycoingecko import CoinGeckoAPI\n",
    "from datetime import datetime, timedelta, date\n",
    "import os\n",
    "import pydata_google_auth\n",
    "from friktionless import bitQuery as bq\n",
    "import altair as alt"
   ]
  },
  {
   "cell_type": "markdown",
   "metadata": {},
   "source": [
    "# Set Local Scope Authority for GCP Access"
   ]
  },
  {
   "cell_type": "code",
   "execution_count": 2,
   "metadata": {},
   "outputs": [],
   "source": [
    "SCOPES = [\n",
    "    'https://www.googleapis.com/auth/cloud-platform',\n",
    "    'https://www.googleapis.com/auth/drive',\n",
    "]\n",
    "\n",
    "credentials = pydata_google_auth.get_user_credentials(\n",
    "    SCOPES,\n",
    "    # Set auth_local_webserver to True to have a slightly more convienient\n",
    "    # authorization flow. Note, this doesn't work if you're running from a\n",
    "    # notebook on a remote sever, such as over SSH or with Google Colab.\n",
    "    auth_local_webserver=True,\n",
    ")"
   ]
  },
  {
   "cell_type": "markdown",
   "metadata": {},
   "source": [
    "# Instantiate BitQuery Query Class"
   ]
  },
  {
   "cell_type": "code",
   "execution_count": 34,
   "metadata": {},
   "outputs": [],
   "source": [
    "queries = bq.Queries()"
   ]
  },
  {
   "cell_type": "markdown",
   "metadata": {},
   "source": [
    "# Backfill"
   ]
  },
  {
   "cell_type": "markdown",
   "metadata": {},
   "source": [
    "## Pending Deposits"
   ]
  },
  {
   "cell_type": "code",
   "execution_count": 4,
   "metadata": {},
   "outputs": [],
   "source": [
    "# Initialize the starting date of the backfill\n",
    "dt = date(2021,12,16)"
   ]
  },
  {
   "cell_type": "code",
   "execution_count": 5,
   "metadata": {
    "tags": []
   },
   "outputs": [
    {
     "name": "stdout",
     "output_type": "stream",
     "text": [
      "2021-12-16: 6\n"
     ]
    },
    {
     "name": "stderr",
     "output_type": "stream",
     "text": [
      "1it [00:03,  3.82s/it]\n"
     ]
    },
    {
     "name": "stdout",
     "output_type": "stream",
     "text": [
      "2021-12-17: 11\n"
     ]
    },
    {
     "name": "stderr",
     "output_type": "stream",
     "text": [
      "1it [00:04,  4.42s/it]\n"
     ]
    },
    {
     "name": "stdout",
     "output_type": "stream",
     "text": [
      "2021-12-18: 15\n"
     ]
    },
    {
     "name": "stderr",
     "output_type": "stream",
     "text": [
      "1it [00:03,  3.68s/it]\n"
     ]
    },
    {
     "name": "stdout",
     "output_type": "stream",
     "text": [
      "2021-12-19: 110\n"
     ]
    },
    {
     "name": "stderr",
     "output_type": "stream",
     "text": [
      "1it [00:03,  3.37s/it]\n"
     ]
    },
    {
     "name": "stdout",
     "output_type": "stream",
     "text": [
      "2021-12-20: 322\n"
     ]
    },
    {
     "name": "stderr",
     "output_type": "stream",
     "text": [
      "1it [00:03,  3.46s/it]\n"
     ]
    },
    {
     "name": "stdout",
     "output_type": "stream",
     "text": [
      "2021-12-21: 570\n"
     ]
    },
    {
     "name": "stderr",
     "output_type": "stream",
     "text": [
      "1it [00:05,  5.57s/it]\n"
     ]
    },
    {
     "name": "stdout",
     "output_type": "stream",
     "text": [
      "2021-12-22: 381\n"
     ]
    },
    {
     "name": "stderr",
     "output_type": "stream",
     "text": [
      "1it [00:04,  4.50s/it]\n"
     ]
    },
    {
     "name": "stdout",
     "output_type": "stream",
     "text": [
      "2021-12-23: 274\n"
     ]
    },
    {
     "name": "stderr",
     "output_type": "stream",
     "text": [
      "1it [00:04,  4.23s/it]\n"
     ]
    },
    {
     "name": "stdout",
     "output_type": "stream",
     "text": [
      "2021-12-24: 306\n"
     ]
    },
    {
     "name": "stderr",
     "output_type": "stream",
     "text": [
      "1it [00:04,  4.19s/it]\n"
     ]
    },
    {
     "name": "stdout",
     "output_type": "stream",
     "text": [
      "2021-12-25: 301\n"
     ]
    },
    {
     "name": "stderr",
     "output_type": "stream",
     "text": [
      "1it [00:05,  5.64s/it]\n"
     ]
    },
    {
     "name": "stdout",
     "output_type": "stream",
     "text": [
      "2021-12-26: 287\n"
     ]
    },
    {
     "name": "stderr",
     "output_type": "stream",
     "text": [
      "1it [00:04,  4.42s/it]\n"
     ]
    },
    {
     "name": "stdout",
     "output_type": "stream",
     "text": [
      "2021-12-27: 403\n"
     ]
    },
    {
     "name": "stderr",
     "output_type": "stream",
     "text": [
      "1it [00:04,  4.12s/it]\n"
     ]
    },
    {
     "name": "stdout",
     "output_type": "stream",
     "text": [
      "2021-12-28: 160\n"
     ]
    },
    {
     "name": "stderr",
     "output_type": "stream",
     "text": [
      "1it [00:03,  3.20s/it]\n"
     ]
    },
    {
     "name": "stdout",
     "output_type": "stream",
     "text": [
      "2021-12-29: 209\n"
     ]
    },
    {
     "name": "stderr",
     "output_type": "stream",
     "text": [
      "1it [00:04,  4.14s/it]\n"
     ]
    },
    {
     "name": "stdout",
     "output_type": "stream",
     "text": [
      "2021-12-30: 619\n"
     ]
    },
    {
     "name": "stderr",
     "output_type": "stream",
     "text": [
      "1it [00:04,  4.28s/it]\n"
     ]
    },
    {
     "name": "stdout",
     "output_type": "stream",
     "text": [
      "2021-12-31: 303\n"
     ]
    },
    {
     "name": "stderr",
     "output_type": "stream",
     "text": [
      "1it [00:07,  7.04s/it]\n"
     ]
    },
    {
     "name": "stdout",
     "output_type": "stream",
     "text": [
      "2022-01-01: 136\n"
     ]
    },
    {
     "name": "stderr",
     "output_type": "stream",
     "text": [
      "1it [00:02,  2.97s/it]\n"
     ]
    },
    {
     "name": "stdout",
     "output_type": "stream",
     "text": [
      "2022-01-02: 131\n"
     ]
    },
    {
     "name": "stderr",
     "output_type": "stream",
     "text": [
      "1it [00:03,  3.84s/it]\n"
     ]
    },
    {
     "name": "stdout",
     "output_type": "stream",
     "text": [
      "2022-01-03: 631\n"
     ]
    },
    {
     "name": "stderr",
     "output_type": "stream",
     "text": [
      "1it [00:04,  4.19s/it]\n"
     ]
    },
    {
     "name": "stdout",
     "output_type": "stream",
     "text": [
      "2022-01-04: 322\n"
     ]
    },
    {
     "name": "stderr",
     "output_type": "stream",
     "text": [
      "1it [00:03,  3.43s/it]\n"
     ]
    },
    {
     "name": "stdout",
     "output_type": "stream",
     "text": [
      "2022-01-05: 366\n"
     ]
    },
    {
     "name": "stderr",
     "output_type": "stream",
     "text": [
      "1it [00:03,  3.15s/it]\n"
     ]
    },
    {
     "name": "stdout",
     "output_type": "stream",
     "text": [
      "2022-01-06: 329\n"
     ]
    },
    {
     "name": "stderr",
     "output_type": "stream",
     "text": [
      "1it [00:03,  3.22s/it]\n"
     ]
    },
    {
     "name": "stdout",
     "output_type": "stream",
     "text": [
      "2022-01-07: 284\n"
     ]
    },
    {
     "name": "stderr",
     "output_type": "stream",
     "text": [
      "1it [00:03,  3.94s/it]\n"
     ]
    },
    {
     "name": "stdout",
     "output_type": "stream",
     "text": [
      "2022-01-08: 155\n"
     ]
    },
    {
     "name": "stderr",
     "output_type": "stream",
     "text": [
      "1it [00:02,  2.94s/it]\n"
     ]
    },
    {
     "name": "stdout",
     "output_type": "stream",
     "text": [
      "2022-01-09: 172\n"
     ]
    },
    {
     "name": "stderr",
     "output_type": "stream",
     "text": [
      "1it [00:04,  4.85s/it]\n"
     ]
    },
    {
     "name": "stdout",
     "output_type": "stream",
     "text": [
      "2022-01-10: 257\n"
     ]
    },
    {
     "name": "stderr",
     "output_type": "stream",
     "text": [
      "1it [00:04,  4.56s/it]\n"
     ]
    },
    {
     "name": "stdout",
     "output_type": "stream",
     "text": [
      "2022-01-11: 341\n"
     ]
    },
    {
     "name": "stderr",
     "output_type": "stream",
     "text": [
      "1it [00:03,  3.59s/it]\n"
     ]
    },
    {
     "name": "stdout",
     "output_type": "stream",
     "text": [
      "2022-01-12: 321\n"
     ]
    },
    {
     "name": "stderr",
     "output_type": "stream",
     "text": [
      "1it [00:03,  3.90s/it]\n"
     ]
    },
    {
     "name": "stdout",
     "output_type": "stream",
     "text": [
      "2022-01-13: 628\n"
     ]
    },
    {
     "name": "stderr",
     "output_type": "stream",
     "text": [
      "1it [00:03,  3.88s/it]\n"
     ]
    },
    {
     "name": "stdout",
     "output_type": "stream",
     "text": [
      "2022-01-14: 691\n"
     ]
    },
    {
     "name": "stderr",
     "output_type": "stream",
     "text": [
      "1it [00:04,  4.02s/it]\n"
     ]
    },
    {
     "name": "stdout",
     "output_type": "stream",
     "text": [
      "2022-01-15: 343\n"
     ]
    },
    {
     "name": "stderr",
     "output_type": "stream",
     "text": [
      "1it [00:03,  3.51s/it]\n"
     ]
    },
    {
     "name": "stdout",
     "output_type": "stream",
     "text": [
      "2022-01-16: 400\n"
     ]
    },
    {
     "name": "stderr",
     "output_type": "stream",
     "text": [
      "1it [00:03,  3.81s/it]\n"
     ]
    },
    {
     "name": "stdout",
     "output_type": "stream",
     "text": [
      "2022-01-17: 461\n"
     ]
    },
    {
     "name": "stderr",
     "output_type": "stream",
     "text": [
      "1it [00:06,  6.92s/it]\n"
     ]
    },
    {
     "name": "stdout",
     "output_type": "stream",
     "text": [
      "2022-01-18: 346\n"
     ]
    },
    {
     "name": "stderr",
     "output_type": "stream",
     "text": [
      "1it [00:04,  4.09s/it]\n"
     ]
    },
    {
     "name": "stdout",
     "output_type": "stream",
     "text": [
      "2022-01-19: 296\n"
     ]
    },
    {
     "name": "stderr",
     "output_type": "stream",
     "text": [
      "1it [00:03,  3.74s/it]\n"
     ]
    },
    {
     "name": "stdout",
     "output_type": "stream",
     "text": [
      "2022-01-20: 306\n"
     ]
    },
    {
     "name": "stderr",
     "output_type": "stream",
     "text": [
      "1it [00:03,  3.84s/it]\n"
     ]
    },
    {
     "name": "stdout",
     "output_type": "stream",
     "text": [
      "2022-01-21: 363\n"
     ]
    },
    {
     "name": "stderr",
     "output_type": "stream",
     "text": [
      "1it [00:03,  3.24s/it]\n"
     ]
    },
    {
     "name": "stdout",
     "output_type": "stream",
     "text": [
      "2022-01-22: 158\n"
     ]
    },
    {
     "name": "stderr",
     "output_type": "stream",
     "text": [
      "1it [00:03,  3.38s/it]\n"
     ]
    },
    {
     "name": "stdout",
     "output_type": "stream",
     "text": [
      "2022-01-23: 194\n"
     ]
    },
    {
     "name": "stderr",
     "output_type": "stream",
     "text": [
      "1it [00:05,  5.22s/it]\n"
     ]
    },
    {
     "name": "stdout",
     "output_type": "stream",
     "text": [
      "2022-01-24: 239\n"
     ]
    },
    {
     "name": "stderr",
     "output_type": "stream",
     "text": [
      "1it [00:04,  4.77s/it]\n"
     ]
    },
    {
     "name": "stdout",
     "output_type": "stream",
     "text": [
      "2022-01-25: 277\n"
     ]
    },
    {
     "name": "stderr",
     "output_type": "stream",
     "text": [
      "1it [00:03,  3.77s/it]\n"
     ]
    },
    {
     "name": "stdout",
     "output_type": "stream",
     "text": [
      "2022-01-26: 220\n"
     ]
    },
    {
     "name": "stderr",
     "output_type": "stream",
     "text": [
      "1it [00:03,  3.39s/it]\n"
     ]
    },
    {
     "name": "stdout",
     "output_type": "stream",
     "text": [
      "2022-01-27: 233\n"
     ]
    },
    {
     "name": "stderr",
     "output_type": "stream",
     "text": [
      "1it [00:06,  6.68s/it]\n"
     ]
    },
    {
     "name": "stdout",
     "output_type": "stream",
     "text": [
      "2022-01-28: 449\n"
     ]
    },
    {
     "name": "stderr",
     "output_type": "stream",
     "text": [
      "1it [00:06,  6.85s/it]\n"
     ]
    },
    {
     "name": "stdout",
     "output_type": "stream",
     "text": [
      "2022-01-29: 251\n"
     ]
    },
    {
     "name": "stderr",
     "output_type": "stream",
     "text": [
      "1it [00:06,  6.99s/it]\n"
     ]
    },
    {
     "name": "stdout",
     "output_type": "stream",
     "text": [
      "2022-01-30: 268\n"
     ]
    },
    {
     "name": "stderr",
     "output_type": "stream",
     "text": [
      "1it [00:03,  3.69s/it]\n"
     ]
    },
    {
     "name": "stdout",
     "output_type": "stream",
     "text": [
      "2022-01-31: 222\n"
     ]
    },
    {
     "name": "stderr",
     "output_type": "stream",
     "text": [
      "1it [00:04,  4.51s/it]\n"
     ]
    },
    {
     "name": "stdout",
     "output_type": "stream",
     "text": [
      "2022-02-01: 226\n"
     ]
    },
    {
     "name": "stderr",
     "output_type": "stream",
     "text": [
      "1it [00:06,  6.07s/it]\n"
     ]
    },
    {
     "name": "stdout",
     "output_type": "stream",
     "text": [
      "2022-02-02: 276\n"
     ]
    },
    {
     "name": "stderr",
     "output_type": "stream",
     "text": [
      "1it [00:05,  5.04s/it]\n"
     ]
    },
    {
     "name": "stdout",
     "output_type": "stream",
     "text": [
      "2022-02-03: 346\n"
     ]
    },
    {
     "name": "stderr",
     "output_type": "stream",
     "text": [
      "1it [00:04,  4.50s/it]\n"
     ]
    },
    {
     "name": "stdout",
     "output_type": "stream",
     "text": [
      "2022-02-04: 277\n"
     ]
    },
    {
     "name": "stderr",
     "output_type": "stream",
     "text": [
      "1it [00:04,  4.65s/it]\n"
     ]
    },
    {
     "name": "stdout",
     "output_type": "stream",
     "text": [
      "2022-02-05: 157\n"
     ]
    },
    {
     "name": "stderr",
     "output_type": "stream",
     "text": [
      "1it [00:05,  5.26s/it]\n"
     ]
    },
    {
     "name": "stdout",
     "output_type": "stream",
     "text": [
      "2022-02-06: 215\n"
     ]
    },
    {
     "name": "stderr",
     "output_type": "stream",
     "text": [
      "1it [00:04,  4.44s/it]\n"
     ]
    },
    {
     "name": "stdout",
     "output_type": "stream",
     "text": [
      "2022-02-07: 148\n"
     ]
    },
    {
     "name": "stderr",
     "output_type": "stream",
     "text": [
      "1it [00:05,  5.33s/it]\n"
     ]
    },
    {
     "name": "stdout",
     "output_type": "stream",
     "text": [
      "2022-02-08: 132\n"
     ]
    },
    {
     "name": "stderr",
     "output_type": "stream",
     "text": [
      "1it [00:06,  6.49s/it]\n"
     ]
    },
    {
     "name": "stdout",
     "output_type": "stream",
     "text": [
      "2022-02-09: 152\n"
     ]
    },
    {
     "name": "stderr",
     "output_type": "stream",
     "text": [
      "1it [00:05,  5.91s/it]\n"
     ]
    },
    {
     "name": "stdout",
     "output_type": "stream",
     "text": [
      "2022-02-10: 169\n"
     ]
    },
    {
     "name": "stderr",
     "output_type": "stream",
     "text": [
      "1it [00:04,  4.24s/it]\n"
     ]
    },
    {
     "name": "stdout",
     "output_type": "stream",
     "text": [
      "2022-02-11: 224\n"
     ]
    },
    {
     "name": "stderr",
     "output_type": "stream",
     "text": [
      "1it [00:06,  6.03s/it]\n"
     ]
    },
    {
     "name": "stdout",
     "output_type": "stream",
     "text": [
      "2022-02-12: 109\n"
     ]
    },
    {
     "name": "stderr",
     "output_type": "stream",
     "text": [
      "1it [00:04,  4.56s/it]\n"
     ]
    },
    {
     "name": "stdout",
     "output_type": "stream",
     "text": [
      "2022-02-13: 139\n"
     ]
    },
    {
     "name": "stderr",
     "output_type": "stream",
     "text": [
      "1it [00:04,  4.98s/it]\n"
     ]
    },
    {
     "name": "stdout",
     "output_type": "stream",
     "text": [
      "2022-02-14: 178\n"
     ]
    },
    {
     "name": "stderr",
     "output_type": "stream",
     "text": [
      "1it [00:03,  3.89s/it]\n"
     ]
    },
    {
     "name": "stdout",
     "output_type": "stream",
     "text": [
      "2022-02-15: 106\n"
     ]
    },
    {
     "name": "stderr",
     "output_type": "stream",
     "text": [
      "1it [00:03,  3.56s/it]\n"
     ]
    },
    {
     "name": "stdout",
     "output_type": "stream",
     "text": [
      "2022-02-16: 105\n"
     ]
    },
    {
     "name": "stderr",
     "output_type": "stream",
     "text": [
      "1it [00:03,  3.95s/it]\n"
     ]
    },
    {
     "name": "stdout",
     "output_type": "stream",
     "text": [
      "2022-02-17: 140\n"
     ]
    },
    {
     "name": "stderr",
     "output_type": "stream",
     "text": [
      "1it [00:06,  6.90s/it]\n"
     ]
    },
    {
     "name": "stdout",
     "output_type": "stream",
     "text": [
      "2022-02-18: 225\n"
     ]
    },
    {
     "name": "stderr",
     "output_type": "stream",
     "text": [
      "1it [00:05,  5.21s/it]\n"
     ]
    },
    {
     "name": "stdout",
     "output_type": "stream",
     "text": [
      "2022-02-19: 123\n"
     ]
    },
    {
     "name": "stderr",
     "output_type": "stream",
     "text": [
      "1it [00:04,  4.71s/it]\n"
     ]
    },
    {
     "name": "stdout",
     "output_type": "stream",
     "text": [
      "2022-02-20: 75\n"
     ]
    },
    {
     "name": "stderr",
     "output_type": "stream",
     "text": [
      "1it [00:08,  8.60s/it]\n"
     ]
    },
    {
     "name": "stdout",
     "output_type": "stream",
     "text": [
      "2022-02-21: 78\n"
     ]
    },
    {
     "name": "stderr",
     "output_type": "stream",
     "text": [
      "1it [00:04,  4.37s/it]\n"
     ]
    },
    {
     "name": "stdout",
     "output_type": "stream",
     "text": [
      "2022-02-22: 99\n"
     ]
    },
    {
     "name": "stderr",
     "output_type": "stream",
     "text": [
      "1it [00:03,  3.32s/it]\n"
     ]
    },
    {
     "name": "stdout",
     "output_type": "stream",
     "text": [
      "2022-02-23: 96\n"
     ]
    },
    {
     "name": "stderr",
     "output_type": "stream",
     "text": [
      "1it [00:04,  4.55s/it]\n"
     ]
    },
    {
     "name": "stdout",
     "output_type": "stream",
     "text": [
      "2022-02-24: 130\n"
     ]
    },
    {
     "name": "stderr",
     "output_type": "stream",
     "text": [
      "1it [00:05,  5.30s/it]\n"
     ]
    },
    {
     "name": "stdout",
     "output_type": "stream",
     "text": [
      "2022-02-25: 154\n"
     ]
    },
    {
     "name": "stderr",
     "output_type": "stream",
     "text": [
      "1it [00:08,  8.15s/it]\n"
     ]
    },
    {
     "name": "stdout",
     "output_type": "stream",
     "text": [
      "2022-02-26: 104\n"
     ]
    },
    {
     "name": "stderr",
     "output_type": "stream",
     "text": [
      "1it [00:04,  4.65s/it]\n"
     ]
    },
    {
     "name": "stdout",
     "output_type": "stream",
     "text": [
      "2022-02-27: 68\n"
     ]
    },
    {
     "name": "stderr",
     "output_type": "stream",
     "text": [
      "1it [00:07,  7.00s/it]\n"
     ]
    },
    {
     "name": "stdout",
     "output_type": "stream",
     "text": [
      "2022-02-28: 79\n"
     ]
    },
    {
     "name": "stderr",
     "output_type": "stream",
     "text": [
      "1it [00:05,  5.05s/it]\n"
     ]
    },
    {
     "name": "stdout",
     "output_type": "stream",
     "text": [
      "2022-03-01: 81\n"
     ]
    },
    {
     "name": "stderr",
     "output_type": "stream",
     "text": [
      "1it [00:03,  3.73s/it]\n"
     ]
    },
    {
     "name": "stdout",
     "output_type": "stream",
     "text": [
      "2022-03-02: 87\n"
     ]
    },
    {
     "name": "stderr",
     "output_type": "stream",
     "text": [
      "1it [00:04,  4.34s/it]\n"
     ]
    },
    {
     "name": "stdout",
     "output_type": "stream",
     "text": [
      "2022-03-03: 118\n"
     ]
    },
    {
     "name": "stderr",
     "output_type": "stream",
     "text": [
      "1it [00:04,  4.10s/it]\n"
     ]
    },
    {
     "name": "stdout",
     "output_type": "stream",
     "text": [
      "2022-03-04: 129\n"
     ]
    },
    {
     "name": "stderr",
     "output_type": "stream",
     "text": [
      "1it [00:05,  5.07s/it]\n"
     ]
    },
    {
     "name": "stdout",
     "output_type": "stream",
     "text": [
      "2022-03-05: 65\n"
     ]
    },
    {
     "name": "stderr",
     "output_type": "stream",
     "text": [
      "1it [00:04,  4.64s/it]\n"
     ]
    },
    {
     "name": "stdout",
     "output_type": "stream",
     "text": [
      "2022-03-06: 141\n"
     ]
    },
    {
     "name": "stderr",
     "output_type": "stream",
     "text": [
      "1it [00:05,  5.29s/it]\n"
     ]
    },
    {
     "name": "stdout",
     "output_type": "stream",
     "text": [
      "2022-03-07: 89\n"
     ]
    },
    {
     "name": "stderr",
     "output_type": "stream",
     "text": [
      "1it [00:06,  6.28s/it]\n"
     ]
    },
    {
     "name": "stdout",
     "output_type": "stream",
     "text": [
      "2022-03-08: 63\n"
     ]
    },
    {
     "name": "stderr",
     "output_type": "stream",
     "text": [
      "1it [00:04,  4.87s/it]\n"
     ]
    },
    {
     "name": "stdout",
     "output_type": "stream",
     "text": [
      "2022-03-09: 73\n"
     ]
    },
    {
     "name": "stderr",
     "output_type": "stream",
     "text": [
      "1it [00:07,  7.41s/it]\n"
     ]
    },
    {
     "name": "stdout",
     "output_type": "stream",
     "text": [
      "2022-03-10: 89\n"
     ]
    },
    {
     "name": "stderr",
     "output_type": "stream",
     "text": [
      "1it [00:05,  5.61s/it]\n"
     ]
    },
    {
     "name": "stdout",
     "output_type": "stream",
     "text": [
      "2022-03-11: 92\n"
     ]
    },
    {
     "name": "stderr",
     "output_type": "stream",
     "text": [
      "1it [00:05,  5.83s/it]\n"
     ]
    },
    {
     "name": "stdout",
     "output_type": "stream",
     "text": [
      "2022-03-12: 85\n"
     ]
    },
    {
     "name": "stderr",
     "output_type": "stream",
     "text": [
      "1it [00:04,  4.68s/it]\n"
     ]
    },
    {
     "name": "stdout",
     "output_type": "stream",
     "text": [
      "2022-03-13: 94\n"
     ]
    },
    {
     "name": "stderr",
     "output_type": "stream",
     "text": [
      "1it [00:04,  4.64s/it]\n"
     ]
    },
    {
     "name": "stdout",
     "output_type": "stream",
     "text": [
      "2022-03-14: 72\n"
     ]
    },
    {
     "name": "stderr",
     "output_type": "stream",
     "text": [
      "1it [00:04,  4.91s/it]\n"
     ]
    },
    {
     "name": "stdout",
     "output_type": "stream",
     "text": [
      "2022-03-15: 69\n"
     ]
    },
    {
     "name": "stderr",
     "output_type": "stream",
     "text": [
      "1it [00:04,  4.73s/it]\n"
     ]
    },
    {
     "name": "stdout",
     "output_type": "stream",
     "text": [
      "2022-03-16: 66\n"
     ]
    },
    {
     "name": "stderr",
     "output_type": "stream",
     "text": [
      "1it [00:04,  4.37s/it]\n"
     ]
    },
    {
     "name": "stdout",
     "output_type": "stream",
     "text": [
      "2022-03-17: 161\n"
     ]
    },
    {
     "name": "stderr",
     "output_type": "stream",
     "text": [
      "1it [00:04,  4.24s/it]\n"
     ]
    },
    {
     "name": "stdout",
     "output_type": "stream",
     "text": [
      "2022-03-18: 202\n"
     ]
    },
    {
     "name": "stderr",
     "output_type": "stream",
     "text": [
      "1it [00:06,  6.40s/it]\n"
     ]
    },
    {
     "name": "stdout",
     "output_type": "stream",
     "text": [
      "2022-03-19: 96\n"
     ]
    },
    {
     "name": "stderr",
     "output_type": "stream",
     "text": [
      "1it [00:03,  3.85s/it]\n"
     ]
    },
    {
     "name": "stdout",
     "output_type": "stream",
     "text": [
      "2022-03-20: 98\n"
     ]
    },
    {
     "name": "stderr",
     "output_type": "stream",
     "text": [
      "1it [00:07,  7.71s/it]\n"
     ]
    },
    {
     "name": "stdout",
     "output_type": "stream",
     "text": [
      "2022-03-21: 127\n"
     ]
    },
    {
     "name": "stderr",
     "output_type": "stream",
     "text": [
      "1it [00:04,  4.59s/it]\n"
     ]
    },
    {
     "name": "stdout",
     "output_type": "stream",
     "text": [
      "2022-03-22: 130\n"
     ]
    },
    {
     "name": "stderr",
     "output_type": "stream",
     "text": [
      "1it [00:05,  5.58s/it]\n"
     ]
    },
    {
     "name": "stdout",
     "output_type": "stream",
     "text": [
      "2022-03-23: 130\n"
     ]
    },
    {
     "name": "stderr",
     "output_type": "stream",
     "text": [
      "1it [00:04,  4.54s/it]\n"
     ]
    },
    {
     "name": "stdout",
     "output_type": "stream",
     "text": [
      "2022-03-24: 143\n"
     ]
    },
    {
     "name": "stderr",
     "output_type": "stream",
     "text": [
      "1it [00:04,  4.85s/it]\n"
     ]
    },
    {
     "name": "stdout",
     "output_type": "stream",
     "text": [
      "2022-03-25: 180\n"
     ]
    },
    {
     "name": "stderr",
     "output_type": "stream",
     "text": [
      "1it [00:04,  4.62s/it]\n"
     ]
    },
    {
     "name": "stdout",
     "output_type": "stream",
     "text": [
      "2022-03-26: 111\n"
     ]
    },
    {
     "name": "stderr",
     "output_type": "stream",
     "text": [
      "1it [00:04,  4.92s/it]\n"
     ]
    },
    {
     "name": "stdout",
     "output_type": "stream",
     "text": [
      "2022-03-27: 117\n"
     ]
    },
    {
     "name": "stderr",
     "output_type": "stream",
     "text": [
      "1it [00:04,  4.88s/it]\n"
     ]
    }
   ],
   "source": [
    "while dt < date.today() + timedelta(days=1):\n",
    "    str_dt = dt.strftime('%Y-%m-%d')\n",
    "    query = queries.volt_deposits(str_dt)\n",
    "    result = bq.run_query()\n",
    "    \n",
    "    df = pd.json_normalize(result['data']['solana']['transfers'])\n",
    "    \n",
    "    # process dataframe\n",
    "    df.rename(\n",
    "        columns={\n",
    "            'currency.symbol':'asset',\n",
    "            'currency.name':'name',\n",
    "            'date.date':'date',\n",
    "            'transaction.signer':'signer',\n",
    "            'transaction.success':'is_successful_transfer',\n",
    "            'transaction.error':'error',\n",
    "            'sender.address':'sender',\n",
    "            'block.timestamp.unixtime':'block_time',\n",
    "            'receiver.address':'receiver'\n",
    "        },inplace=True\n",
    "    )\n",
    "    df.drop(df[df['signer'] != df['sender']].index, inplace=True)\n",
    "    df.drop(df[df['name'] == 'Solana'].index, inplace=True)\n",
    "    print('{}: {}'.format(str_dt, len(df)))\n",
    "    \n",
    "    df.to_gbq('test.tbl', project_id='lyrical-amulet-337502', if_exists='append', credentials=credentials)\n",
    "    \n",
    "    dt += timedelta(days=1)"
   ]
  },
  {
   "cell_type": "markdown",
   "metadata": {},
   "source": [
    "# Visuals"
   ]
  },
  {
   "cell_type": "code",
   "execution_count": 30,
   "metadata": {
    "tags": []
   },
   "outputs": [],
   "source": [
    "qry_deposit_volume_by_asset = '''\n",
    "\n",
    "select\n",
    "    date(t.date) as date,\n",
    "    t.asset,\n",
    "    case when t.receiver = 'wJAoeEG2sfQ1xgXUNVVkJ5mCTCw4SLc6oJafDwf6jTf' then true else false end as is_high_voltage,\n",
    "    sum(t.amount) as daily_deposit\n",
    "from `lyrical-amulet-337502.test.tbl` t\n",
    "where t.is_successful_transfer\n",
    "group by 1,2,3\n",
    "order by 2,1 asc\n",
    "\n",
    "'''\n",
    "\n",
    "qry_cumulative_deposits_by_asset = '''\n",
    "\n",
    "with\n",
    "base as (\n",
    "    select\n",
    "        date(t.date) as date,\n",
    "        t.asset,\n",
    "        case when t.receiver = 'wJAoeEG2sfQ1xgXUNVVkJ5mCTCw4SLc6oJafDwf6jTf' then true else false end as is_high_voltage,\n",
    "        sum(t.amount) as amount\n",
    "    from test.tbl t\n",
    "    where t.is_successful_transfer\n",
    "    group by 1,2,3\n",
    ")\n",
    "\n",
    "select\n",
    "    b.date,\n",
    "    b.asset,\n",
    "    b.is_high_voltage,\n",
    "    sum(b.amount) over (partition by b.asset, b.is_high_voltage order by b.date asc) as cumulative_deposits\n",
    "from base b\n",
    "order by 2,1 asc\n",
    "\n",
    "'''"
   ]
  },
  {
   "cell_type": "code",
   "execution_count": 31,
   "metadata": {
    "tags": []
   },
   "outputs": [],
   "source": [
    "df_deposit_volume_by_asset = pd.read_gbq(query=qry_deposit_volume_by_asset, project_id='lyrical-amulet-337502', credentials=credentials)"
   ]
  },
  {
   "cell_type": "code",
   "execution_count": 32,
   "metadata": {},
   "outputs": [],
   "source": [
    "df_cumulative_deposits_by_asset = pd.read_gbq(query=qry_cumulative_deposits_by_asset, project_id='lyrical-amulet-337502', credentials=credentials)"
   ]
  },
  {
   "cell_type": "code",
   "execution_count": 8,
   "metadata": {},
   "outputs": [
    {
     "data": {
      "text/plain": [
       "date               datetime64[ns]\n",
       "asset                      object\n",
       "is_high_voltage              bool\n",
       "daily_deposit             float64\n",
       "dtype: object"
      ]
     },
     "execution_count": 8,
     "metadata": {},
     "output_type": "execute_result"
    }
   ],
   "source": [
    "df_deposit_volume_by_asset.dtypes"
   ]
  },
  {
   "cell_type": "code",
   "execution_count": 19,
   "metadata": {},
   "outputs": [
    {
     "data": {
      "text/plain": [
       "False    954\n",
       "True      36\n",
       "Name: is_high_voltage, dtype: int64"
      ]
     },
     "execution_count": 19,
     "metadata": {},
     "output_type": "execute_result"
    }
   ],
   "source": [
    "df_deposit_volume_by_asset['is_high_voltage'].value_counts()"
   ]
  },
  {
   "cell_type": "code",
   "execution_count": 45,
   "metadata": {},
   "outputs": [
    {
     "data": {
      "text/html": [
       "\n",
       "<div id=\"altair-viz-5e6e99c23ec549b2953edc36ff75ded6\"></div>\n",
       "<script type=\"text/javascript\">\n",
       "  (function(spec, embedOpt){\n",
       "    let outputDiv = document.currentScript.previousElementSibling;\n",
       "    if (outputDiv.id !== \"altair-viz-5e6e99c23ec549b2953edc36ff75ded6\") {\n",
       "      outputDiv = document.getElementById(\"altair-viz-5e6e99c23ec549b2953edc36ff75ded6\");\n",
       "    }\n",
       "    const paths = {\n",
       "      \"vega\": \"https://cdn.jsdelivr.net/npm//vega@5?noext\",\n",
       "      \"vega-lib\": \"https://cdn.jsdelivr.net/npm//vega-lib?noext\",\n",
       "      \"vega-lite\": \"https://cdn.jsdelivr.net/npm//vega-lite@4.8.1?noext\",\n",
       "      \"vega-embed\": \"https://cdn.jsdelivr.net/npm//vega-embed@6?noext\",\n",
       "    };\n",
       "\n",
       "    function loadScript(lib) {\n",
       "      return new Promise(function(resolve, reject) {\n",
       "        var s = document.createElement('script');\n",
       "        s.src = paths[lib];\n",
       "        s.async = true;\n",
       "        s.onload = () => resolve(paths[lib]);\n",
       "        s.onerror = () => reject(`Error loading script: ${paths[lib]}`);\n",
       "        document.getElementsByTagName(\"head\")[0].appendChild(s);\n",
       "      });\n",
       "    }\n",
       "\n",
       "    function showError(err) {\n",
       "      outputDiv.innerHTML = `<div class=\"error\" style=\"color:red;\">${err}</div>`;\n",
       "      throw err;\n",
       "    }\n",
       "\n",
       "    function displayChart(vegaEmbed) {\n",
       "      vegaEmbed(outputDiv, spec, embedOpt)\n",
       "        .catch(err => showError(`Javascript Error: ${err.message}<br>This usually means there's a typo in your chart specification. See the javascript console for the full traceback.`));\n",
       "    }\n",
       "\n",
       "    if(typeof define === \"function\" && define.amd) {\n",
       "      requirejs.config({paths});\n",
       "      require([\"vega-embed\"], displayChart, err => showError(`Error loading script: ${err.message}`));\n",
       "    } else if (typeof vegaEmbed === \"function\") {\n",
       "      displayChart(vegaEmbed);\n",
       "    } else {\n",
       "      loadScript(\"vega\")\n",
       "        .then(() => loadScript(\"vega-lite\"))\n",
       "        .then(() => loadScript(\"vega-embed\"))\n",
       "        .catch(showError)\n",
       "        .then(() => displayChart(vegaEmbed));\n",
       "    }\n",
       "  })({\"config\": {\"view\": {\"continuousWidth\": 400, \"continuousHeight\": 300}}, \"data\": {\"name\": \"data-ea497c9d5e0b8f4d43dbf0b1a6ffb6a4\"}, \"mark\": \"line\", \"encoding\": {\"x\": {\"type\": \"temporal\", \"axis\": {\"title\": \"Date\"}, \"field\": \"date\", \"timeUnit\": \"yearmonthdate\"}, \"y\": {\"type\": \"quantitative\", \"axis\": {\"title\": \"Deposit Amount\"}, \"field\": \"daily_deposit\"}}, \"title\": \"SOL High Voltage Deposits Over Time\", \"width\": 900, \"$schema\": \"https://vega.github.io/schema/vega-lite/v4.8.1.json\", \"datasets\": {\"data-ea497c9d5e0b8f4d43dbf0b1a6ffb6a4\": [{\"date\": \"2022-02-21T00:00:00\", \"asset\": \"SOL\", \"is_high_voltage\": true, \"daily_deposit\": 1.1}, {\"date\": \"2022-02-22T00:00:00\", \"asset\": \"SOL\", \"is_high_voltage\": true, \"daily_deposit\": 173.00699999999998}, {\"date\": \"2022-02-23T00:00:00\", \"asset\": \"SOL\", \"is_high_voltage\": true, \"daily_deposit\": 108.402}, {\"date\": \"2022-02-24T00:00:00\", \"asset\": \"SOL\", \"is_high_voltage\": true, \"daily_deposit\": 596.381}, {\"date\": \"2022-02-25T00:00:00\", \"asset\": \"SOL\", \"is_high_voltage\": true, \"daily_deposit\": 1420.6509999999996}, {\"date\": \"2022-02-26T00:00:00\", \"asset\": \"SOL\", \"is_high_voltage\": true, \"daily_deposit\": 213.16899999999998}, {\"date\": \"2022-02-27T00:00:00\", \"asset\": \"SOL\", \"is_high_voltage\": true, \"daily_deposit\": 429.6439999999999}, {\"date\": \"2022-02-28T00:00:00\", \"asset\": \"SOL\", \"is_high_voltage\": true, \"daily_deposit\": 113.72629999999998}, {\"date\": \"2022-03-01T00:00:00\", \"asset\": \"SOL\", \"is_high_voltage\": true, \"daily_deposit\": 92.40899999999999}, {\"date\": \"2022-03-02T00:00:00\", \"asset\": \"SOL\", \"is_high_voltage\": true, \"daily_deposit\": 256.805}, {\"date\": \"2022-03-03T00:00:00\", \"asset\": \"SOL\", \"is_high_voltage\": true, \"daily_deposit\": 431.11600000000004}, {\"date\": \"2022-03-04T00:00:00\", \"asset\": \"SOL\", \"is_high_voltage\": true, \"daily_deposit\": 1243.330722912}, {\"date\": \"2022-03-05T00:00:00\", \"asset\": \"SOL\", \"is_high_voltage\": true, \"daily_deposit\": 599.2719999999999}, {\"date\": \"2022-03-06T00:00:00\", \"asset\": \"SOL\", \"is_high_voltage\": true, \"daily_deposit\": 261.4000000000001}, {\"date\": \"2022-03-07T00:00:00\", \"asset\": \"SOL\", \"is_high_voltage\": true, \"daily_deposit\": 251.904}, {\"date\": \"2022-03-08T00:00:00\", \"asset\": \"SOL\", \"is_high_voltage\": true, \"daily_deposit\": 272.727}, {\"date\": \"2022-03-09T00:00:00\", \"asset\": \"SOL\", \"is_high_voltage\": true, \"daily_deposit\": 80.181}, {\"date\": \"2022-03-10T00:00:00\", \"asset\": \"SOL\", \"is_high_voltage\": true, \"daily_deposit\": 1616.831}, {\"date\": \"2022-03-11T00:00:00\", \"asset\": \"SOL\", \"is_high_voltage\": true, \"daily_deposit\": 747.507}, {\"date\": \"2022-03-12T00:00:00\", \"asset\": \"SOL\", \"is_high_voltage\": true, \"daily_deposit\": 325.55699999999996}, {\"date\": \"2022-03-13T00:00:00\", \"asset\": \"SOL\", \"is_high_voltage\": true, \"daily_deposit\": 76.52329999999999}, {\"date\": \"2022-03-14T00:00:00\", \"asset\": \"SOL\", \"is_high_voltage\": true, \"daily_deposit\": 575.6700000000001}, {\"date\": \"2022-03-15T00:00:00\", \"asset\": \"SOL\", \"is_high_voltage\": true, \"daily_deposit\": 255.98679}, {\"date\": \"2022-03-16T00:00:00\", \"asset\": \"SOL\", \"is_high_voltage\": true, \"daily_deposit\": 37.5269}, {\"date\": \"2022-03-17T00:00:00\", \"asset\": \"SOL\", \"is_high_voltage\": true, \"daily_deposit\": 3135.8767502900005}, {\"date\": \"2022-03-18T00:00:00\", \"asset\": \"SOL\", \"is_high_voltage\": true, \"daily_deposit\": 1746.3079999999995}, {\"date\": \"2022-03-19T00:00:00\", \"asset\": \"SOL\", \"is_high_voltage\": true, \"daily_deposit\": 81.39799999999998}, {\"date\": \"2022-03-20T00:00:00\", \"asset\": \"SOL\", \"is_high_voltage\": true, \"daily_deposit\": 37.468}, {\"date\": \"2022-03-21T00:00:00\", \"asset\": \"SOL\", \"is_high_voltage\": true, \"daily_deposit\": 171.28700000000003}, {\"date\": \"2022-03-22T00:00:00\", \"asset\": \"SOL\", \"is_high_voltage\": true, \"daily_deposit\": 154.27589999999998}, {\"date\": \"2022-03-23T00:00:00\", \"asset\": \"SOL\", \"is_high_voltage\": true, \"daily_deposit\": 241.072}, {\"date\": \"2022-03-24T00:00:00\", \"asset\": \"SOL\", \"is_high_voltage\": true, \"daily_deposit\": 125.628}, {\"date\": \"2022-03-25T00:00:00\", \"asset\": \"SOL\", \"is_high_voltage\": true, \"daily_deposit\": 1188.13155}, {\"date\": \"2022-03-26T00:00:00\", \"asset\": \"SOL\", \"is_high_voltage\": true, \"daily_deposit\": 62.26}, {\"date\": \"2022-03-27T00:00:00\", \"asset\": \"SOL\", \"is_high_voltage\": true, \"daily_deposit\": 5.8999999999999995}]}}, {\"mode\": \"vega-lite\"});\n",
       "</script>"
      ],
      "text/plain": [
       "alt.Chart(...)"
      ]
     },
     "execution_count": 45,
     "metadata": {},
     "output_type": "execute_result"
    }
   ],
   "source": [
    "alt.Chart(df_deposit_volume_by_asset[(df_deposit_volume_by_asset['asset'] == 'SOL') & (df_deposit_volume_by_asset['is_high_voltage'])]).mark_line().encode(\n",
    "    x=alt.X('yearmonthdate(date)',axis=alt.Axis(title='Date')),\n",
    "    y=alt.Y('daily_deposit', axis=alt.Axis(title='Deposit Amount'))\n",
    ").properties(\n",
    "    width=900,\n",
    "    title='SOL High Voltage Deposits Over Time'\n",
    ")"
   ]
  },
  {
   "cell_type": "code",
   "execution_count": 46,
   "metadata": {},
   "outputs": [
    {
     "data": {
      "text/html": [
       "\n",
       "<div id=\"altair-viz-592b2492b04e4e69b23b5616582665f5\"></div>\n",
       "<script type=\"text/javascript\">\n",
       "  (function(spec, embedOpt){\n",
       "    let outputDiv = document.currentScript.previousElementSibling;\n",
       "    if (outputDiv.id !== \"altair-viz-592b2492b04e4e69b23b5616582665f5\") {\n",
       "      outputDiv = document.getElementById(\"altair-viz-592b2492b04e4e69b23b5616582665f5\");\n",
       "    }\n",
       "    const paths = {\n",
       "      \"vega\": \"https://cdn.jsdelivr.net/npm//vega@5?noext\",\n",
       "      \"vega-lib\": \"https://cdn.jsdelivr.net/npm//vega-lib?noext\",\n",
       "      \"vega-lite\": \"https://cdn.jsdelivr.net/npm//vega-lite@4.8.1?noext\",\n",
       "      \"vega-embed\": \"https://cdn.jsdelivr.net/npm//vega-embed@6?noext\",\n",
       "    };\n",
       "\n",
       "    function loadScript(lib) {\n",
       "      return new Promise(function(resolve, reject) {\n",
       "        var s = document.createElement('script');\n",
       "        s.src = paths[lib];\n",
       "        s.async = true;\n",
       "        s.onload = () => resolve(paths[lib]);\n",
       "        s.onerror = () => reject(`Error loading script: ${paths[lib]}`);\n",
       "        document.getElementsByTagName(\"head\")[0].appendChild(s);\n",
       "      });\n",
       "    }\n",
       "\n",
       "    function showError(err) {\n",
       "      outputDiv.innerHTML = `<div class=\"error\" style=\"color:red;\">${err}</div>`;\n",
       "      throw err;\n",
       "    }\n",
       "\n",
       "    function displayChart(vegaEmbed) {\n",
       "      vegaEmbed(outputDiv, spec, embedOpt)\n",
       "        .catch(err => showError(`Javascript Error: ${err.message}<br>This usually means there's a typo in your chart specification. See the javascript console for the full traceback.`));\n",
       "    }\n",
       "\n",
       "    if(typeof define === \"function\" && define.amd) {\n",
       "      requirejs.config({paths});\n",
       "      require([\"vega-embed\"], displayChart, err => showError(`Error loading script: ${err.message}`));\n",
       "    } else if (typeof vegaEmbed === \"function\") {\n",
       "      displayChart(vegaEmbed);\n",
       "    } else {\n",
       "      loadScript(\"vega\")\n",
       "        .then(() => loadScript(\"vega-lite\"))\n",
       "        .then(() => loadScript(\"vega-embed\"))\n",
       "        .catch(showError)\n",
       "        .then(() => displayChart(vegaEmbed));\n",
       "    }\n",
       "  })({\"config\": {\"view\": {\"continuousWidth\": 400, \"continuousHeight\": 300}}, \"data\": {\"name\": \"data-504a347816fa1a307d5b5ea0d4d59861\"}, \"mark\": \"line\", \"encoding\": {\"x\": {\"type\": \"temporal\", \"axis\": {\"title\": \"Date\"}, \"field\": \"date\", \"timeUnit\": \"yearmonthdate\"}, \"y\": {\"type\": \"quantitative\", \"axis\": {\"title\": \"Deposit Amount\"}, \"field\": \"cumulative_deposits\"}}, \"title\": \"Cumulative BTC Deposits Over Time\", \"width\": 900, \"$schema\": \"https://vega.github.io/schema/vega-lite/v4.8.1.json\", \"datasets\": {\"data-504a347816fa1a307d5b5ea0d4d59861\": [{\"date\": \"2021-12-17T00:00:00\", \"asset\": \"SOL\", \"is_high_voltage\": false, \"cumulative_deposits\": 27.00000000000001}, {\"date\": \"2021-12-18T00:00:00\", \"asset\": \"SOL\", \"is_high_voltage\": false, \"cumulative_deposits\": 11091.6}, {\"date\": \"2021-12-19T00:00:00\", \"asset\": \"SOL\", \"is_high_voltage\": false, \"cumulative_deposits\": 17470.414591101}, {\"date\": \"2021-12-20T00:00:00\", \"asset\": \"SOL\", \"is_high_voltage\": false, \"cumulative_deposits\": 27894.097661101012}, {\"date\": \"2021-12-21T00:00:00\", \"asset\": \"SOL\", \"is_high_voltage\": false, \"cumulative_deposits\": 33279.84499110102}, {\"date\": \"2021-12-22T00:00:00\", \"asset\": \"SOL\", \"is_high_voltage\": false, \"cumulative_deposits\": 38835.106586537026}, {\"date\": \"2021-12-23T00:00:00\", \"asset\": \"SOL\", \"is_high_voltage\": false, \"cumulative_deposits\": 43376.14441653702}, {\"date\": \"2021-12-24T00:00:00\", \"asset\": \"SOL\", \"is_high_voltage\": false, \"cumulative_deposits\": 60741.826186536986}, {\"date\": \"2021-12-25T00:00:00\", \"asset\": \"SOL\", \"is_high_voltage\": false, \"cumulative_deposits\": 62733.55966653698}, {\"date\": \"2021-12-26T00:00:00\", \"asset\": \"SOL\", \"is_high_voltage\": false, \"cumulative_deposits\": 68108.42020653698}, {\"date\": \"2021-12-27T00:00:00\", \"asset\": \"SOL\", \"is_high_voltage\": false, \"cumulative_deposits\": 84238.47856653697}, {\"date\": \"2021-12-28T00:00:00\", \"asset\": \"SOL\", \"is_high_voltage\": false, \"cumulative_deposits\": 84973.19316253698}, {\"date\": \"2021-12-29T00:00:00\", \"asset\": \"SOL\", \"is_high_voltage\": false, \"cumulative_deposits\": 84973.19328253697}, {\"date\": \"2021-12-31T00:00:00\", \"asset\": \"SOL\", \"is_high_voltage\": false, \"cumulative_deposits\": 85942.61555253698}, {\"date\": \"2022-01-01T00:00:00\", \"asset\": \"SOL\", \"is_high_voltage\": false, \"cumulative_deposits\": 85942.64155253698}, {\"date\": \"2022-01-02T00:00:00\", \"asset\": \"SOL\", \"is_high_voltage\": false, \"cumulative_deposits\": 86172.76365253697}, {\"date\": \"2022-01-03T00:00:00\", \"asset\": \"SOL\", \"is_high_voltage\": false, \"cumulative_deposits\": 93325.55489253698}, {\"date\": \"2022-01-04T00:00:00\", \"asset\": \"SOL\", \"is_high_voltage\": false, \"cumulative_deposits\": 107798.51659253698}, {\"date\": \"2022-01-05T00:00:00\", \"asset\": \"SOL\", \"is_high_voltage\": false, \"cumulative_deposits\": 115890.44579253698}, {\"date\": \"2022-01-06T00:00:00\", \"asset\": \"SOL\", \"is_high_voltage\": false, \"cumulative_deposits\": 128716.92388253698}, {\"date\": \"2022-01-07T00:00:00\", \"asset\": \"SOL\", \"is_high_voltage\": false, \"cumulative_deposits\": 130584.59573253698}, {\"date\": \"2022-01-08T00:00:00\", \"asset\": \"SOL\", \"is_high_voltage\": false, \"cumulative_deposits\": 134209.86115753697}, {\"date\": \"2022-01-09T00:00:00\", \"asset\": \"SOL\", \"is_high_voltage\": false, \"cumulative_deposits\": 135220.21915753698}, {\"date\": \"2022-01-10T00:00:00\", \"asset\": \"SOL\", \"is_high_voltage\": false, \"cumulative_deposits\": 137019.83556646697}, {\"date\": \"2022-01-11T00:00:00\", \"asset\": \"SOL\", \"is_high_voltage\": false, \"cumulative_deposits\": 139156.180566467}, {\"date\": \"2022-01-12T00:00:00\", \"asset\": \"SOL\", \"is_high_voltage\": false, \"cumulative_deposits\": 142365.655566467}, {\"date\": \"2022-01-13T00:00:00\", \"asset\": \"SOL\", \"is_high_voltage\": false, \"cumulative_deposits\": 150114.839566467}, {\"date\": \"2022-01-14T00:00:00\", \"asset\": \"SOL\", \"is_high_voltage\": false, \"cumulative_deposits\": 157129.161414136}, {\"date\": \"2022-01-15T00:00:00\", \"asset\": \"SOL\", \"is_high_voltage\": false, \"cumulative_deposits\": 160335.645514136}, {\"date\": \"2022-01-16T00:00:00\", \"asset\": \"SOL\", \"is_high_voltage\": false, \"cumulative_deposits\": 184532.70631413595}, {\"date\": \"2022-01-17T00:00:00\", \"asset\": \"SOL\", \"is_high_voltage\": false, \"cumulative_deposits\": 188634.63408113597}, {\"date\": \"2022-01-18T00:00:00\", \"asset\": \"SOL\", \"is_high_voltage\": false, \"cumulative_deposits\": 190956.83278113598}, {\"date\": \"2022-01-19T00:00:00\", \"asset\": \"SOL\", \"is_high_voltage\": false, \"cumulative_deposits\": 195643.236881136}, {\"date\": \"2022-01-20T00:00:00\", \"asset\": \"SOL\", \"is_high_voltage\": false, \"cumulative_deposits\": 198156.97808113598}, {\"date\": \"2022-01-21T00:00:00\", \"asset\": \"SOL\", \"is_high_voltage\": false, \"cumulative_deposits\": 204145.324181137}, {\"date\": \"2022-01-22T00:00:00\", \"asset\": \"SOL\", \"is_high_voltage\": false, \"cumulative_deposits\": 205299.230381137}, {\"date\": \"2022-01-23T00:00:00\", \"asset\": \"SOL\", \"is_high_voltage\": false, \"cumulative_deposits\": 209059.23938113698}, {\"date\": \"2022-01-24T00:00:00\", \"asset\": \"SOL\", \"is_high_voltage\": false, \"cumulative_deposits\": 210263.01498113698}, {\"date\": \"2022-01-25T00:00:00\", \"asset\": \"SOL\", \"is_high_voltage\": false, \"cumulative_deposits\": 211651.074231137}, {\"date\": \"2022-01-26T00:00:00\", \"asset\": \"SOL\", \"is_high_voltage\": false, \"cumulative_deposits\": 216009.05123113698}, {\"date\": \"2022-01-27T00:00:00\", \"asset\": \"SOL\", \"is_high_voltage\": false, \"cumulative_deposits\": 217907.132231137}, {\"date\": \"2022-01-28T00:00:00\", \"asset\": \"SOL\", \"is_high_voltage\": false, \"cumulative_deposits\": 266939.449031138}, {\"date\": \"2022-01-29T00:00:00\", \"asset\": \"SOL\", \"is_high_voltage\": false, \"cumulative_deposits\": 268288.889202138}, {\"date\": \"2022-01-30T00:00:00\", \"asset\": \"SOL\", \"is_high_voltage\": false, \"cumulative_deposits\": 269804.187802138}, {\"date\": \"2022-01-31T00:00:00\", \"asset\": \"SOL\", \"is_high_voltage\": false, \"cumulative_deposits\": 270680.274002138}, {\"date\": \"2022-02-01T00:00:00\", \"asset\": \"SOL\", \"is_high_voltage\": false, \"cumulative_deposits\": 273303.247102138}, {\"date\": \"2022-02-02T00:00:00\", \"asset\": \"SOL\", \"is_high_voltage\": false, \"cumulative_deposits\": 275302.749202138}, {\"date\": \"2022-02-03T00:00:00\", \"asset\": \"SOL\", \"is_high_voltage\": false, \"cumulative_deposits\": 277888.991202138}, {\"date\": \"2022-02-04T00:00:00\", \"asset\": \"SOL\", \"is_high_voltage\": false, \"cumulative_deposits\": 282803.343202138}, {\"date\": \"2022-02-05T00:00:00\", \"asset\": \"SOL\", \"is_high_voltage\": false, \"cumulative_deposits\": 283316.907202138}, {\"date\": \"2022-02-06T00:00:00\", \"asset\": \"SOL\", \"is_high_voltage\": false, \"cumulative_deposits\": 286004.341202138}, {\"date\": \"2022-02-07T00:00:00\", \"asset\": \"SOL\", \"is_high_voltage\": false, \"cumulative_deposits\": 289095.515202138}, {\"date\": \"2022-02-08T00:00:00\", \"asset\": \"SOL\", \"is_high_voltage\": false, \"cumulative_deposits\": 291490.738102138}, {\"date\": \"2022-02-09T00:00:00\", \"asset\": \"SOL\", \"is_high_voltage\": false, \"cumulative_deposits\": 292435.875021126}, {\"date\": \"2022-02-10T00:00:00\", \"asset\": \"SOL\", \"is_high_voltage\": false, \"cumulative_deposits\": 295104.949021126}, {\"date\": \"2022-02-11T00:00:00\", \"asset\": \"SOL\", \"is_high_voltage\": false, \"cumulative_deposits\": 298800.395721126}, {\"date\": \"2022-02-12T00:00:00\", \"asset\": \"SOL\", \"is_high_voltage\": false, \"cumulative_deposits\": 299879.796721126}, {\"date\": \"2022-02-13T00:00:00\", \"asset\": \"SOL\", \"is_high_voltage\": false, \"cumulative_deposits\": 300393.056721126}, {\"date\": \"2022-02-14T00:00:00\", \"asset\": \"SOL\", \"is_high_voltage\": false, \"cumulative_deposits\": 300745.326921126}, {\"date\": \"2022-02-15T00:00:00\", \"asset\": \"SOL\", \"is_high_voltage\": false, \"cumulative_deposits\": 301346.231921126}, {\"date\": \"2022-02-16T00:00:00\", \"asset\": \"SOL\", \"is_high_voltage\": false, \"cumulative_deposits\": 305124.389221126}, {\"date\": \"2022-02-17T00:00:00\", \"asset\": \"SOL\", \"is_high_voltage\": false, \"cumulative_deposits\": 305788.215221126}, {\"date\": \"2022-02-18T00:00:00\", \"asset\": \"SOL\", \"is_high_voltage\": false, \"cumulative_deposits\": 307460.280821126}, {\"date\": \"2022-02-19T00:00:00\", \"asset\": \"SOL\", \"is_high_voltage\": false, \"cumulative_deposits\": 312284.202021126}, {\"date\": \"2022-02-20T00:00:00\", \"asset\": \"SOL\", \"is_high_voltage\": false, \"cumulative_deposits\": 313013.711021126}, {\"date\": \"2022-02-21T00:00:00\", \"asset\": \"SOL\", \"is_high_voltage\": false, \"cumulative_deposits\": 313917.78502112604}, {\"date\": \"2022-02-22T00:00:00\", \"asset\": \"SOL\", \"is_high_voltage\": false, \"cumulative_deposits\": 314464.751021126}, {\"date\": \"2022-02-23T00:00:00\", \"asset\": \"SOL\", \"is_high_voltage\": false, \"cumulative_deposits\": 314734.552840976}, {\"date\": \"2022-02-24T00:00:00\", \"asset\": \"SOL\", \"is_high_voltage\": false, \"cumulative_deposits\": 318622.954840976}, {\"date\": \"2022-02-25T00:00:00\", \"asset\": \"SOL\", \"is_high_voltage\": false, \"cumulative_deposits\": 320257.27934097603}, {\"date\": \"2022-02-26T00:00:00\", \"asset\": \"SOL\", \"is_high_voltage\": false, \"cumulative_deposits\": 320800.341279676}, {\"date\": \"2022-02-27T00:00:00\", \"asset\": \"SOL\", \"is_high_voltage\": false, \"cumulative_deposits\": 321024.908279676}, {\"date\": \"2022-02-28T00:00:00\", \"asset\": \"SOL\", \"is_high_voltage\": false, \"cumulative_deposits\": 321741.490279676}, {\"date\": \"2022-03-01T00:00:00\", \"asset\": \"SOL\", \"is_high_voltage\": false, \"cumulative_deposits\": 321969.074494093}, {\"date\": \"2022-03-02T00:00:00\", \"asset\": \"SOL\", \"is_high_voltage\": false, \"cumulative_deposits\": 322284.469294093}, {\"date\": \"2022-03-03T00:00:00\", \"asset\": \"SOL\", \"is_high_voltage\": false, \"cumulative_deposits\": 324029.838494093}, {\"date\": \"2022-03-04T00:00:00\", \"asset\": \"SOL\", \"is_high_voltage\": false, \"cumulative_deposits\": 324704.820494093}, {\"date\": \"2022-03-05T00:00:00\", \"asset\": \"SOL\", \"is_high_voltage\": false, \"cumulative_deposits\": 325094.34244956303}, {\"date\": \"2022-03-06T00:00:00\", \"asset\": \"SOL\", \"is_high_voltage\": false, \"cumulative_deposits\": 325452.61944956303}, {\"date\": \"2022-03-07T00:00:00\", \"asset\": \"SOL\", \"is_high_voltage\": false, \"cumulative_deposits\": 325799.278549563}, {\"date\": \"2022-03-08T00:00:00\", \"asset\": \"SOL\", \"is_high_voltage\": false, \"cumulative_deposits\": 326374.441549563}, {\"date\": \"2022-03-09T00:00:00\", \"asset\": \"SOL\", \"is_high_voltage\": false, \"cumulative_deposits\": 327035.393549563}, {\"date\": \"2022-03-10T00:00:00\", \"asset\": \"SOL\", \"is_high_voltage\": false, \"cumulative_deposits\": 328479.221549563}, {\"date\": \"2022-03-11T00:00:00\", \"asset\": \"SOL\", \"is_high_voltage\": false, \"cumulative_deposits\": 329167.428549563}, {\"date\": \"2022-03-12T00:00:00\", \"asset\": \"SOL\", \"is_high_voltage\": false, \"cumulative_deposits\": 330082.820549563}, {\"date\": \"2022-03-13T00:00:00\", \"asset\": \"SOL\", \"is_high_voltage\": false, \"cumulative_deposits\": 330153.302549563}, {\"date\": \"2022-03-14T00:00:00\", \"asset\": \"SOL\", \"is_high_voltage\": false, \"cumulative_deposits\": 330534.20884956303}, {\"date\": \"2022-03-15T00:00:00\", \"asset\": \"SOL\", \"is_high_voltage\": false, \"cumulative_deposits\": 330787.99684956303}, {\"date\": \"2022-03-16T00:00:00\", \"asset\": \"SOL\", \"is_high_voltage\": false, \"cumulative_deposits\": 330964.707849563}, {\"date\": \"2022-03-17T00:00:00\", \"asset\": \"SOL\", \"is_high_voltage\": false, \"cumulative_deposits\": 334450.558549563}, {\"date\": \"2022-03-18T00:00:00\", \"asset\": \"SOL\", \"is_high_voltage\": false, \"cumulative_deposits\": 335419.514109563}, {\"date\": \"2022-03-19T00:00:00\", \"asset\": \"SOL\", \"is_high_voltage\": false, \"cumulative_deposits\": 335610.625609563}, {\"date\": \"2022-03-20T00:00:00\", \"asset\": \"SOL\", \"is_high_voltage\": false, \"cumulative_deposits\": 335958.274609563}, {\"date\": \"2022-03-21T00:00:00\", \"asset\": \"SOL\", \"is_high_voltage\": false, \"cumulative_deposits\": 338043.852909563}, {\"date\": \"2022-03-22T00:00:00\", \"asset\": \"SOL\", \"is_high_voltage\": false, \"cumulative_deposits\": 338663.797909563}, {\"date\": \"2022-03-23T00:00:00\", \"asset\": \"SOL\", \"is_high_voltage\": false, \"cumulative_deposits\": 339117.330909563}, {\"date\": \"2022-03-24T00:00:00\", \"asset\": \"SOL\", \"is_high_voltage\": false, \"cumulative_deposits\": 340942.306809563}, {\"date\": \"2022-03-25T00:00:00\", \"asset\": \"SOL\", \"is_high_voltage\": false, \"cumulative_deposits\": 342275.304117458}, {\"date\": \"2022-03-26T00:00:00\", \"asset\": \"SOL\", \"is_high_voltage\": false, \"cumulative_deposits\": 342866.380117458}, {\"date\": \"2022-03-27T00:00:00\", \"asset\": \"SOL\", \"is_high_voltage\": false, \"cumulative_deposits\": 343699.287117458}]}}, {\"mode\": \"vega-lite\"});\n",
       "</script>"
      ],
      "text/plain": [
       "alt.Chart(...)"
      ]
     },
     "execution_count": 46,
     "metadata": {},
     "output_type": "execute_result"
    }
   ],
   "source": [
    "alt.Chart(df_cumulative_deposits_by_asset[(df_cumulative_deposits_by_asset['asset'] == 'SOL') & ~(df_cumulative_deposits_by_asset['is_high_voltage'])]).mark_line().encode(\n",
    "    x=alt.X('yearmonthdate(date)',axis=alt.Axis(title='Date')),\n",
    "    y=alt.Y('cumulative_deposits', axis=alt.Axis(title='Deposit Amount'))\n",
    ").properties(\n",
    "    width=900,\n",
    "    title='Cumulative BTC Deposits Over Time'\n",
    ")"
   ]
  },
  {
   "cell_type": "markdown",
   "metadata": {},
   "source": [
    "# CoinGecko"
   ]
  },
  {
   "cell_type": "code",
   "execution_count": 39,
   "metadata": {},
   "outputs": [],
   "source": [
    "cg = CoinGeckoAPI()"
   ]
  },
  {
   "cell_type": "code",
   "execution_count": 40,
   "metadata": {},
   "outputs": [],
   "source": [
    "asset_price = cg.get_price(ids='solana, bitcoin, msol, ethereum, ftx-token, serum, mango-markets, socean-staked-sol, saber, terra-luna, raydium', vs_currencies='usd')"
   ]
  },
  {
   "cell_type": "code",
   "execution_count": 42,
   "metadata": {},
   "outputs": [],
   "source": [
    "df_price = pd.DataFrame(asset_price)"
   ]
  },
  {
   "cell_type": "code",
   "execution_count": 43,
   "metadata": {},
   "outputs": [
    {
     "data": {
      "text/html": [
       "<div>\n",
       "<style scoped>\n",
       "    .dataframe tbody tr th:only-of-type {\n",
       "        vertical-align: middle;\n",
       "    }\n",
       "\n",
       "    .dataframe tbody tr th {\n",
       "        vertical-align: top;\n",
       "    }\n",
       "\n",
       "    .dataframe thead th {\n",
       "        text-align: right;\n",
       "    }\n",
       "</style>\n",
       "<table border=\"1\" class=\"dataframe\">\n",
       "  <thead>\n",
       "    <tr style=\"text-align: right;\">\n",
       "      <th></th>\n",
       "      <th>ethereum</th>\n",
       "      <th>terra-luna</th>\n",
       "      <th>bitcoin</th>\n",
       "      <th>ftx-token</th>\n",
       "      <th>solana</th>\n",
       "      <th>socean-staked-sol</th>\n",
       "      <th>serum</th>\n",
       "      <th>raydium</th>\n",
       "      <th>msol</th>\n",
       "      <th>mango-markets</th>\n",
       "      <th>saber</th>\n",
       "    </tr>\n",
       "  </thead>\n",
       "  <tbody>\n",
       "    <tr>\n",
       "      <th>usd</th>\n",
       "      <td>3132.6</td>\n",
       "      <td>90.52</td>\n",
       "      <td>44566</td>\n",
       "      <td>49.96</td>\n",
       "      <td>101.26</td>\n",
       "      <td>105.02</td>\n",
       "      <td>2.9</td>\n",
       "      <td>3.03</td>\n",
       "      <td>105.06</td>\n",
       "      <td>0.155032</td>\n",
       "      <td>0.036002</td>\n",
       "    </tr>\n",
       "  </tbody>\n",
       "</table>\n",
       "</div>"
      ],
      "text/plain": [
       "     ethereum  terra-luna  bitcoin  ftx-token  solana  socean-staked-sol  \\\n",
       "usd    3132.6       90.52    44566      49.96  101.26             105.02   \n",
       "\n",
       "     serum  raydium    msol  mango-markets     saber  \n",
       "usd    2.9     3.03  105.06       0.155032  0.036002  "
      ]
     },
     "execution_count": 43,
     "metadata": {},
     "output_type": "execute_result"
    }
   ],
   "source": [
    "df_price"
   ]
  },
  {
   "cell_type": "code",
   "execution_count": 53,
   "metadata": {},
   "outputs": [
    {
     "data": {
      "text/plain": [
       "{'id': 'solana',\n",
       " 'symbol': 'sol',\n",
       " 'name': 'Solana',\n",
       " 'localization': {'en': 'Solana',\n",
       "  'de': 'Solana',\n",
       "  'es': 'Solana',\n",
       "  'fr': 'Solana',\n",
       "  'it': 'Solana',\n",
       "  'pl': 'Solana',\n",
       "  'ro': 'Solana',\n",
       "  'hu': 'Solana',\n",
       "  'nl': 'Solana',\n",
       "  'pt': 'Solana',\n",
       "  'sv': 'Solana',\n",
       "  'vi': 'Solana',\n",
       "  'tr': 'Solana',\n",
       "  'ru': 'Solana',\n",
       "  'ja': 'ソラナ',\n",
       "  'zh': 'Solana',\n",
       "  'zh-tw': 'Solana',\n",
       "  'ko': 'Solana',\n",
       "  'ar': 'Solana',\n",
       "  'th': 'Solana',\n",
       "  'id': 'Solana'},\n",
       " 'image': {'thumb': 'https://assets.coingecko.com/coins/images/4128/thumb/solana.png?1640133422',\n",
       "  'small': 'https://assets.coingecko.com/coins/images/4128/small/solana.png?1640133422'}}"
      ]
     },
     "execution_count": 53,
     "metadata": {},
     "output_type": "execute_result"
    }
   ],
   "source": [
    "cg.get_coin_history_by_id('solana','03-11-2022')"
   ]
  },
  {
   "cell_type": "code",
   "execution_count": 71,
   "metadata": {},
   "outputs": [
    {
     "data": {
      "text/html": [
       "<div>\n",
       "<style scoped>\n",
       "    .dataframe tbody tr th:only-of-type {\n",
       "        vertical-align: middle;\n",
       "    }\n",
       "\n",
       "    .dataframe tbody tr th {\n",
       "        vertical-align: top;\n",
       "    }\n",
       "\n",
       "    .dataframe thead th {\n",
       "        text-align: right;\n",
       "    }\n",
       "</style>\n",
       "<table border=\"1\" class=\"dataframe\">\n",
       "  <thead>\n",
       "    <tr style=\"text-align: right;\">\n",
       "      <th></th>\n",
       "      <th>unix_time</th>\n",
       "      <th>price</th>\n",
       "    </tr>\n",
       "  </thead>\n",
       "  <tbody>\n",
       "    <tr>\n",
       "      <th>0</th>\n",
       "      <td>1639612800000</td>\n",
       "      <td>178.261934</td>\n",
       "    </tr>\n",
       "    <tr>\n",
       "      <th>1</th>\n",
       "      <td>1639699200000</td>\n",
       "      <td>176.805585</td>\n",
       "    </tr>\n",
       "    <tr>\n",
       "      <th>2</th>\n",
       "      <td>1639785600000</td>\n",
       "      <td>175.790638</td>\n",
       "    </tr>\n",
       "    <tr>\n",
       "      <th>3</th>\n",
       "      <td>1639872000000</td>\n",
       "      <td>182.970567</td>\n",
       "    </tr>\n",
       "    <tr>\n",
       "      <th>4</th>\n",
       "      <td>1639958400000</td>\n",
       "      <td>179.938399</td>\n",
       "    </tr>\n",
       "    <tr>\n",
       "      <th>...</th>\n",
       "      <td>...</td>\n",
       "      <td>...</td>\n",
       "    </tr>\n",
       "    <tr>\n",
       "      <th>98</th>\n",
       "      <td>1648080000000</td>\n",
       "      <td>94.919758</td>\n",
       "    </tr>\n",
       "    <tr>\n",
       "      <th>99</th>\n",
       "      <td>1648166400000</td>\n",
       "      <td>102.180228</td>\n",
       "    </tr>\n",
       "    <tr>\n",
       "      <th>100</th>\n",
       "      <td>1648252800000</td>\n",
       "      <td>98.646743</td>\n",
       "    </tr>\n",
       "    <tr>\n",
       "      <th>101</th>\n",
       "      <td>1648339200000</td>\n",
       "      <td>101.641210</td>\n",
       "    </tr>\n",
       "    <tr>\n",
       "      <th>102</th>\n",
       "      <td>1648357519000</td>\n",
       "      <td>101.489098</td>\n",
       "    </tr>\n",
       "  </tbody>\n",
       "</table>\n",
       "<p>103 rows × 2 columns</p>\n",
       "</div>"
      ],
      "text/plain": [
       "         unix_time       price\n",
       "0    1639612800000  178.261934\n",
       "1    1639699200000  176.805585\n",
       "2    1639785600000  175.790638\n",
       "3    1639872000000  182.970567\n",
       "4    1639958400000  179.938399\n",
       "..             ...         ...\n",
       "98   1648080000000   94.919758\n",
       "99   1648166400000  102.180228\n",
       "100  1648252800000   98.646743\n",
       "101  1648339200000  101.641210\n",
       "102  1648357519000  101.489098\n",
       "\n",
       "[103 rows x 2 columns]"
      ]
     },
     "execution_count": 71,
     "metadata": {},
     "output_type": "execute_result"
    }
   ],
   "source": [
    "pd.DataFrame(cg.get_coin_market_chart_by_id('solana',vs_currency='usd', days=102)['prices'],columns=['unix_time','price'])"
   ]
  },
  {
   "cell_type": "code",
   "execution_count": null,
   "metadata": {},
   "outputs": [],
   "source": []
  }
 ],
 "metadata": {
  "kernelspec": {
   "display_name": "Python 3",
   "language": "python",
   "name": "python3"
  },
  "language_info": {
   "codemirror_mode": {
    "name": "ipython",
    "version": 3
   },
   "file_extension": ".py",
   "mimetype": "text/x-python",
   "name": "python",
   "nbconvert_exporter": "python",
   "pygments_lexer": "ipython3",
   "version": "3.8.8"
  }
 },
 "nbformat": 4,
 "nbformat_minor": 5
}