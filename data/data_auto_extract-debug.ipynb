{
 "cells": [
  {
   "cell_type": "code",
   "execution_count": 4,
   "id": "c8866c00",
   "metadata": {},
   "outputs": [],
   "source": [
    "\"\"\"\n",
    "2022\n",
    "For Friktion Labs\n",
    "Done by: MordantBlack (enfamil#3658)\n",
    "\"\"\"\n",
    "\n",
    "import requests\n",
    "import pandas as pd\n",
    "import numpy as np\n",
    "from datetime import datetime, timedelta\n",
    "import schedule\n",
    "import time\n",
    "import threading\n",
    "import glob\n",
    "import os.path\n",
    "from pycoingecko import CoinGeckoAPI\n",
    "\n",
    "def run_query(query):  # A simple function to use requests.post to make the API call.\n",
    "    headers = {'X-API-KEY': 'BQYCaXaMZlqZrPCSQVsiJrKtxKRVcSe4'}\n",
    "    request = requests.post('https://graphql.bitquery.io/', json={'query': query}, headers=headers)\n",
    "    if request.status_code == 200:\n",
    "        return request.json()\n",
    "    else:\n",
    "        raise Exception('Query failed and return code is {}.{}'.format(request.status_code, query))"
   ]
  },
  {
   "cell_type": "code",
   "execution_count": 18,
   "id": "6d9a883e",
   "metadata": {},
   "outputs": [],
   "source": [
    "query_date = '\"2022-02-15\", \"2022-03-15\"'"
   ]
  },
  {
   "cell_type": "code",
   "execution_count": 25,
   "id": "c837c31c",
   "metadata": {},
   "outputs": [
    {
     "name": "stdout",
     "output_type": "stream",
     "text": [
      "Master sheet created with dates Updated!\n",
      "volt01_uu.csv updated with date range \"2022-02-15\", \"2022-03-15\"\n",
      "volt01_ts.csv updated with date range \"2022-02-15\", \"2022-03-15\"\n"
     ]
    }
   ],
   "source": [
    "query = \"\"\"\n",
    "query{\n",
    "solana(network: solana) {\n",
    "transfers(\n",
    "  date: {between: [\"\"\"+ query_date +\"\"\"]}\n",
    "  transferType: {is: transfer}\n",
    "      any: [{senderAddress: {in: [\n",
    "        \"Hxtb6APfNtf9m8jJjh7uYp8fCTGr9aeHxBSfiPqCrV6G\",\n",
    "        \"DA1M8mw7GnPNKU9ReANtHPQyuVzKZtsuuSbCyc2uX2du\",\n",
    "        \"6asST5hurmxJ8uFvh7ZRWkrMfSEzjEAJ4DNR1is3G6eH\",\n",
    "        \"FThcy5XXvab5u3jbA6NjWKdMNiCSV3oY5AAkvEvpa8wp\",\n",
    "        \"7KqHFuUksvNhrWgoacKkqyp2RwfBNdypCYgK9nxD1d6K\",\n",
    "        \"2P427N5sYcEXvZAZwqNzjXEHsBMESQoLyjNquTSmGPMb\",\n",
    "        \"B3yakZxwomkmnCxRr8ZmQtiWgtxtVBuCREDFDdAvcCVQ\",\n",
    "        \"A5MpyajTy6hdsg3S2em5ukcgY1ZBhxTxEKv8BgHajv1A\",\n",
    "        \"BH7Jg3f97FyeGxsPR7FFskvfqGiaLeUnJ9Ksda53Jj8h\",\n",
    "        \"5oV1Yf8q1oQgPYuHjepjmKFuaG2Wng9dzTqbSWhU5W2X\",\n",
    "        \"A6XsYxGj9wpqUZG81XwgQJ2zJ3efCbuWSQfnkHqUSmdM\"]}}]\n",
    ") {\n",
    "  amount\n",
    "  currency {\n",
    "    symbol\n",
    "  }\n",
    "  date {\n",
    "    date\n",
    "  }\n",
    "  transaction {\n",
    "    signer\n",
    "  }\n",
    "  sender {\n",
    "    address\n",
    "  }\n",
    "}\n",
    "}\n",
    "}\n",
    "\"\"\"\n",
    "\n",
    "result = run_query(query)\n",
    "# convert GraphQL json to pandas dataframe\n",
    "df = pd.json_normalize(result['data']['solana']['transfers'])\n",
    "# relabel columns\n",
    "df = df.rename(columns={\"date.date\": \"date\", \"currency.symbol\": \"asset\", \"transaction.signer\":\"signer\",\"sender.address\":\"sender\"})\n",
    "# IMPORTANT - if transaction signer & receiver is diff, drop row\n",
    "df = df.query(\"signer == sender\").reset_index(drop=True)\n",
    "\n",
    "df.to_csv(\"volt01_master.csv\", mode='a', header=False)\n",
    "print(\"Master sheet created with dates Updated!\") \n",
    "# read csv\n",
    "df_uu = pd.read_csv(\"volt01_master.csv\", index_col=0)\n",
    "df_ts = pd.read_csv(\"volt01_master.csv\", index_col=0)\n",
    "\n",
    "#---------------- UNIQUE USERS ----------------------------\n",
    "df_uu = df_uu.groupby(['asset', 'date']).size().reset_index(name='count')\n",
    "# remove duplicated rows if any\n",
    "df_uu.drop_duplicates(keep='first',inplace=True)\n",
    "# save Unique Users df to csv\n",
    "df_uu.to_csv(\"volt01_uu.csv\")\n",
    "print(\"volt01_uu.csv updated with date range \" + query_date)\n",
    "\n",
    "#---------------- TRANSACTION SIZE ----------------------------\n",
    "# sum up amount according to sender addresses by asset grp\n",
    "agg_functions = {'amount': 'sum'}\n",
    "df_ts = df_ts.groupby(['asset','sender']).agg(agg_functions).reset_index()\n",
    "# get average size of each asset grp\n",
    "agg_functions_2 = {'amount': 'mean'}\n",
    "df_ts = df_ts.groupby(['asset']).agg(agg_functions_2).reset_index()\n",
    "\n",
    "agg_functions = {'count': 'sum'}\n",
    "df_uu = df_uu.groupby(['asset']).agg(agg_functions).reset_index()\n",
    "df_merge = pd.merge(df_ts, df_uu, on=\"asset\")\n",
    "\n",
    "# get asset prices\n",
    "cg = CoinGeckoAPI()\n",
    "# SOL, BTC, mSOL, ETH, FTT, SRM\", \"MNGO\", \"scnSOL\", \"SBR\", \"LUNA\", \"RAY\"\n",
    "asset_price = cg.get_price(ids='solana, bitcoin, msol, ethereum, ftx-token, serum, mango-markets, socean-staked-sol, saber, terra-luna, raydium', vs_currencies='usd')\n",
    "df_price = pd.DataFrame(asset_price)\n",
    "df_price = df_price.rename(columns={\"solana\": \"SOL\", \"bitcoin\": \"BTC\", \"msol\": \"mSOL\", \n",
    "                     \"ethereum\": \"ETH\", \"ftx-token\": \"FTT\", \"serum\": \"SRM\", \n",
    "                     \"mango-markets\": \"MNGO\", \"socean-staked-sol\": \"scnSOL\", \n",
    "                     \"saber\": \"SBR\", \"terra-luna\": \"LUNA\", \"raydium\": \"RAY\"})\n",
    "df_price = df_price.T\n",
    "df_price = df_price.rename_axis('asset').reset_index()\n",
    "# Concatenate 2 tables tgt aligning assets\n",
    "final_df = pd.merge(df_merge, df_price, on='asset')\n",
    "# Get average transaction size in USD\n",
    "final_df[\"tx_size\"] = final_df[\"amount\"] * final_df[\"usd\"]\n",
    "final_df.sort_values(by=['tx_size'], inplace=True)\n",
    "final_df = final_df.fillna(0)\n",
    "# save Tx Size df to csv\n",
    "final_df.to_csv(\"volt01_ts.csv\")\n",
    "print(\"volt01_ts.csv updated with date range \" + query_date)"
   ]
  },
  {
   "cell_type": "code",
   "execution_count": null,
   "id": "3df064a5",
   "metadata": {},
   "outputs": [],
   "source": [
    "# Will need to manually keep in date range under query_date if run into errors\n",
    "extract_volt_data(\"volt01_master.csv\")"
   ]
  },
  {
   "cell_type": "code",
   "execution_count": null,
   "id": "9501d851",
   "metadata": {},
   "outputs": [],
   "source": [
    "extract_volt_data(\"volt01_master_wd.csv\")"
   ]
  },
  {
   "cell_type": "code",
   "execution_count": null,
   "id": "308cf762",
   "metadata": {},
   "outputs": [],
   "source": [
    "extract_volt_data(\"volt02_master.csv\")"
   ]
  },
  {
   "cell_type": "code",
   "execution_count": null,
   "id": "32b972d5",
   "metadata": {},
   "outputs": [],
   "source": [
    "extract_volt_data(\"volt02_master_wd.csv\")"
   ]
  },
  {
   "cell_type": "code",
   "execution_count": null,
   "id": "64c54f7b",
   "metadata": {},
   "outputs": [],
   "source": [
    "# If prefer to set a schedule for updating, below will run everyday at a certain time of your specification. \n",
    "# Leaving 2 minutes inbetween each function \n",
    "# when using .do, argument within function is placed in the following manner\n",
    "schedule.every().day.at(\"12:04\").do(extract_volt_data, \"volt01_master.csv\")\n",
    "schedule.every().day.at(\"12:06\").do(extract_volt_data, \"volt01_master_wd.csv\")\n",
    "schedule.every().day.at(\"12:08\").do(extract_volt_data, \"volt02_master.csv\")\n",
    "schedule.every().day.at(\"12:10\").do(extract_volt_data, \"volt02_master_wd.csv\")\n",
    "\n",
    "while True:\n",
    "    # Checks whether a scheduled task \n",
    "    # is pending to run or not\n",
    "    schedule.run_pending()\n",
    "    time.sleep(1)"
   ]
  },
  {
   "cell_type": "code",
   "execution_count": null,
   "id": "231dd64b",
   "metadata": {},
   "outputs": [],
   "source": []
  }
 ],
 "metadata": {
  "kernelspec": {
   "display_name": "Python 3 (ipykernel)",
   "language": "python",
   "name": "python3"
  },
  "language_info": {
   "codemirror_mode": {
    "name": "ipython",
    "version": 3
   },
   "file_extension": ".py",
   "mimetype": "text/x-python",
   "name": "python",
   "nbconvert_exporter": "python",
   "pygments_lexer": "ipython3",
   "version": "3.8.9"
  }
 },
 "nbformat": 4,
 "nbformat_minor": 5
}
